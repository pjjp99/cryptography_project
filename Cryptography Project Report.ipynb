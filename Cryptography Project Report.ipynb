{
 "cells": [
  {
   "cell_type": "markdown",
   "metadata": {},
   "source": [
    "# Cryptography Project Report"
   ]
  },
  {
   "cell_type": "markdown",
   "metadata": {},
   "source": [
    "Cryptography is defined to be the science or study of the techniques of secret writing, especially code and cipher systems, methods, and the like. In this project we will explore and analyse various encryption methods and their corresponding decryption methods in order to send and receive private messages. We will analyse the time complexities of these methods and also the security implications to reach a conclusion about their efficacy. We will start by considering some basic ciphers, then explore the RSA method - one of the most widely used methods today. We will look at how RSA encryption works, how different elements of it can be constructed and whether it is possible to feasibly break the encryption."
   ]
  },
  {
   "cell_type": "markdown",
   "metadata": {},
   "source": [
    "## Imported Functions\n",
    "Firstly we will import all the functions we need for this project:"
   ]
  },
  {
   "cell_type": "code",
   "execution_count": 1,
   "metadata": {},
   "outputs": [],
   "source": [
    "import re\n",
    "import itertools\n",
    "import sys\n",
    "import hashlib\n",
    "from random import randint, SystemRandom, getrandbits\n",
    "from week8 import gcd, gcd_ext, decompose\n",
    "from miller_rabin import is_prime\n",
    "from primitive_roots import is_sg_prime, is_prim_root_safe\n",
    "import numpy as np\n",
    "import matplotlib.pyplot as plt\n",
    "from timeit import default_timer as timer\n",
    "from math import ceil, sqrt, floor, log\n",
    "import pandas as pd \n",
    "import pyperclip"
   ]
  },
  {
   "cell_type": "markdown",
   "metadata": {},
   "source": [
    "# Part 1- Investigating different ciphers"
   ]
  },
  {
   "cell_type": "markdown",
   "metadata": {},
   "source": [
    "In this question, we have investigated three different ciphers. These include the Caeser Cipher, the Vigenere Cipher and the Affine Cipher. We have outlined ways of decrypting and encrypting code using each of the ciphers, aswell as producing a way of cracking each cipher."
   ]
  },
  {
   "cell_type": "markdown",
   "metadata": {},
   "source": [
    "## Caesar Cipher\n",
    "\n",
    "This section is based on ideas in [1].\n",
    "\n",
    "The Caesar Cypher is an encryption technique where every letter in a given word is replaced \n",
    "by a letter some fixed distance down the alphabet. The fixed distance is given to us by our encryption key. For example, if the word to be encrypted is '$MathProgram$' and the key is $4$, $M $would shift to $Q$, $a$ to $e$, $t$ to $x$ and so on; leading to the new ciphertext: $QexlTvskveq$. Considering there are only $26$ potentially different encryptions, it is quite a basic cipher rendering it straightforward to crack. However, the encryption step performed by the cipher is integrated into more complex ciphers such as the Affine and Vigenere ciphers.\n",
    "\n",
    "The cipher itself has been around for a very long time, dating back to around 100 BC where the Roman ruler Julius Caesar, used the cipher to send secret communications; hence the name 'Caeser Cipher'.\n",
    "\n",
    "To encrypt a message using the Caesar Cipher, we first worked out the order of each letter in the message (producing a string of numbers). Next we added the key to that number and used the reverse-order chr() function to output the new encrypted word. We also still ensured that the encrypted order was that of a letter using some 'wrap-around' techniques that are explained in the code. We finally, ensured that any symbols that aren't alphabetical were left unchanged, and added all of these encrypted symbols to a string and printed the new encrypted word.\n",
    "\n",
    "To decrypt a message, we used a very similar method, but instead we subtracted the key from the order of each character in the message. During encryption we shifted the letters forward so now we are shifting them backwards, hence the subtraction. We then used a very similar 'wrap-around' technique to the encryption code, in order to ensure that the orders of the decrypted characters are still letters. Finally, we outputted this result and left all the symbols that weren't letters unchanged.  "
   ]
  },
  {
   "cell_type": "markdown",
   "metadata": {},
   "source": [
    "   We start by defining the input functions."
   ]
  },
  {
   "cell_type": "code",
   "execution_count": 2,
   "metadata": {},
   "outputs": [],
   "source": [
    "# Caeser Cipher\n",
    "maxkey = 26 # Size of the alphabet\n",
    "# Asking for encryption or decryption, making it easier for the user to compute the algorithm\n",
    "def askEorD():\n",
    "    while True:\n",
    "        print('Do you wish to encrypt or decrypt a message? (e or d)')\n",
    "        EorD = input().lower() # Allowing the user to also input a capital E or D\n",
    "        if EorD in 'encrypt e decrypt d'.split(): # And the words 'encrypt' or 'decrypt', but the computer reads them as 'e' or 'd'\n",
    "            return EorD\n",
    "        else:\n",
    "            print('Please enter either \"encrypt\" or \"e\", or \"decrypt\" or \"d\".')\n",
    "# Asking for the message that the computer will encrypt/decrypt\n",
    "def askMsg():\n",
    "    print('Enter your message:')\n",
    "    return input()  \n",
    "\n",
    "# Asking for the encryption/decryption key           \n",
    "def askKey():\n",
    "    key = 0\n",
    "    while True:\n",
    "        print('Enter the key number (1-%s)' % (maxkey)) # Using %s string formatting\n",
    "        key = int(input()) # Assigning the input to the variable 'key'\n",
    "        if (key >= 1 and key <= maxkey): # Ensuring the key is in the correct set of numbers, if not then code will run again\n",
    "            return key"
   ]
  },
  {
   "cell_type": "markdown",
   "metadata": {},
   "source": [
    "Now we implement the Caeser Cipher to encrypt/decrypt the user's input message"
   ]
  },
  {
   "cell_type": "code",
   "execution_count": 3,
   "metadata": {},
   "outputs": [
    {
     "name": "stdout",
     "output_type": "stream",
     "text": [
      "Do you wish to encrypt or decrypt a message? (e or d)\n",
      "e\n",
      "Enter your message:\n",
      "g\n",
      "Enter the key number (1-26)\n",
      "5\n",
      "Your translated text is:\n",
      "l\n"
     ]
    }
   ],
   "source": [
    "# Code for the Encryption/Decryption, EorD sets to encryption or decryption\n",
    "def askTranslatedMessage(EorD, msg, key):\n",
    "    if EorD[0] == 'd':\n",
    "        key = -key # Negating the key for the use of decryption because we are then going from cipher to plaintext, hence reversing the affect that the key has on the text\n",
    "    translated = ''\n",
    "    # The loop that is responsible for the encryption/decryption\n",
    "    for symbol in msg:\n",
    "        if symbol.isalpha(): # Checks for only alphabetical characters, if a there is a symbol that isn't an alphabetical character then it stays unchanged\n",
    "            num = ord(symbol) # 'ord' function assigns each letter with the corresponding numerical value with respect to the ASCII values\n",
    "            num += key # Finding the new order after being shifted by the key\n",
    "            # Checking for upper case letters first - encryption is different to that for lower case, as the lower case letters are further along the ASCII number line\n",
    "            # Then shifting numbers so that they are in the correct range (i.e. between ord('A') and ord('Z'))\n",
    "            if symbol.isupper():\n",
    "                if num > ord('Z'): # Performing a 'wrap-around' technique to ensure the order of each encrypted letter is in the correct range\n",
    "                    num -= 26 # Use the number 26 as there are 26 letters in the alphabet\n",
    "                elif num < ord('A'):\n",
    "                    num += 26\n",
    "             # Checking for lower case letters and shifting numbers so that they are in the correct range (i.e. between ord('a') and ord('z'))    \n",
    "            elif symbol.islower():\n",
    "                if num > ord('z'): # Same technique that we used for the upper case letters\n",
    "                    num -= 26\n",
    "                elif num < ord('a'):\n",
    "                    num += 26\n",
    "            # Encrypting/decrypting the new numbers into letters using the chr() function and adding them to the translated string along with any symbols that were unchanged originally\n",
    "            translated += chr(num)\n",
    "        else:\n",
    "            translated += symbol # Adds the symbols that are not letters\n",
    "    return translated # Returning the new message\n",
    "\n",
    "EorD = askEorD()\n",
    "msg = askMsg()\n",
    "key = askKey()\n",
    "\n",
    "print('Your translated text is:')\n",
    "print(askTranslatedMessage(EorD, msg, key)) #Finalising the function and outputting the users encrypted/decrypted text"
   ]
  },
  {
   "cell_type": "markdown",
   "metadata": {},
   "source": [
    "### Caeser Cipher Crack\n",
    "To crack the Caeser Cipher, we output $26$ lists; whereby each list is the encrypted text shifted along by a different amount ranging from $1$-$26$. The list that looks most like sinsible English is the plaintext that was originally encrypted. There are only $26$ possible outputs for the Caesar cipher, showing that it is incredibly vulnerable to cracking and a poor choice of cipher if used for encrypting sensitive information. The small number of potential outputs also makes it simple for the user to spot what the original plaintext was.\n",
    "\n",
    "To find these lists, we first defined a function, 'letter_converter'. Mode $1$ of the function outputs a list of integers corresponding to the position of each letter in the encrypted word with respect to the general alphabet. Mode $2$ then finds the corresponding letter with respect to the alphabet after the integers from mode $1$ have been shifted by the given key. We then defined the 'crack' function, which first uses mode $1$ of the letter_converter function to convert the letters into integers, and then uses a for loop to shift these integers by a key-shift ranging from $1$-$26$. Finally, our function outputs $26$ lists corresponding to each key-shift after using mode 2 of the 'letter_converter' function."
   ]
  },
  {
   "cell_type": "markdown",
   "metadata": {},
   "source": [
    "We begin by defining the function that converts each letter of the user's input into integer values. "
   ]
  },
  {
   "cell_type": "code",
   "execution_count": 4,
   "metadata": {},
   "outputs": [],
   "source": [
    "# Caeser Cipher Crack\n",
    "\n",
    "def letter_converter(mode, input_char):\n",
    "    abc = \"abcdefghijklmnopqrstuvwxyz\" \n",
    "    # Setting up the two modes\n",
    "    # Mode 1 outputs the corresponding integer value with respect to the string 'abc' for each letter in the plaintext, i.e a=0, b=1, etc.\n",
    "    if mode == 1:\n",
    "        result = abc.find(input_char)\n",
    "        if result >= 0: \n",
    "            return result\n",
    "        \n",
    "    # Mode 2 outputs the corresponding letter/s when the Caeser cipher has been used for keys ranging from 1-26\n",
    "    elif mode == 2:\n",
    "        return abc[int(input_char)] # Finds the letter in 'abc' corresponding to the new, shifted integer value after the Caeser cipher has been implemented"
   ]
  },
  {
   "cell_type": "markdown",
   "metadata": {},
   "source": [
    "We will now define the function that performs the crack."
   ]
  },
  {
   "cell_type": "code",
   "execution_count": 5,
   "metadata": {},
   "outputs": [
    {
     "name": "stdout",
     "output_type": "stream",
     "text": [
      "Cipher: g\n",
      "[1]h\n",
      "[2]i\n",
      "[3]j\n",
      "[4]k\n",
      "[5]l\n",
      "[6]m\n",
      "[7]n\n",
      "[8]o\n",
      "[9]p\n",
      "[10]q\n",
      "[11]r\n",
      "[12]s\n",
      "[13]t\n",
      "[14]u\n",
      "[15]v\n",
      "[16]w\n",
      "[17]x\n",
      "[18]y\n",
      "[19]z\n",
      "[20]a\n",
      "[21]b\n",
      "[22]c\n",
      "[23]d\n",
      "[24]e\n",
      "[25]f\n",
      "\n",
      "Enter D if decrypted message has been found\n",
      "> d\n",
      "Decrypted message has been found\n"
     ]
    }
   ],
   "source": [
    "abc = \"abcdefghijklmnopqrstuvwxyz\"\n",
    "\n",
    "def crack(cipher):\n",
    "    plaintext = ''\n",
    "    # Creating the 26 strings of different messages with the key ranging from 1-26\n",
    "    for key in range(1,26):\n",
    "        plaintext += '[' + str(key) +']'\n",
    "        # Shifting every letter in the cipher by each key\n",
    "        for i in cipher:\n",
    "            # Ensuring only letters are used for encryption\n",
    "            if i in abc:\n",
    "                # Applying the aforementioned letter_converter function for each key, and creating 26 different lists that are then added to 'plaintext'\n",
    "                ascii_letter = letter_converter(1,i) # Using mode 1\n",
    "                ascii_letter = (ascii_letter + key) % 26 # Adding each key and using mod 26 (number of letters in 'abc') as a 'wrap-around' technique\n",
    "                plaintext += letter_converter(2, ascii_letter) # Using mode 2\n",
    "            else:\n",
    "                plaintext += i # Leaving any symbols that aren't in 'abc' as unchanged\n",
    "        plaintext += '\\n' # Leaving a line between each new line of 'plaintext'\n",
    "    print(plaintext)\n",
    "    print('Enter D if decrypted message has been found') # Gives user opportunity to chose if the message has been found or if the computer should carry on \n",
    "    response = input('> ')\n",
    "    if response.strip().upper().startswith('D'):\n",
    "        print('Decrypted message has been found')\n",
    "\n",
    "cipher = input(\"Cipher: \").lower() # Making the algorithm easier for the user to compute; just have to type their cipher into the text box and the 26 different possibilities appear, they can then chose what the encrypted message is\n",
    "crack(cipher)\n",
    "    \n",
    "\n",
    "# Outputs 26 strings of letters using different keys and you chose the correct word, hence making it quite easy to crack."
   ]
  },
  {
   "cell_type": "markdown",
   "metadata": {},
   "source": [
    "Here we have shown that using the ciphertext created above from the encryption part of the Caesar Cipher, that the $n^{th}$ output of the crack is indeed the original message inputted into the Caesar Cipher function, where $n = 26 - k$, where $k$ is the key chosen earlier."
   ]
  },
  {
   "cell_type": "markdown",
   "metadata": {},
   "source": [
    "## Vigenere Cipher\n",
    "\n",
    "This section is based on ideas in [2]\n",
    "\n",
    "The Vigenere Cipher is a more secure evolution of the Caeser Cipher. Instead of an integer, the key is\n",
    "now a word and each letter is paired with the corresponding letter of the plaintext. It is also polyalphabetic as it uses at least two cipher alphabets to encrypt the data, i.e. each letter in the plaintext is shifted by a different amount. The Vigenere square (shown below) is used to produce a new letter depending on the pairs. For example if the plaintext to be encrypted is $mathprogram$ and the key is $hadleigh$, then the first letter of plaintext $m$ is the column of the Vigenere square paired up with the first letter of the key $h$ which is the row. This combination outputs $t$; the first letter of this new encryption. If the key does not match the same number of elements as the plaintext then it will loop round. For example, if the plaintext is $mathprogram$ and the key is $hads$, then the key used in practise will actually be $hadshadshad$.\n",
    "\n",
    "\n",
    "\n",
    "Image of the Vigenere Square found in the folder under 'Vigenere Square'. Courtesy of [3].\n",
    "\n",
    "This multiple-layer system makes the cipher much harder than the Caeser Cipher to crack, as you will see later on in this set\n",
    "of code. For example, a $6$ letter piece of code with a $6$ character key would have approximately $3,000,000$ different combinations - $120,000$ times as many as the Caesar Cipher for the same key length, so to crack the Vigenere Cipher manually would essentially be impossible.\n",
    "\n",
    "The cipher dates back to the 16th century and was created by Blaise de Vigenère. It was deemed 'unbreakable' until 1854 where a mathematician named Charles Babbage cracked the cipher. \n",
    "\n",
    "To encrypt/decrypt a message using the Vigenere Ciphes, we first created a variable $num$ that stores the position of each letter of 'txt', in the string 'letters', i.e. $a = 0, b = 1$ etc. We then used the variable $keyInd$ to determine how far each encryption was a long the key, i.e. for the encryption of the first letter $keyInd = 0$ etc. We then used this $keyInd$ variable along with the key to find the numerical position of the associated key letter, i.e. when $keyInd = 0$ we find the number associated with the first letter of the key and so on. We then add this new number to the original 'num' if encrypting and subtract if decrypting. Next we use the modulo function to ensure that the value for num is between $0$ and the length of 'letters', so that a symbol from 'letters' is outputted. After that we worked out whether the letter is upper or lower case, found the letter corresponding to our new 'num' and added this letter to our list 'alist'. Finally, we ensured that any symbols that weren't in 'letters' after being capitalised were still added to 'alist', and then returned the final encrypted/decrypted word.\n"
   ]
  },
  {
   "cell_type": "code",
   "execution_count": 6,
   "metadata": {},
   "outputs": [],
   "source": [
    "# This code enables the user to pick their text and key, and will output an encryption/decryption of that text using the Vigenere Cipher\n",
    "\n",
    "letters = 'ABCDEFGHIJKLMNOPQRSTUVWXYZ'\n",
    "\n",
    "def vig(txt='', key='', typ=''):\n",
    "    # Setting up the Function, ensuring that all of the variables are in the correct format\n",
    "    if not txt: # I.e. if 'txt' is empty\n",
    "        print('Needs text')\n",
    "        return\n",
    "    if not key: # I.e. if 'key' is empty\n",
    "        print('Needs key')\n",
    "        return\n",
    "    if typ not in ('d', 'e'):\n",
    "        print('Type must be \"d\" or \"e\"')\n",
    "        return\n",
    "    \n",
    "    key = key.upper() # Changing ever lowercase letter in 'key' to uppercase\n",
    "    alist = [] # Stores the new encrypted/decrypted message\n",
    "    \n",
    "    keyInd = 0 # Start with the first letter in the key\n",
    "    for i in txt: # Apply the following code for each symbol in 'txt'\n",
    "        num = letters.find(i.upper())\n",
    "        if num != -1: # -1 implies that i.upper() was not found in the set 'letters'\n",
    "\n",
    "            if typ == 'e':\n",
    "                num += letters.find(key[keyInd]) # Then add if encrypting\n",
    "    \n",
    "            elif typ == 'd':\n",
    "                num -= letters.find(key[keyInd]) # Or subtract if decrypting\n",
    "            \n",
    "            num %= len(letters) # Ensures that 'num' is between 0 and the length of 'letters', to ensure a letter is outputted\n",
    "            \n",
    "            # The new encrypted/decrypted symbol is the letter associated with the new 'num' calculated above, i.e. if num = 3, then the new letter would be 'd'\n",
    "            # Add this new symbol to the end of our list, 'alist'\n",
    "            if i.isupper(): # Sorts the upper-case letters\n",
    "                alist.append(letters[num])\n",
    "            elif i.islower(): # Sorts the lower-case letters\n",
    "                alist.append(letters[num].lower())\n",
    "                \n",
    "            keyInd += 1 # Move onto the next letter in the key, then cycle through the key again if 'txt' has more letters than 'key'\n",
    "            if keyInd == len(key):\n",
    "                keyInd = 0 # Goes back to the start of 'key'\n",
    "        else:\n",
    "            # If the symbol isn't a letter, add it to the list, 'alist', without encryption/decryption\n",
    "            alist.append(i)\n",
    "    return ''.join(alist)\n"
   ]
  },
  {
   "cell_type": "markdown",
   "metadata": {},
   "source": [
    "An example."
   ]
  },
  {
   "cell_type": "code",
   "execution_count": 7,
   "metadata": {},
   "outputs": [
    {
     "data": {
      "text/plain": [
       "'TeesDysrcot'"
      ]
     },
     "execution_count": 7,
     "metadata": {},
     "output_type": "execute_result"
    }
   ],
   "source": [
    "# We use the message 'MathProgram', key 'hello', and choose to encrypt\n",
    "vig('MathProgram', 'hello', 'e')"
   ]
  },
  {
   "cell_type": "markdown",
   "metadata": {},
   "source": [
    "### Vigenere cipher crack"
   ]
  },
  {
   "cell_type": "markdown",
   "metadata": {},
   "source": [
    "This section is based on ideas in [2], [4], [5], [6] and [7]."
   ]
  },
  {
   "cell_type": "markdown",
   "metadata": {},
   "source": [
    "Below is the algorithm for ciphering an deciphering the text which we will be using for our crack"
   ]
  },
  {
   "cell_type": "code",
   "execution_count": 8,
   "metadata": {},
   "outputs": [],
   "source": [
    "letters = 'ABCDEFGHIJKLMNOPQRSTUVWXYZ'\n",
    "\n",
    "def vig(txt='', key='', typ=''):\n",
    "    # Setting up the function, ensuring that all of the variables are in the correct format\n",
    "    if not txt:\n",
    "        print('Needs text')\n",
    "        return\n",
    "    if not key:\n",
    "        print('Needs key')\n",
    "        return\n",
    "    if typ not in ('d', 'e'):\n",
    "        print('Type must be \"d\" or \"e\"')\n",
    "        return\n",
    "    \n",
    "    key = key.upper()\n",
    "    alist = [] # Stores the new encrypted/decrypted message\n",
    "    \n",
    "    keyInd = 0 # Start with the first letter in the key\n",
    "    for i in txt: # Apply the following code for each symbol in 'txt'\n",
    "        num = letters.find(i.upper())\n",
    "        if num != -1: # -1 implies that i.upper() was not found in the set 'letters'\n",
    "            if typ == 'e':\n",
    "                num += letters.find(key[keyInd]) # Then add if encrypting\n",
    "            elif typ == 'd':\n",
    "                num -= letters.find(key[keyInd]) # Or subtract if decrypting\n",
    "            \n",
    "            num %= len(letters) # Ensures that 'num' is between 0 and 25, to ensure a letter is outputted\n",
    "            \n",
    "            # The new encrypted/decrypted symbol is the letter associated with 'num', i.e. if num = 3, then the new letter would be 'c'\n",
    "            # Add this new symbol to the end of our list, 'alist'\n",
    "            if i.isupper(): # Sorts the upper-case letters\n",
    "                alist.append(letters[num])\n",
    "            elif i.islower(): # Sorts the lower-case letters\n",
    "                alist.append(letters[num].lower())\n",
    "                \n",
    "            keyInd += 1 # Move onto the next letter in the key, then cycle through the key again if 'txt' has more letters than 'key'\n",
    "            if keyInd == len(key):\n",
    "                keyInd = 0\n",
    "        else:\n",
    "            # If the symbol isn't a letter, add it to the list, 'alist', without encryption/decryption\n",
    "            alist.append(i)\n",
    "    return ''.join(alist)"
   ]
  },
  {
   "cell_type": "markdown",
   "metadata": {},
   "source": [
    "#### Crack using method of Dictionary attack"
   ]
  },
  {
   "cell_type": "markdown",
   "metadata": {},
   "source": [
    "There are two methods used to crack the vigenere cipher: a dictionary attack or a method developed by Charles Babbage which uses frequency analysis to crack the cipher. We'll start by discussing the former first since it is less intricate and employs brute force rather than clever computational tricks. \n",
    "\n",
    "A dictionary attack can only be used if the key is a word from the dictionary because the method involves testing words in the dictionary against the ciphertext and seeing if the resulting deciphered text is sensible english. \n",
    "\n",
    "We start by loading the dictionary into our code and using each word as a potential key in our decryption algorithm. Next we take the deciphered text and test it against an algorithm which determines if the text contains sensible english from the preloaded dictionary. If the algorithm determines the text as comprehensible, the algorithm is stopped and the resulting message is shown to the operator. However, if the operator believes that the message is incorrect they can resume the algorithm so more words will be tested as potential keys for decryption. This is continued until the correct message is found. We will demonstrate how a dictionary attack is performed below.\n",
    "\n",
    "After defining a function we will show an example of how it is implemented where need be."
   ]
  },
  {
   "cell_type": "markdown",
   "metadata": {},
   "source": [
    "Firstly, we will create functions which will allow us to test whether a message matches with English in a dictionary. We start by creating a function that takes the string of the English dictionary and outputs a list of words"
   ]
  },
  {
   "cell_type": "code",
   "execution_count": 9,
   "metadata": {},
   "outputs": [],
   "source": [
    "# We define characters that reliable ciphertext will contain\n",
    "\n",
    "UPPERCASE = 'ABCDEFGHIJKLMNOPQRSTUVWXYZ'\n",
    "CHARACTERS = UPPERCASE + UPPERCASE.lower() + ' \\t\\n'\n",
    "\n",
    "# Create dictionary function\n",
    "\n",
    "def Dictionary():\n",
    "    eng_dictionary = open('dictionary.txt')# Opens dictionary\n",
    "    english_words = eng_dictionary.read().split('\\n') \n",
    "    # Converts string of words to list of strings where each string is an individual word\n",
    "    # We use '\\n' because each word is on a new line\n",
    "    return english_words\n",
    "\n",
    "englishwords = Dictionary()"
   ]
  },
  {
   "cell_type": "markdown",
   "metadata": {},
   "source": [
    "Next we must have a checking function that removes any characters which don't fall into the category of either a 'letter' or 'space'."
   ]
  },
  {
   "cell_type": "code",
   "execution_count": 10,
   "metadata": {},
   "outputs": [],
   "source": [
    "def remove_noncharacters(message):  # Reduces the message to just letters and spaces\n",
    "    lettersandspaces = []  # Creates an empty list which we will fill with letters and spaces\n",
    "    for character in message:\n",
    "        if character in CHARACTERS:\n",
    "            lettersandspaces.append(character)\n",
    "    return ''.join(lettersandspaces)  # The join function converts the list of character strings back to a string and joins the characters to make words"
   ]
  },
  {
   "cell_type": "markdown",
   "metadata": {},
   "source": [
    "We see an example of this below how the letters and spaces remain intact but the non-characters have been removed."
   ]
  },
  {
   "cell_type": "code",
   "execution_count": 11,
   "metadata": {},
   "outputs": [
    {
     "data": {
      "text/plain": [
       "'test one'"
      ]
     },
     "execution_count": 11,
     "metadata": {},
     "output_type": "execute_result"
    }
   ],
   "source": [
    "remove_noncharacters('test on-;e')"
   ]
  },
  {
   "cell_type": "markdown",
   "metadata": {},
   "source": [
    "Now we must create a function that gives us a measure of how much the message matches with plain text English. We will score one point for a match and divide the total number of matches by the the total numbers of words in the text to give us a measure of the matches. To obtain a match score, we need to test if each word in the message matches with a word in the dictionary."
   ]
  },
  {
   "cell_type": "code",
   "execution_count": 12,
   "metadata": {},
   "outputs": [],
   "source": [
    "def English_match_count(message):\n",
    "    # Our dictionary is in upper case so we must convert our message to upper case\n",
    "    message = message.upper() # Puts words into upper case letters\n",
    "    message = remove_noncharacters(message) # Removes symbols such as numbers and hyphens\n",
    "    Wordsinmessage = message.split() # Converts from a string into list of strings\n",
    "    # Each string is an individual word\n",
    "    if Wordsinmessage == []:\n",
    "        return 0.0 # If there are no words we return zero\n",
    "\n",
    "    matches = 0\n",
    "    for word in Wordsinmessage:\n",
    "        if word in englishwords: # Tests every word in the list to see if it matches with a word in the dictionary\n",
    "            matches = matches + 1\n",
    "    return float(matches) / len(Wordsinmessage) # Returns the final score"
   ]
  },
  {
   "cell_type": "markdown",
   "metadata": {},
   "source": [
    "We will show below how this function assigns a score to text. In our example three of our words will be English and one will be nonsense hence, we should get a score of $0.75$"
   ]
  },
  {
   "cell_type": "code",
   "execution_count": 13,
   "metadata": {},
   "outputs": [
    {
     "data": {
      "text/plain": [
       "0.75"
      ]
     },
     "execution_count": 13,
     "metadata": {},
     "output_type": "execute_result"
    }
   ],
   "source": [
    "English_match_count('apple pear fun jdidb')"
   ]
  },
  {
   "cell_type": "markdown",
   "metadata": {},
   "source": [
    "We now test to see if the match score is high enough for us to consider the text English."
   ]
  },
  {
   "cell_type": "code",
   "execution_count": 14,
   "metadata": {},
   "outputs": [],
   "source": [
    "def isEnglish(message, wordPercentage=40): # We select the word percentage to be 40% since this will seed out most of the non-English decryptions\n",
    "    MessageMatchScore = English_match_count(message) * 100 \n",
    "    if MessageMatchScore >= wordPercentage: # our function will only return a score if it is greater than the wordPercentage\n",
    "        return MessageMatchScore"
   ]
  },
  {
   "cell_type": "markdown",
   "metadata": {},
   "source": [
    "This completes our function which tests if a word is in the dictionary. The next stage is combining this into our function to perform the dictionary attack."
   ]
  },
  {
   "cell_type": "code",
   "execution_count": 15,
   "metadata": {},
   "outputs": [
    {
     "name": "stdout",
     "output_type": "stream",
     "text": [
      "Possible key: ACT\n",
      "Possible message: Dictionary attack\n",
      "Enter C if message is correct, or just press Enter to continue cracking:\n",
      "> c\n",
      "The cracked message is:\n",
      "Dictionary attack\n"
     ]
    }
   ],
   "source": [
    "text = 'Dictionary attack'\n",
    "ciphertext = vig(text, 'act', 'e')\n",
    "\n",
    "def main(ciphertext):\n",
    "    Plaintext = CrackVigenereDictAttack(ciphertext)\n",
    "\n",
    "    if Plaintext != None:\n",
    "        print('The cracked message is:')\n",
    "        print(Plaintext)\n",
    "    else:\n",
    "        print('Encryption key not found')\n",
    "\n",
    "\n",
    "def CrackVigenereDictAttack(ciphertext):\n",
    "    dic = open('dictionary.txt')\n",
    "    words = dic.read().split('\\n') \n",
    "    # Since there is one word on each line of the dictionary file, \n",
    "    # read()split() returns a list of strings where each strings is one word (one line) from the dictionary \n",
    "    dic.close()\n",
    "\n",
    "    for word in words:\n",
    "        deciphered_message = vig(ciphertext, word, 'd')\n",
    "        if isEnglish(deciphered_message, wordPercentage=40):\n",
    "    # Now we check with the user to see if the message looks like English and if the correct decryption key has been found\n",
    "            print('Possible key: ' + str(word))\n",
    "            print('Possible message: '+  deciphered_message[:50]) # first 50 characters, as this should be enough to see if the message is plain English\n",
    "            print('Enter C if message is correct, or just press Enter to continue cracking:')\n",
    "            response = input('> ')\n",
    "\n",
    "            if response.upper().startswith('C'):\n",
    "                return deciphered_message\n",
    "\n",
    "main(ciphertext)"
   ]
  },
  {
   "cell_type": "markdown",
   "metadata": {},
   "source": [
    "#### Security of a Dictionary attack\n",
    "\n",
    "Although the Vigenere cipher can in some respects be considered secure, if a dictionary word is used for the key then it is easily vulnerable to an attack. There are approximately $50000$ words in a common dictionary so it would take a short amount of time for a computer to run through all the words until the correct key is found. By making the ciphered text longer we can increase the time required to crack the cipher but ultimately, the correct key will eventually be found. Therefore, if a dictionary word is used as the key, the Vigenere cipher is not very secure.\n",
    "\n",
    "We say that a dictionary attack on the Vigenere cipher has a time complexity of $O(n)$, where $n$ is the number of words in the dictionary."
   ]
  },
  {
   "cell_type": "markdown",
   "metadata": {},
   "source": [
    "#### Method of Kasiski Examination and Frequency Analysis  "
   ]
  },
  {
   "cell_type": "markdown",
   "metadata": {},
   "source": [
    "So far we have seen a crack where the key is an English word from the dictionary however, what would we do if the key is a non-English word?\n",
    "\n",
    "The answer is a mixture of Kasiski examination and frequency analysis.\n",
    "\n",
    "We first use Kasiski examination to determine the length of the key used to encrypt the text. Then we use frequency analysis to break each of the subkeys independently.\n",
    "\n",
    "The first step of Kasiski examination is to look for repeated sets of at least three letters in the ciphertext. This is because when the plain text is much longer than the key, letters of the key will be used to encode a simple word such as 'the' many times. \n",
    "\n",
    "For example,\n",
    "\n",
    "'THEDOGWENTTOTHE...' = MESSAGE\n",
    "\n",
    "'KEYKEYKEYKEYKEY...' = KEY\n",
    "\n",
    "'DLCNSEGILDXMDLC...' = CIPHERTEXT\n",
    "\n",
    "Above we can clearly see how our key is encoding 'the' multiple times producing repeated sequences of letters.\n",
    "\n",
    "Next we must determine the spacing length between the first letters of each two sets of repeated letters. For example, $HTFAKJUFHTF$ will have a potential key length of $8$ since the spacing between both H's is $8$. Now we have many potential key lengths so to narrow this selection down, we choose potential key lengths that are factors of the spacing lengths. Out of all the factors, we choose the most commonly occuring factors because they are most likely the length of the Vigenere key.\n",
    "\n",
    "Now we have the key lengths, we are ready to apply frequency analysis and find each subkey one at a time. Let's say Kasiski analysis gave us key lengths $3$ and $4$. Using a key length of $4$, we now need to produce a string of letters which were ciphered by each of the subkeys. So starting from the first subkey, every fourth letter from there would be encrypted with the first subkey and starting from the second subkey, every fourth letter from there would be encrypted with the second subkey. We can continue this process until we have strings of ciphertext that have each been encrypted with the same subkey.\n",
    "\n",
    "For example,\n",
    "\n",
    "'ABCDABCDABCD...' = MESSAGE\n",
    "\n",
    "The string encrypted by the 1st subkey would be 'AAA..'\n",
    "\n",
    "The string encrypted by the 2nd subkey would be 'BBB..'\n",
    "\n",
    "The string encrypted by the 3rd subkey would be 'CCC..'\n",
    "\n",
    "The string encrypted by the 4th subkey would be 'DDD..'\n",
    "\n",
    "To perform frequency analysis we first need a list of letters in order of how frequently they appear in the normal plain text:\n",
    "$$'ETAOINSHRDLCUMWFGYPBVKJXQZ' $$\n",
    "\n",
    "$ETAOIN$ are the $6$ most common letters and $VKJXQZ$ would be the $6$ most uncommon letters.\n",
    "\n",
    "We start by taking each string encrypted by a subkey (eg 'AAA...' encrypyted by 1st subkey as seen above) and decrypt it $26$ times using all $26$ letters of the alphabet. Next we take this decrypted string and order the letters of the alphabet in order of how frequently they appear in the string. We rank the subkeys by how closely the resulting decrypted string matches the letter frequency of English. For each nth letter of the key, we choose the top $4$ letters which produced the highest match score as our potential subkeys.\n",
    "\n",
    "After running frequency analysis with all the different key lengths we gathered from Kasiski analysis, we have enough to test actual keys. Using all the possible subkeys and key lengths, we generate all possible keys and test them in our decryption function with the ciphertext. The resulting ciphertext is run through a function which determines if the individual words of the ciphertext match English words from the dictionary. If there are enough matches, the key is deemed to be the correct key and the deciphered message is printed to the attacker.\n",
    "\n",
    "In our explanation we will provide examples of certain functions in action to give further clarity and aid understanding."
   ]
  },
  {
   "cell_type": "markdown",
   "metadata": {},
   "source": [
    "#### Frequency Analysis"
   ]
  },
  {
   "cell_type": "markdown",
   "metadata": {},
   "source": [
    "To perform the crack we will construct functions which determine the likelihood that we have found the correct subkey. To begin with, we create a function which determines the frequency of each letter in the string. We will also provide an example of this function in action when 'perform the crack' is given as the input."
   ]
  },
  {
   "cell_type": "code",
   "execution_count": 16,
   "metadata": {},
   "outputs": [
    {
     "data": {
      "text/plain": [
       "{'A': 1,\n",
       " 'B': 0,\n",
       " 'C': 2,\n",
       " 'D': 0,\n",
       " 'E': 2,\n",
       " 'F': 1,\n",
       " 'G': 0,\n",
       " 'H': 1,\n",
       " 'I': 0,\n",
       " 'J': 0,\n",
       " 'K': 1,\n",
       " 'L': 0,\n",
       " 'M': 1,\n",
       " 'N': 0,\n",
       " 'O': 1,\n",
       " 'P': 1,\n",
       " 'Q': 0,\n",
       " 'R': 3,\n",
       " 'S': 0,\n",
       " 'T': 1,\n",
       " 'U': 0,\n",
       " 'V': 0,\n",
       " 'W': 0,\n",
       " 'X': 0,\n",
       " 'Y': 0,\n",
       " 'Z': 0}"
      ]
     },
     "execution_count": 16,
     "metadata": {},
     "output_type": "execute_result"
    }
   ],
   "source": [
    "ETAOIN = 'ETAOINSHRDLCUMWFGYPBVKJXQZ'\n",
    "LETTERS = 'ABCDEFGHIJKLMNOPQRSTUVWXYZ'\n",
    "maxsubkeytests = 4 # Attempt this many letters per subkey.\n",
    "maxkeylength = 16 # Will not attempt keys longer than this.\n",
    "NONLETTERS_PATTERN = re.compile('[^A-Z]')\n",
    "\n",
    "def LetterFreqCount(message):\n",
    "    # This returns a dictionary with keys of each letters in the alphabet\n",
    "    # and values of how many times that letter appears in our message\n",
    "    letterCountDict = {'A': 0, 'B': 0, 'C': 0, 'D': 0, 'E': 0, 'F': 0, 'G': 0, 'H': 0, 'I': 0, 'J': 0, 'K': 0, 'L': 0, 'M': 0, 'N': 0, 'O': 0, 'P': 0, 'Q': 0, 'R': 0, 'S': 0, 'T': 0, 'U': 0, 'V': 0, 'W': 0, 'X': 0, 'Y': 0, 'Z': 0}\n",
    "    # The for loop iterates each letter in the message through the letters of the alphabet\n",
    "    # This gives us a count of how many times each letter appears\n",
    "    for letter in message.upper():\n",
    "        if letter in LETTERS: # This avoids counting non letters\n",
    "            letterCountDict[letter] += 1\n",
    "\n",
    "    return letterCountDict\n",
    "\n",
    "LetterFreqCount('perform the crack')"
   ]
  },
  {
   "cell_type": "markdown",
   "metadata": {},
   "source": [
    "Now we need to obtain a string of all the letters in descending order of their frequency in the message. First we create a function that switches the keys and values from the dictionary before. Our example will invert the dictionary given by the previous example."
   ]
  },
  {
   "cell_type": "code",
   "execution_count": 17,
   "metadata": {},
   "outputs": [
    {
     "data": {
      "text/plain": [
       "{1: ['A', 'F', 'H', 'K', 'M', 'O', 'P', 'T'],\n",
       " 0: ['B',\n",
       "  'D',\n",
       "  'G',\n",
       "  'I',\n",
       "  'J',\n",
       "  'L',\n",
       "  'N',\n",
       "  'Q',\n",
       "  'S',\n",
       "  'U',\n",
       "  'V',\n",
       "  'W',\n",
       "  'X',\n",
       "  'Y',\n",
       "  'Z'],\n",
       " 2: ['C', 'E'],\n",
       " 3: ['R']}"
      ]
     },
     "execution_count": 17,
     "metadata": {},
     "output_type": "execute_result"
    }
   ],
   "source": [
    "def SwitchLetterandFreq(message):\n",
    "    # We take our dictionary that we created in our previous function\n",
    "    letterandfreq = LetterFreqCount(message)\n",
    "    # We now need the frequency count to be the key and the letter to be the value so\n",
    "    # in essence we are reversing the key and value in the dictionary\n",
    "    freqandletter = {} # This is our new dictionary\n",
    "    for letter in LETTERS: \n",
    "        if letterandfreq[letter] not in freqandletter: # This checks whether the letter's frequency is already in the dictionary as multiple letters can have the same frequency\n",
    "            freqandletter[letterandfreq[letter]] = [letter] # If not then we add this frequency as a key and the letter as a value\n",
    "        else: # We use else to avoid adding the same letter twice to the values\n",
    "            freqandletter[letterandfreq[letter]].append(letter) \n",
    "    # If the frequency key already exists we just append the letter to the value\n",
    "    \n",
    "    return freqandletter\n",
    "\n",
    "SwitchLetterandFreq('perform the crack')"
   ]
  },
  {
   "cell_type": "markdown",
   "metadata": {},
   "source": [
    "If a frequency key has multiple letters as values, we want to reverse the order of those letters to avoid accidentally increasing the frequency match score. Hence we sort the list of letters using a reverse $ETAOIN$ key. In our example we see that the order of the letters in the values for keys 1 and 0 have changed."
   ]
  },
  {
   "cell_type": "code",
   "execution_count": 18,
   "metadata": {},
   "outputs": [
    {
     "data": {
      "text/plain": [
       "{1: 'KPFMHOAT', 0: 'ZQXJVBYGWULDSNI', 2: 'CE', 3: 'R'}"
      ]
     },
     "execution_count": 18,
     "metadata": {},
     "output_type": "execute_result"
    }
   ],
   "source": [
    "def reverseEtaoin(message):\n",
    "    freqandletter = SwitchLetterandFreq(message)\n",
    "    for freq in freqandletter:\n",
    "        freqandletter[freq].sort(key=ETAOIN.find, reverse=True) # Sorting only the values (letters) for a specific key in reverse ETAOIN order\n",
    "        freqandletter[freq] = ''.join(freqandletter[freq]) # Join changes lists of strings to single strings\n",
    "    return freqandletter\n",
    "\n",
    "reverseEtaoin('perform the crack')"
   ]
  },
  {
   "cell_type": "markdown",
   "metadata": {},
   "source": [
    "Subsequently we convert the dictionary to a list of tuples where the pairs takes the format of (key, value) and then create one string of all the letters in order of frequency starting with most frequent."
   ]
  },
  {
   "cell_type": "code",
   "execution_count": 19,
   "metadata": {},
   "outputs": [
    {
     "data": {
      "text/plain": [
       "'RCEKPFMHOATZQXJVBYGWULDSNI'"
      ]
     },
     "execution_count": 19,
     "metadata": {},
     "output_type": "execute_result"
    }
   ],
   "source": [
    "def LetterFreqOrder(message):\n",
    "    freqandletter = reverseEtaoin(message)\n",
    "    freqpairs = []\n",
    "    for freq in freqandletter: # Creates the list of tuples\n",
    "        freqpairs.append((freq, freqandletter[freq]))\n",
    "    freqpairs.sort(reverse=True) # Orders from largest frequency to smallest\n",
    "\n",
    "    # Now that the letters are ordered by frequency, we extract all the letters\n",
    "    # The letters are the values in the tuple pair because we reversed the dictionary earlier\n",
    "    freqOrder = []\n",
    "    for freqpair in freqpairs:\n",
    "        freqOrder.append(freqpair[1])\n",
    "\n",
    "    order = ''.join(freqOrder) # Creates one string of the letter in order of frequency from list of strings\n",
    "    return order\n",
    "\n",
    "LetterFreqOrder('perform the crack')"
   ]
  },
  {
   "cell_type": "markdown",
   "metadata": {},
   "source": [
    "After creating our string of letters in descending frequency order, we now compare it with the ETAOIN string to give it a frequency match score. Our ETAOIN letter string orders letters by the frequency that the letter appears in plain text English."
   ]
  },
  {
   "cell_type": "code",
   "execution_count": 20,
   "metadata": {},
   "outputs": [
    {
     "data": {
      "text/plain": [
       "1"
      ]
     },
     "execution_count": 20,
     "metadata": {},
     "output_type": "execute_result"
    }
   ],
   "source": [
    "def Freqmatchscore(message):\n",
    "    # We take our string and compare it to normal English Frequency\n",
    "    # Our match score is the total number of matches we have\n",
    "    freqorderlist = LetterFreqOrder(message)\n",
    "\n",
    "    freqmatchscore = 0\n",
    "    # Here we take the top six letter from our ETAOIN string and increase the match\n",
    "    # score by 1 if the letter appears in the freqorderlist \n",
    "    for letter in ETAOIN[:6]:\n",
    "        if letter in freqorderlist[:6]:\n",
    "            freqmatchscore += 1\n",
    "    # We also increase the match score by one if a letter from the bottom six of of the ETAOIN string\n",
    "    # appears in the freqorderlist\n",
    "    for letter in ETAOIN[-6:]:\n",
    "        if letter in freqorderlist[-6:]:\n",
    "            freqmatchscore += 1\n",
    "    # ignore middle 14 as frequencies too similar\n",
    "    return freqmatchscore\n",
    "\n",
    "Freqmatchscore('perform the crack')"
   ]
  },
  {
   "cell_type": "markdown",
   "metadata": {},
   "source": [
    "#### Kasiski Examination"
   ]
  },
  {
   "cell_type": "markdown",
   "metadata": {},
   "source": [
    "When performing Kasiski examination, we start by finding the spacings between the repeated sequences of letters in the ciphered text. The function will go through the message and produce a dictionary that contains the repeated sequences and the number of letters between the repeats."
   ]
  },
  {
   "cell_type": "code",
   "execution_count": 21,
   "metadata": {},
   "outputs": [],
   "source": [
    "def RepeatSequenceSpacings(message):\n",
    "    message = NONLETTERS_PATTERN.sub('', message.upper())\n",
    "    m = len(message)\n",
    "    sequencespacings = {}  # Holds repeated sequences as keys and values are spacings.\n",
    "    for repeatseq in range (3,6): # We find repeated sequences that are 3,4 and 5 letters long\n",
    "        for sequencestart in range (m - repeatseq):\n",
    "            seq = message[sequencestart: sequencestart + repeatseq] # Slice up message into sequences the length of repeatseq\n",
    "            for i in range (sequencestart + repeatseq, m - repeatseq): # This determines if the sequence repeats\n",
    "                if message[i:i+repeatseq]==seq:\n",
    "                    if seq not in sequencespacings:\n",
    "                        sequencespacings[seq] = [] # Add key in dict if not there already\n",
    "                    sequencespacings[seq].append(i - sequencestart) # Append the spacing value\n",
    "    return sequencespacings"
   ]
  },
  {
   "cell_type": "markdown",
   "metadata": {},
   "source": [
    "We will show how this works in an example below where the message is 'dlcnsegildxmdlcahdnndjcnbdjdlcjkdnjdndxbbajdjdabba'. "
   ]
  },
  {
   "cell_type": "code",
   "execution_count": 22,
   "metadata": {},
   "outputs": [
    {
     "data": {
      "text/plain": [
       "{'DLC': [12, 27, 15], 'DJD': [18]}"
      ]
     },
     "execution_count": 22,
     "metadata": {},
     "output_type": "execute_result"
    }
   ],
   "source": [
    "RepeatSequenceSpacings('dlcnsegildxmdlcahdnndjcnbdjdlcjkdnjdndxbbajdjdabba')"
   ]
  },
  {
   "cell_type": "markdown",
   "metadata": {},
   "source": [
    "Now we have the spacings, we need to find the factors of the spacings. We look for factors between $2$ and the max key length"
   ]
  },
  {
   "cell_type": "code",
   "execution_count": 23,
   "metadata": {},
   "outputs": [],
   "source": [
    "def getFactors(num):\n",
    "    factors = []\n",
    "    if num < 2:\n",
    "        return [] # Numbers less than 2 have no useful factors since a factor of 1 would be the same as a caesar cipher.\n",
    "    for i in range(2, maxkeylength + 1):\n",
    "        if num % i == 0:\n",
    "            factors.append(i)        \n",
    "    return list(set(factors)) "
   ]
  },
  {
   "cell_type": "markdown",
   "metadata": {},
   "source": [
    "The next step is to get a count of how many times the factors appears in our function above for each spacing. To do this, we take a dictionary consisting of the sequence of repeating letters as the key and then all the factors of the spacings relating to that key as values. Next we sort the dictionary and convert it into a list of two integer tuples containing the factor and the factor counts. Finally we extract just the factors to get a list of just the most common factors."
   ]
  },
  {
   "cell_type": "code",
   "execution_count": 24,
   "metadata": {},
   "outputs": [],
   "source": [
    "def getMostCommonFactors(seqFactors):\n",
    "    factorCounts = {} # Here we create our dictionary where the key is the factor and counts are the values\n",
    "    \n",
    "    # seqFactors is a dictionary in the form of {'repeated sequence':[factors]...\n",
    "    for seq in seqFactors:  # This loops through all the repeated sequences\n",
    "        factorList = seqFactors[seq] # This creates a list of factors for each sequence\n",
    "        for factor in factorList: # This goes through all the factors for each sequence and stores their counts\n",
    "            if factor not in factorCounts:\n",
    "                factorCounts[factor] = 0\n",
    "            factorCounts[factor] += 1\n",
    "    # Now we sort the dictionary by factor counts in descending order\n",
    "    factorCountsSort = {k: v for k, v in sorted(factorCounts.items(), key=lambda item: item[1], reverse=True)}\n",
    "    \n",
    "    # Now we convert the dictionary to a list of tuples\n",
    "    # It will take the form of [(factor, factor count),(...),....]\n",
    "    factorCountsTuple = []\n",
    "    for factor in factorCountsSort:\n",
    "        # We only count factors less than or equal to the max key length\n",
    "        if factor <= maxkeylength:\n",
    "            factorCountsTuple.append( (factor, factorCountsSort[factor]) )\n",
    "    # We take the list of factor counts tuples and create a new list just of the factors\n",
    "    # Since we have already sorted our lists and dictionaries, it will be in order starting with most common\n",
    "    MostCommonFactors = []\n",
    "    for Tuple in factorCountsTuple:\n",
    "        MostCommonFactors.append(Tuple[0])\n",
    "\n",
    "    return MostCommonFactors"
   ]
  },
  {
   "cell_type": "markdown",
   "metadata": {},
   "source": [
    "In our example we will take a dictionary consisting of the repeated sequences and the factors of the spacings and produce a list of the most common factors. We will use the dictionary from the previous example, {'DLC': [12, 27, 15], 'DJD': [18]}, to calculate our new dictionary."
   ]
  },
  {
   "cell_type": "code",
   "execution_count": 25,
   "metadata": {},
   "outputs": [
    {
     "data": {
      "text/plain": [
       "[3, 2, 6, 9, 4, 12, 5, 15]"
      ]
     },
     "execution_count": 25,
     "metadata": {},
     "output_type": "execute_result"
    }
   ],
   "source": [
    "dictseqandfactors = {'DLC':[2,3,4,6,12,3,9,3,5,15], 'DJD': [2,3,6,9]}\n",
    "getMostCommonFactors(dictseqandfactors)"
   ]
  },
  {
   "cell_type": "markdown",
   "metadata": {},
   "source": [
    "The aim of Kasiski examination is to find the key length so in the function below combine all previous functions so that a list of the most likely factors will be produced when a message in inputted. Therefore, in the function we first obtain a dictionary of the repeated sequences and their factors. Then we pass this dictionary through our previous function to get a list of the most common factors in descending order."
   ]
  },
  {
   "cell_type": "code",
   "execution_count": 26,
   "metadata": {},
   "outputs": [],
   "source": [
    "def kasiskiExamination(message):\n",
    "    # Obtain a dictionary of the repeated sequences and their spacing values\n",
    "    # eg: {'ABC': [24, 52, 120], ... }\n",
    "    repeatedSeqSpacings = RepeatSequenceSpacings(message)\n",
    "\n",
    "    # The loop below returns a dictionary of the repeated sequence and all the factors of its spacings\n",
    "    seqFactors = {}\n",
    "    for seq in repeatedSeqSpacings: # Loops through all the repeated sequences\n",
    "        seqFactors[seq] = [] # Creates an empty value list to be filled by the spacing factors\n",
    "        for spacing in repeatedSeqSpacings[seq]: # For each repeated sequence, we find all the factors of all the spacings\n",
    "            seqFactors[seq].extend(getFactors(spacing))\n",
    "\n",
    "    # Returns a list of tuples in order of most common factor\n",
    "    MostLikelyKeyLengths = getMostCommonFactors(seqFactors)\n",
    "\n",
    "    return MostLikelyKeyLengths"
   ]
  },
  {
   "cell_type": "markdown",
   "metadata": {},
   "source": [
    "Below we can see that when using the KasiskiExamination function, we can put our message as the input and this will give us the same string that we calculated in the previous example."
   ]
  },
  {
   "cell_type": "code",
   "execution_count": 27,
   "metadata": {},
   "outputs": [
    {
     "data": {
      "text/plain": [
       "[3, 2, 6, 9, 4, 12, 5, 15]"
      ]
     },
     "execution_count": 27,
     "metadata": {},
     "output_type": "execute_result"
    }
   ],
   "source": [
    "kasiskiExamination('dlcnsegildxmdlcahdnndjcnbdjdlcjkdnjdndxbbajdjdabba')"
   ]
  },
  {
   "cell_type": "markdown",
   "metadata": {},
   "source": [
    "#### Performing the crack"
   ]
  },
  {
   "cell_type": "markdown",
   "metadata": {},
   "source": [
    "For each key length we need to test each subkey and find the most likely subkeys. To do this we create a function that takes the message and gives us a string of letters only encrypted by the $nth$ subkey. From here we can apply frequency analysis on the string to find the subkey used."
   ]
  },
  {
   "cell_type": "code",
   "execution_count": 28,
   "metadata": {},
   "outputs": [],
   "source": [
    "# An example of this function in action would be NthSubkeyString(1, 4, 'READREADREAD') returns RRR\n",
    "def NthSubkeyString(nth, keyLength, message):\n",
    "    # Remove non-letters from the message:\n",
    "    message = NONLETTERS_PATTERN.sub('', message)\n",
    "    m = len(message)\n",
    "    i = nth - 1 # This points to the index of the letter you want\n",
    "    letterstring = [] # We will fill this with our letter string\n",
    "    while i < m:  # This continues to run providing our index is less than the message length\n",
    "        letterstring.append(message[i])  # Appends the nth letter to string\n",
    "        i += keyLength   # i is updated to the next time the nth letter is used in the key\n",
    "    return ''.join(letterstring) # This joins the single letter string values into one string"
   ]
  },
  {
   "cell_type": "markdown",
   "metadata": {},
   "source": [
    "Now we take our ciphertext, split it into $n$ strings and test each string using frequency analysis to get a match for the subkey. If our key length is correct, the function returns a string of the deciphered message. If incorrect, the function returns none. We run this function for all possible key lengths until we decipher the message."
   ]
  },
  {
   "cell_type": "code",
   "execution_count": 29,
   "metadata": {},
   "outputs": [],
   "source": [
    "def CrackVigWithKeyLength(message,KeyLength):\n",
    "    # Store the message as uppercase\n",
    "    messageUPPER = message.upper()\n",
    "    # If we assume the value in mostLikelyKeyLength is correct then by brute force we find subkeys whose letter frequencies match that of normal English\n",
    "    MostFreqSubkeys=[] # Stores the subkeys with the highest frequency match score for each nth letter of the key\n",
    "    for n in range (1, KeyLength+1):  # This loops all the subkey positions so we get strings produced by each subkey\n",
    "        nthSubkeyStr = NthSubkeyString(n, KeyLength, messageUPPER)\n",
    "        freqScoresdict={} # We create a dict that we will fill with match scores for each letter\n",
    "        for possiblesubkey in LETTERS:\n",
    "            decryptedText = vig(nthSubkeyStr, possiblesubkey, 'd') # We decrypt each string with every letter in the alphabet\n",
    "            freqScoresdict[possiblesubkey]= [Freqmatchscore(decryptedText)] # Fill the dict with subkey and match score\n",
    "        freqscoresSort = {k: v for k, v in sorted(freqScoresdict.items(), key=lambda item: item[1], reverse=True)} # Sort by match score\n",
    "\n",
    "        freqScores = [] \n",
    "        for letter in freqscoresSort: # Take the sorted dictionary and make a list of only the letters\n",
    "            freqScores.append(letter)\n",
    "        MostFreqSubkeys.append(freqScores[:maxsubkeytests])\n",
    "        # This appends the list so that we get the top four letters which give the highest frequency match score for each subkey\n",
    "        # MostFreqSubkeys will now store a list of four letters with the highest match score for each letter in the subkey\n",
    "        # For example, a 5 letter key would produce 5 lists of 4 possible subkey choices\n",
    "\n",
    "        \n",
    "    for indexes in itertools.product(range(maxsubkeytests), repeat=KeyLength):\n",
    "        # itertools.product produces a list of tuples where the number of values in each tuple is equal the most likely key length\n",
    "        # The values range from 0 to maxsubkeytests where the integer provides the index so we can access the letter stored in MostFreqSubkeys\n",
    "        possibleKey = ''  # Here we create a possible key from the letters in MostFreqSubkeys\n",
    "        for i in range(KeyLength):\n",
    "            possibleKey += MostFreqSubkeys[i][indexes[i]]\n",
    "        # The above takes the tuple corresponding to the ith subkey then takes the ith value (letter) of each tuple\n",
    "        decryptedText = vig(messageUPPER, possibleKey, 'd')\n",
    "\n",
    "        if isEnglish(decryptedText):\n",
    "            # Now we run the decrypted text through the isEnglish function to check that the words are actually sensible English before showing it to the user\n",
    "            # This puts the decrypted text back to its orginal uppercase or lowercase format\n",
    "            originalCase = []\n",
    "            for i in range(len(ciphertext)):\n",
    "                if ciphertext[i].isupper():\n",
    "                    originalCase.append(decryptedText[i].upper())\n",
    "                else:\n",
    "                    originalCase.append(decryptedText[i].lower())\n",
    "            decryptedText = ''.join(originalCase)\n",
    "\n",
    "            # Check with user to see if the key has been found:\n",
    "            print('Possible encryption hack with key:' + str(possibleKey))\n",
    "            print(decryptedText[:300]) # Only show first 300 characters.\n",
    "            print()\n",
    "            print('Enter C if deciphered text is correct. Else, press Enter to find another key.')\n",
    "            response = input('> ')\n",
    "\n",
    "            if response.strip().upper().startswith('C'):\n",
    "                return decryptedText\n",
    "\n",
    "    # If none of the decryptions look like English, we return none and then try another key length\n",
    "    return None\n",
    "\n"
   ]
  },
  {
   "cell_type": "code",
   "execution_count": 30,
   "metadata": {},
   "outputs": [],
   "source": [
    "def CrackVig(ciphertext):\n",
    "    # First, we do Kasiski Examination to get a list of all the likely key lengths \n",
    "    allLikelyKeyLengths = kasiskiExamination(ciphertext)\n",
    "    print('Kasiski Examination results say the most likely key lengths are:  ' + str(allLikelyKeyLengths) + '\\n')\n",
    "    for keyLength in allLikelyKeyLengths: # Function keeps looping until the correct key is found\n",
    "        print('Attempting to crack Vigenere cipher with key length ' +str(keyLength))\n",
    "        print('The total number of possible keys for this key length is ' +str(pow(maxsubkeytests,keyLength)))\n",
    "        decryptedtext = CrackVigWithKeyLength(ciphertext, keyLength)\n",
    "        if decryptedtext != None: # We break once we have found the correct key that gives us a message that is sensible English\n",
    "            break\n",
    "\n",
    "    # If CrackVigWithKeyLength returns none then we know our hack has been unsuccesful\n",
    "    # So far all the likely keys have been tried up to the max key length\n",
    "    # Now we brute force through the other key lengths up to the max key length that we have not yet tried\n",
    "    \n",
    "    if decryptedtext == None:\n",
    "        print('Testing untried key lengths since likely key lengths did not crack the cipher')\n",
    "        for keyLength in range(1, maxkeylength + 1):\n",
    "            # We use not in so we try key lengths that we haven't already tried in kasiski\n",
    "            if keyLength not in allLikelyKeyLengths:\n",
    "                print('Attempting to crack Vigenere cipher with key length '+str(keyLength))\n",
    "                decryptedtext = CrackVigWithKeyLength(ciphertext, keyLength)\n",
    "                if decryptedtext != None:\n",
    "                    break\n",
    "    return decryptedtext"
   ]
  },
  {
   "cell_type": "markdown",
   "metadata": {},
   "source": [
    "Our main function takes an input, the ciphertext, and outputs either the decrypted message if possible or None if decryption not possible"
   ]
  },
  {
   "cell_type": "code",
   "execution_count": 31,
   "metadata": {},
   "outputs": [],
   "source": [
    "def mainCrack(ciphertext):\n",
    "    decryptedtext = CrackVig(ciphertext)\n",
    "\n",
    "    if decryptedtext != None:\n",
    "        print('Decrypted message is as follows:')\n",
    "        print(decryptedtext)\n",
    "    else:\n",
    "        print('Failed to hack encryption.') # We print this if decryptedtext is still returned as none even when we use brute force"
   ]
  },
  {
   "cell_type": "markdown",
   "metadata": {},
   "source": [
    "Using our encrypted message, we perform the crack."
   ]
  },
  {
   "cell_type": "code",
   "execution_count": 32,
   "metadata": {},
   "outputs": [
    {
     "name": "stdout",
     "output_type": "stream",
     "text": [
      "Kasiski Examination results say the most likely key lengths are:  [5, 3, 15, 2, 10, 8, 4, 6, 16, 7, 14, 13, 11, 12]\n",
      "\n",
      "Attempting to crack Vigenere cipher with key length 5\n",
      "The total number of possible keys for this key length is 1024\n",
      "Possible encryption hack with key:HELLO\n",
      "While in Cambridge, he teamed up with notable names like John Herschel and George Peacock to form the Analytical society. He was also a member of other clubs including the Ghost Club which investigated supernatural happenings and The Extractors Club where members professed to liberate one another fr\n",
      "\n",
      "Enter C if deciphered text is correct. Else, press Enter to find another key.\n",
      "> c\n",
      "Decrypted message is as follows:\n",
      "While in Cambridge, he teamed up with notable names like John Herschel and George Peacock to form the Analytical society. He was also a member of other clubs including the Ghost Club which investigated supernatural happenings and The Extractors Club where members professed to liberate one another from the madhouse in the event that anyone was ever committed. \n"
     ]
    }
   ],
   "source": [
    "m = 'While in Cambridge, he teamed up with notable names like John Herschel and George Peacock to form the Analytical society. He was also a member of other clubs including the Ghost Club which investigated supernatural happenings and The Extractors Club where members professed to liberate one another from the madhouse in the event that anyone was ever committed. '\n",
    "ciphertext = vig(m, 'hello', 'e')\n",
    "\n",
    "mainCrack(ciphertext)"
   ]
  },
  {
   "cell_type": "markdown",
   "metadata": {},
   "source": [
    "#### Security\n",
    "\n",
    "In general, without any statistical or computational techniques, the only method to break the Vigenere cipher is by brute force. When the key length increases by one character, the maximum number of possible keys we have to try increases by a factor of $26$. Thus we can claim that the time complexity in a brute force method is $ O(26^k) $ where $k$ is the length of the key. Hence longer keys are more secure against a brute force attack. \n",
    "\n",
    "For our frequency analysis method, the effectiveness of the crack can be limited in a few ways. The maximum length of key we test for is $16$ because keys longer than this require much greater time and computing power to find. Hence we can claim that a longer key is more secure. \n",
    "\n",
    "We also know that the shorter the message is the less effective frequency analysis is. This is because we would not have enough characters in our message to spot frequent appearances of common letters. We can generalise this to say that the closer the key and message are in length, the harder the cipher is to crack. Since the key is the length of the message, we cannot perform frequency analysis since each subkey only ciphers one letter of the message. However if the message and key are both very short, ($<8$ characters) the cipher is vulnerable to a brute force crack. If the key is random then the cipher becomes theoretically unbreakable because the same length key and message essentially becomes a one time pad.\n",
    "\n",
    "If the message is much longer than the key, then due to Krasiski analysis we can spot patterns in the ciphertext allowing us to deduce the key length. Then we can apply frequency analysis testing all possible subkeys and analysing the resulting text to see if its resulting letter frequency is consistent with English text. Therefore a message much longer than the key is not very secure since it can be easily cracked. However, if the message was not in English, an attacker would not be able to apply frequency analysis so the only option to hacking it is by brute force. Since brute force is normally not viable, we can claim that non-English text is cryptographically secure. \n",
    "\n",
    "One final security flaw remains which is the Vigenere's vulnerability to key elimination. Since the Vigenere cipher uses modulo arithmetic, which is commutative, key elimination can prove an effective way at cracking short messages. If the key length is known then we can subtract the cipher text from itself, producing plain text encrypted in itself. The self encryption can be cracked if a common word can be recognised. Finally, we can extract the key by extracting the known plain text. "
   ]
  },
  {
   "cell_type": "markdown",
   "metadata": {},
   "source": [
    "## Affine Cipher\n",
    "\n",
    "This section is based on ideas in [8].\n",
    "\n",
    "The Affine Cipher is another way of encrypting data. It is a monoalphabetic technique, whereby each letter in the original message is converted to an integer using a simple function, and then converted back to a letter. Similarly to the Caesar cipher, every letter is encrypted by one other letter, making it a standard substitution cipher. However, this makes it vulnerable to cracking as every letter is encrypted using the same function. Potentially making it easy to spot a trend within the coded phrase and thus cracking the cipher.\n",
    "\n",
    "The function used to encrypt the message is \n",
    "\\begin{equation}\n",
    "E(x) = (ax + b) \\bmod m, \n",
    "\\end{equation}\n",
    "where $a$ and $b$ are the keys of the cipher and $m$ is the size of the alphabet (in our case 26). We also must have that $a$ and $m$ are coprime, i.e. gcd($a,m$) $= 1$. This is because the decryption function, $D(x)$, is \n",
    "\\begin{equation}\n",
    "D(x) = a^{-1}(x - b) \\bmod m, \n",
    "\\end{equation}\n",
    "where $a^{-1}$ is the multiplicative inverse of $a$, i.e. $1 = a^{-1}a$ (mod $m$), which exists only if gcd($a, m$) $= 1$.\n",
    "We can prove that this has to be the case by decrypting the encryption function, i.e. apply $D(x)$ to $E(x)$:\n",
    "\n",
    "\\begin{align}\n",
    "D(E(x)) &= a^{-1}(E(x)-b)\\bmod{m}\\\\\n",
    " &= a^{-1}(((ax+b)\\bmod{m})-b)\\bmod{m} \\\\\n",
    " &= a^{-1}(ax+b-b)\\bmod{m} \\\\\n",
    " &= a^{-1}ax \\bmod{m}\\\\\n",
    " &= x\\bmod{m}.\n",
    "\\end{align}\n",
    "\n",
    "We now know that the Caesar cipher is just the Affine cipher but with $a = 1$, since  the Caesar cipher is just a linear swap. This means that the Affine cipher inherits similar weaknesses, making it very vulnerable to hacking. We can calculate using the regular $26$-letter alphabet, how many total affine ciphers there are. We find that there are 12 numbers that are less than and coprime to $26$, meaning that there are $12$ possible values of $a$. Therefore the total number of potential affine ciphers is $12$ x $26 = 312$, which is a lot more than the Caeser cipher, but around $1,000,000$ times fewer than the Vigenere cipher. In practise, the Affine Cipher is not often used because of its security vulnerabilities as it is just a slight adaptation of the Caeser cipher.\n",
    "\n",
    "To encrypt a message, we first defined functions for the greatest common divisor and modular inverse. We then defined a function designed for the key, that returns $key1$ - the quotient of the key with respect to the length of the 'symbols' set, then $key2$ - the remainder, modulo (length of the 'symbols' set). Next we created a function that checks for key inputs that either don't work or output a weak encrypted text. For example, $key1$ and length of the 'symbols' set ($len(symbols$)) have to be coprime so the function checks for that. We also have that if $key1 = 0$ then the outputted text is unchanged and so we relay this information onto the user. We used the given function, $C = (aT + b)$ mod $len(symbols)$, to return the index of the new encrypted symbol where $a$ = $key1$, $b$ = $key2$ and $T$ is the index of each symbol in the original message with respect to the 'symbols' set. We then used this index to return the corresponding symbol in 'symbols' and added that character to the new encrypted text. We repeated this process until all of the characters from the user's input message had been encrypted.\n",
    "\n",
    "\n",
    "To decrypt a message, we used a very similar approach to the encryption process however we used the decryption function instead of the encryption function. We first used the multiplicative inverse function that we defined at the start. We assigned a variable $modInverseKey1$ to the value of the modular inverse of $key1$ with respect to $len(symbols)$. We then used the formula $T = a^{-1}(C - b)$ mod $len(symbols)$ to return the index for each character in the new decrypted message. We define $a$ = $key1$, $b$ = $key2$ and $C$ to be the index of each character in the encrypted message with respect to the 'symbols' set. We finally used this index to return the corresponding symbol in 'symbols' and added that character to the new decrypted text. We repeated this process until all the characters had been decrypted. \n"
   ]
  },
  {
   "cell_type": "markdown",
   "metadata": {},
   "source": [
    "First, we define and set up the first few functions."
   ]
  },
  {
   "cell_type": "code",
   "execution_count": 33,
   "metadata": {},
   "outputs": [],
   "source": [
    "symbols = 'ABCDEFGHIJKLMNOPQRSTUVWXYZabcdefghijklmnopqrstuvwxyz1234567890 !?.' # Use this set to store all of the possible characters that can be encrypted\n",
    "\n",
    "# Method to compute the gcd of two numbers using the Euclidean algorithm\n",
    "def gcd(x, y): \n",
    "    while(y):\n",
    "        x, y = y, x % y \n",
    "    return x \n",
    "\n",
    "# Defining a function that returns the multiplicative inverse of 'a' with respect to modulo 'm' \n",
    "def modInv(a, m) : \n",
    "    a = a % m; \n",
    "    for i in range(1, m) : \n",
    "        if ((a * i) % m == 1) : \n",
    "            return i\n",
    "    return 1 # If 'a' and 'm' are not coprime, then the multplicative inverse is 1 and the Affine cipher fails\n",
    "\n",
    "# Defining a function that splits an integer into to seperate integers\n",
    "def GetKeyParts(key):\n",
    "    key1 = key // len(symbols) # Finds the quotient without any remainder\n",
    "    key2 = key % len(symbols) # Finds the remainder without the quotient part\n",
    "    return (key1, key2)\n",
    "\n",
    "# We check for 'weak' keys, e.g. key1 = 1, aswell as looking for keys that don't work, i.e when key1 and len(symbol) are not coprime\n",
    "def CheckKeys(key1, key2, mode):\n",
    "    if key1 == 1 and mode == 'encrypt': # Encrypted text would be weak because multiplying the index by 1 leaves it unchanged\n",
    "        sys.exit('Cipher is weak if key 1 is 1. Choose a larger key.')\n",
    "    if key2 == 0 and mode == 'encrypt': # Encrypted text would again be weak because adding an index of 0 change anything\n",
    "        sys.exit('Cipher is weak if key 2 is 0. Choose a larger key.')\n",
    "    if key1 < 0 or key2 < 0 or key2 > len(symbols) - 1: # Checking to ensure both key1 and key2 are greater than 0, and key2 < len(symbols) - 1\n",
    "        sys.exit('Key 1 must be greater than 0 and Key 2 must be between 0 and %s.' % (len(symbols) - 1))\n",
    "    if gcd(key1, len(symbols)) != 1: # key1 and len(symbols) must be coprime in order for the decryption process to be carried out\n",
    "        sys.exit('Key 1 (%s) and the symbol set size (%s) are not relatively prime. Choose a different key.' % (key1, len(symbols)))\n"
   ]
  },
  {
   "cell_type": "markdown",
   "metadata": {},
   "source": [
    "We then have the formula for the Affine Encryption."
   ]
  },
  {
   "cell_type": "code",
   "execution_count": 34,
   "metadata": {},
   "outputs": [],
   "source": [
    "# C = (a*T + b) mod len(symbols), where C is the encrypted text, a is key1, T is the index of each symbol (IndexSymbol), b is key2\n",
    "def affine_encrypt(message, key): \n",
    "    cipher = ''\n",
    "    key1, key2 = GetKeyParts(key) # Obtain integers using the GetKeyParts function we defined earlier\n",
    "    CheckKeys(key1, key2, 'encrypt') # Use our 'CheckKeys' function to ensure the keys that we calculated are valid and can be used\n",
    "    for i in message:\n",
    "        if i in symbols:\n",
    "            IndexSymbol = symbols.find(i) # Finds the position of each symbol in message with respect to the set 'symbols'\n",
    "            cipher += symbols[((IndexSymbol * key1) + key2) % len(symbols)] # Use mod (len(symbols)) to ensure the index is between 0 and len(symbols), i.e. handles and 'wrap-around' that may occur\n",
    "        else:\n",
    "            cipher += symbol # Append the symbol without encrypting if it is not in the set 'symbols'\n",
    "    return cipher"
   ]
  },
  {
   "cell_type": "markdown",
   "metadata": {},
   "source": [
    "Also, we have the formula for the decryption."
   ]
  },
  {
   "cell_type": "code",
   "execution_count": 35,
   "metadata": {},
   "outputs": [],
   "source": [
    "# T = a^-1 (C - b) mod 26, where T is the original text, a is key[0], C is the encrypted text and b is key[0]\n",
    "# Very similar code to encryption process but now we are using the inverse function that we made earlier and a different function for decryption\n",
    "def affine_decrypt(message, key):\n",
    "    key1, key2 = GetKeyParts(key)\n",
    "    CheckKeys(key1, key2, 'decrypt')\n",
    "    plaintext = ''\n",
    "    modInverseKey1 = modInv(key1, len(symbols)) # Assigning a value to the modular inverse of key1 and len(symbols)\n",
    "    for symbol in message:\n",
    "        if symbol in symbols:\n",
    "            IndexSymbol = symbols.find(symbol)\n",
    "            plaintext += symbols[(IndexSymbol - key2) * modInverseKey1 % len(symbols)] # Using the aforementioned formula to calculated the index of each decrypted symbol\n",
    "        else:\n",
    "            plaintext += symbol\n",
    "    return plaintext"
   ]
  },
  {
   "cell_type": "markdown",
   "metadata": {},
   "source": [
    "Finally, we have an example run of the code."
   ]
  },
  {
   "cell_type": "code",
   "execution_count": 36,
   "metadata": {},
   "outputs": [
    {
     "name": "stdout",
     "output_type": "stream",
     "text": [
      "Encrypted Text: CbMjRv0Rv4dj9\n",
      "Decrypted Text: Lets go guys!\n"
     ]
    }
   ],
   "source": [
    "def main(): \n",
    "    # Stating text and key \n",
    "    message = 'Lets go guys!'    \n",
    "    key = 2895\n",
    "    # Printing the encrypted message \n",
    "    print('Encrypted Text:', affine_encrypt(message, key))\n",
    "    \n",
    "    affine_encrypted_text = affine_encrypt(message, key) # Stated for use in the declaration of the decrypted message\n",
    "    \n",
    "    # Printing the decrypted message\n",
    "    print('Decrypted Text:', affine_decrypt(affine_encrypted_text, key) )\n",
    "  \n",
    "  \n",
    "if __name__ == '__main__': \n",
    "    main()"
   ]
  },
  {
   "cell_type": "markdown",
   "metadata": {},
   "source": [
    "### Affine Cipher Crack\n",
    "\n",
    "This section is based on ideas in [9].\n",
    "\n",
    "The code we have made will output a decrypted message that has been encrypted using the Affine cipher. We have used a brute-force method. The user can choose if they are happy that the message given is the correct decryption or try more potential keys. The brute-force approach is implemented by using the 'affine_decrypt' function that I made previously and outputting lots of messages by using every possible key as an input.\n",
    "\n",
    "The code will output hundreds if not thousands of messages mostly made up of symbols in an order that doesn't look anything like an English word, so we use the 'detectEnglish' module to filter out the phrases that look like complete nonsense and instead display the phrase that (according to the isEnglish() function) does output geniune English. The user can then chose whether to type in 'D' showing that they are finished with the decrypting and they have found their message, or type in any other character which tells the computer that they have not found their message and wishes for the computer to keep trying more keys.\n",
    "\n",
    "We have used ($len(symbols)$)$^{2}$ for the number of integers used to test the different keys, because there are $len(symbols)$ possible values for $key1$ and $len(symbols)$ possible values for $key2$, thus we multiply the two values together to find the maximum possible values for the actual key. So for example, if 'symbols' is just the lower-case alphabet, that means we can test a possible $676$ different keys, but if 'symbols' consists of the lower and upper-case alphabets there would now be $2704$ possible keys to test. Hence we know that to make the Affine cipher harder to crack we would ensure that 'symbols' consists of more characters. "
   ]
  },
  {
   "cell_type": "code",
   "execution_count": 37,
   "metadata": {},
   "outputs": [
    {
     "name": "stdout",
     "output_type": "stream",
     "text": [
      "Possible encryption hack:\n",
      "Key: 2895\n",
      "Decrypted message: Lets go guys!\n",
      "\n",
      "Enter D if done, any other character to continue hacking:\n",
      "> d\n",
      "Lets go guys!\n"
     ]
    }
   ],
   "source": [
    "# Affine Cipher Crack\n",
    "\n",
    "symbols = 'ABCDEFGHIJKLMNOPQRSTUVWXYZabcdefghijklmnopqrstuvwxyz1234567890 !?.'\n",
    "\n",
    "def main():\n",
    "    myMessage = \"\"\"CbMjRv0Rv4dj9\"\"\"\n",
    "    HackedMessage = AffineCrack(myMessage)\n",
    "    if HackedMessage != None:\n",
    "        # The plaintext is displayed on the screen if the output from the 'AffineCrack' function below gives a feasible word or phrase\n",
    "        print(HackedMessage)\n",
    "    else:\n",
    "        print('Failed to hack encryption.') # If 'HackedMessage' was set to 'none' then the program will print that it was unable to hack the message\n",
    "\n",
    "\n",
    "def AffineCrack(message):\n",
    "    # Brute-force method by looping through every possible key\n",
    "    # Key ranges from 1 to len(symbols) ** 2 to ensure that every possible integer is tested for each given key\n",
    "    for key in range(len(symbols) ** 2):\n",
    "        key1 = GetKeyParts(key)[0]\n",
    "        if gcd(key1, len(symbols)) != 1:\n",
    "            continue # We use a 'continue' statement used so that if statement is invalid (i.e. gcd(key1, len(symbols)) = 1), then the computer will instead move onto the next key\n",
    "\n",
    "        DecryptedText = affine_decrypt(message, key) # Defining the variable 'DecryptedText' using our function 'affine_decrypt' made earlier\n",
    "        \n",
    "        # Use the 'detectEnglish' module to detect if the decrypted message could be recognized as English to the 'detectEnglish' module\n",
    "        # If the decrypted message is recognized as readable English (by the isEnglish() function anyway), then this decrypted message will be shown to the user\n",
    "        if isEnglish(DecryptedText):\n",
    "            # Check with the user if the decrypted message has been found.\n",
    "            print('Possible encryption hack:')\n",
    "            print('Key: %s' % (key))\n",
    "            print('Decrypted message: ' + DecryptedText[:200])\n",
    "            print()\n",
    "            print('Enter D if done, any other character to continue hacking:') # Gives user opportunity to chose if the message has been found or if the computer should carry on \n",
    "            response = input('> ')\n",
    "\n",
    "            if response.strip().upper().startswith('D'):\n",
    "                return DecryptedText\n",
    "    return None # If 'none' is returned then they computer has gone through every possible key but has been unsuccessfull in return the decrypted message, so the phrase 'Failed to hack encryption' will be printed to the user\n",
    "\n",
    "\n",
    "\n",
    "# Identify the main() function\n",
    "if __name__ == '__main__':\n",
    "    main()"
   ]
  },
  {
   "cell_type": "markdown",
   "metadata": {},
   "source": [
    "# Part 2 - RSA Signature Protocol "
   ]
  },
  {
   "cell_type": "markdown",
   "metadata": {},
   "source": [
    "This section is based on ideas in [9], [10], [11], [12], [13], [14], and [15]."
   ]
  },
  {
   "cell_type": "markdown",
   "metadata": {},
   "source": [
    "In this section we are going to discuss the RSA signature protocol and show how a hash function can be used to determine authenticity of a message sent via RSA encryption."
   ]
  },
  {
   "cell_type": "markdown",
   "metadata": {},
   "source": [
    "## Introduction\n",
    "\n",
    "When sending a physical letter or document to a recipient, common practice is to sign the document so the recipient knows that the document is authentic. However, the envelope may be intercepted along the way or the signature may be forged causing the document to potentially contain false information. When sending this document online, we need a method to show that the message is from the original sender (it is authentic) and hasn't been tampered with.\n",
    "\n",
    "The method we use is to create a hash value of the message and send it to the recipient via the RSA protocol. A hash function assigns a unique value to the message sent in such a way that if one character of the message was changed, the hash function would be completely different; this is known as the avalanche effect. The resulting hash value is encrypted via the RSA alogrithm and sent together with the encrypted messaged to the recipient. The recipient decrypts both the hash and the encrypted message first, and subsequently passes the decrypted message through the hash function. By comparing the new hash value and the one sent with the encrypted message, it is possible to see if the message has been tampered with or not. If the two hash values agree, the message is authentic, but if they are not equal then we know that the message has been tampered with."
   ]
  },
  {
   "cell_type": "markdown",
   "metadata": {},
   "source": [
    "## Hash function\n",
    "\n",
    "The standard of hash functions is continually improved to prevent hackers from obtaining sensitive material and protect the integrity of the information being transmitted. Therefore,  the ideal cryptographic hash function must have the following required main properties:\n",
    "\n",
    "1. It must be deterministic.\n",
    "\n",
    "This means that the same message must always produce the same hash value. This is highly important since it allows the decrypted message to be checked at the end. If the same message did not produce the same hash value, we would have no way of knowing if the message that been tampered with or not\n",
    "\n",
    "2. It is quick to compute the hash value for any message\n",
    "\n",
    "Hashing must be efficient so that a hash value is computed in a time long enough not to comprimise the security of the message but short enough so that people will actually use said hash function. \n",
    "\n",
    "3. It is infeasible to create a message with an intended hash value\n",
    "\n",
    "Since a hash function is a one way function which is near enough impossible to invert, the only way of creating a message which yields a given hash value is by a brute force search. This is both impractical and extremely time consuming thus, protecting the uniqueness of each hash.\n",
    "\n",
    "4. It is infeasible to find two different messages with the same hash value\n",
    "\n",
    "A hash function that is too fast runs the risk of being susceptible to the collision effect. This is where two different documents can produce the same hash value: MD5 is an example of a popular hash function which contains this flaw. The main issue with this is that a hacker could potentially intercept the message, interchange the message with their own and the recipient would have no way of knowing that the message is authentic since the hash values are the same.\n",
    "\n",
    "5. The avalanche effect \n",
    "\n",
    "When any character of the message is changed, the resulting hash value should change so extensively that the new value should seem uncorrelated with the old value. This stops the hacker from attempting to find two different messages with the same value\n",
    "\n",
    "Below is an example of the avalanche effect using the SHA - 256 hash function"
   ]
  },
  {
   "cell_type": "code",
   "execution_count": 38,
   "metadata": {},
   "outputs": [
    {
     "name": "stdout",
     "output_type": "stream",
     "text": [
      "8bb0cf6eb9b17d0f7d22b456f121257dc1254e1f01665370476383ea776df414\n",
      "07ba38d7a9affba269a613da6d99a7ffa4d128ce38f5e24ee5a7383b796b58b2\n",
      "Hashes are not equal demonstrating the avalanche effect\n"
     ]
    }
   ],
   "source": [
    "a = print(hashlib.sha256(b'1234567').hexdigest())\n",
    "b = print(hashlib.sha256(b'1234568').hexdigest())  # here we change one number from 7 to 8\n",
    "if ('a' == 'b'):\n",
    "    print('Hashes are equal')\n",
    "else:\n",
    "    print('Hashes are not equal demonstrating the avalanche effect')"
   ]
  },
  {
   "cell_type": "markdown",
   "metadata": {},
   "source": [
    "When testing the RSA signature protocol we will do so with the SHA 256 and BLAKE2b hash functions"
   ]
  },
  {
   "cell_type": "markdown",
   "metadata": {},
   "source": [
    "## Sending a Hash via RSA encryption"
   ]
  },
  {
   "cell_type": "markdown",
   "metadata": {},
   "source": [
    "The RSA Encryption protocol is an asymmetric form on internet encryption used for secure data transmission. In this cryptosystem, there is a public key used by the sender to encrypt the message and a private key used by the recipient to decrypt it. The public key $(N,e)$ contains $N$, the product of two large primes $ p$ and $q$, and $e$ which we call the exponent. Normally the number $e = 65537$ is used and it can be repeatedly used by different people without comprising security. Moreover, the private key $(p,q)$ contains just $p$ and $q$ which can be multiplied together to get $N$. The asymmetry stems from the practical difficulty in factoring $N$ into $p$ and $q$ hence $N$ is avaliable to anyone without a security risk: this is known as the factoring problem. However, it is vital that $p$ and $q$ are not used by different people so we generate new random primes $p$ and $q$ each time we send a message."
   ]
  },
  {
   "cell_type": "markdown",
   "metadata": {},
   "source": [
    "We will now show the code needed to send a hash via RSA. First we create a hash function using SHA256 (complexity $O(n)$) which takes the message and returns a digest containing the hash."
   ]
  },
  {
   "cell_type": "code",
   "execution_count": 39,
   "metadata": {},
   "outputs": [],
   "source": [
    "def hash1(m):\n",
    "    h = hashlib.sha256(b'm')\n",
    "    return h.hexdigest()"
   ]
  },
  {
   "cell_type": "markdown",
   "metadata": {},
   "source": [
    "Next we convert the hash to integers so that we can apply RSA encryption to it. Each character of the hash or message will be converted into a string of ASCII characters."
   ]
  },
  {
   "cell_type": "code",
   "execution_count": 40,
   "metadata": {},
   "outputs": [],
   "source": [
    "def char_to_dec(c): # this converts each character to give an ASCII number\n",
    "    if len(c)==0:\n",
    "        return ' there is no input'\n",
    "    if not type(c) is str:\n",
    "        return 'input not a string'\n",
    "    if ord(c)<32 and ord(c)>255:\n",
    "        return 'output not in range'\n",
    "    n = str(ord(c)) \n",
    "    while len(n)< 3: # we need the ASCII number to be of length 3\n",
    "        n = '0'+ n\n",
    "    return n  \n",
    "\n",
    "def dec_convert_to_integer(message): \n",
    "    string = '1'\n",
    "    for letter in message:   #loop goes through message and converts each letter individually to an integer then adds it to the string\n",
    "        string = string + char_to_dec(letter)\n",
    "    return int(string)\n"
   ]
  },
  {
   "cell_type": "markdown",
   "metadata": {},
   "source": [
    "Next we generate two random large primes to form our private key $(p,q)$. Later on we will generate two $512$ bit primes since we can specify the bit length "
   ]
  },
  {
   "cell_type": "code",
   "execution_count": 41,
   "metadata": {},
   "outputs": [],
   "source": [
    "def random_prime(bit_length):\n",
    "    while True:\n",
    "        p = SystemRandom().getrandbits(bit_length)  #Here we are generating a random integer that has the designated number of bits when presented in binary format.\n",
    "        if is_prime(p) and len(bin(p)) == bit_length + 2: #Here we check that the number is prime and ensure that the binary format of the number does indeed have the right number of bits. The '+ 2' is because the bin() function returns the number with an initial '0b'. \n",
    "            return p"
   ]
  },
  {
   "cell_type": "code",
   "execution_count": 42,
   "metadata": {},
   "outputs": [],
   "source": [
    "def rsa_private_key(bit_length): # we generate our private key\n",
    "    p = random_prime(bit_length)\n",
    "    q = random_prime(bit_length)\n",
    "    return (p,q)"
   ]
  },
  {
   "cell_type": "markdown",
   "metadata": {},
   "source": [
    "Then we generate our public key $(N,e)$ using $e = 65537$ and $N$ to be the product of the two primes we generated before. We set $e$ to be $65537$ because most software is configured to use $65537$ so changing this value would reduce compatibility and slow the encryption process down. Moreover, since this is a Fermat prime, $65537$ is a compromise between using a large Fermat prime that makes the RSA operation slow, and a small Fermat prime that makes the encryption weak."
   ]
  },
  {
   "cell_type": "code",
   "execution_count": 43,
   "metadata": {},
   "outputs": [],
   "source": [
    "def rsa_public_key(p,q, e = 65537):\n",
    "    N = p*q\n",
    "    return (N,e)\n",
    "#Our public key N here is the product of our two new randomly generated primes.\n",
    "#We return a tuple again of our public key and the exponent.\n",
    "#Here e is an auxiallry number, know as 'the exponent', as stated in lectures, e=65537 is commonly used.\n",
    "#e should be coprime to ((p-1)(q-1))."
   ]
  },
  {
   "cell_type": "markdown",
   "metadata": {},
   "source": [
    "Next we encrypt our hash, $h$, as ciphertext $c$ by setting $c = h^e(modN)$.\n",
    "We have used $m$ instead of $h$ in our code as $m$ represents a general message"
   ]
  },
  {
   "cell_type": "code",
   "execution_count": 44,
   "metadata": {},
   "outputs": [],
   "source": [
    "def rsa_encrypt(m, N, e):  \n",
    "    '''\n",
    "    Given input (m,N,E) where m is the numerical \n",
    "    encoding of a message, returns the RSA \n",
    "    encryption of m using public key (N,e).\n",
    "    '''\n",
    "    return pow(m, e, N)\n",
    "#The pow functiion is the same as m^e mod N."
   ]
  },
  {
   "cell_type": "markdown",
   "metadata": {},
   "source": [
    "To decrypt the ciphertext $c$ the recipient needs to find the e-th root of $c$ modulo $N$. Since $$𝑐 ≡ 𝑚^𝑒 (mod 𝑁)$$ we can find integer $f$ such that, $$ef ≡ 1 modulo 𝜙(N) $$ where $𝜙(N)$ is the totient of $N$. Therefore, by raising $c$ to the power of $f$ we can extract our hash so we just need to find $f$, the multiplicative inverse of $e mod 𝜙(N)$.\n",
    "\n",
    "$m≡c^f≡𝑚^z(𝑚𝑜𝑑𝑁)  $ where $z = ef$\n",
    "\n",
    "For 𝑛 ∈ N we define the totient 𝜙 : N → N to be the function such that $𝜙(n)$ is the number of elements of {1, ... , n} that are coprime to $n$ where each element $1 ≤ i ≤ n$ satisfies $gcd(i,n)=1$\n",
    "\n",
    "To find the value of our totient, we use the private key $(p,q)$ and the fact that $N = pq$.\n",
    "Due to the multiplicative property of the totient, $$𝜙(𝑁)= 𝜙(pq)= 𝜙(p)𝜙(q)$$\n",
    "Hence, $$𝜙(𝑁) = (𝑝−1)⋅(𝑞−1) = 𝑝⋅𝑞−(𝑝+𝑞)+1$$\n",
    "\n",
    "Now we know the totient, we can decrypt the ciphertext"
   ]
  },
  {
   "cell_type": "code",
   "execution_count": 45,
   "metadata": {},
   "outputs": [],
   "source": [
    "def modular_inverse(a,n):\n",
    "    (g,x,y)=gcd_ext(a,n)\n",
    "    #The funtion gcd_ext returns (gcd,x,y) such that gcd=sx+ty, where s and t are integers.\n",
    "    if g==1:\n",
    "        return x%n\n",
    "        #We return x%n, where we have establlished x above,\n",
    "        #where % is the modulo opperator.\n",
    "    else:\n",
    "        return \"modular_inverse needs coprime inputs.\"\n",
    "#We firstly check that the modular_inverse function has coprime inputs, meaning gcd(a,n)=1.\n"
   ]
  },
  {
   "cell_type": "code",
   "execution_count": 46,
   "metadata": {},
   "outputs": [],
   "source": [
    "def rsa_decrypt(c,p,q,N,e):\n",
    "    totient = N - (p + q) + 1 # our private key allows us to quickly find the totient\n",
    "    f = modular_inverse(e,totient)\n",
    "    return pow(c,f,N)"
   ]
  },
  {
   "cell_type": "markdown",
   "metadata": {},
   "source": [
    "We have now received our message so we must now convert the integers back to our original hash"
   ]
  },
  {
   "cell_type": "code",
   "execution_count": 47,
   "metadata": {},
   "outputs": [],
   "source": [
    "def dec_convert_to_text(n):\n",
    "    if len(str(n))%3!=0: \n",
    "        n = str(n)[1:]\n",
    "    length = len(str(n))\n",
    "    text = ''\n",
    "    for i in range(0,length,3): # each character is denoted by 3 numbers in ASCII so we loop in steps of three\n",
    "        letters = str(n)[i:i+3] # takes 3 numbers each time and produces 1 character\n",
    "        text+= chr(int(letters))\n",
    "    return text"
   ]
  },
  {
   "cell_type": "markdown",
   "metadata": {},
   "source": [
    "We have shown how to use RSA to send a simple message such as a hash however, in the next section we will show how use the hash as a digital signature to check that the attached message sent is authentic. "
   ]
  },
  {
   "cell_type": "markdown",
   "metadata": {},
   "source": [
    "## Checking the hash for authenticity"
   ]
  },
  {
   "cell_type": "markdown",
   "metadata": {},
   "source": [
    "To check that the message has not been tampered with, we must compute the hash value at the start and at the end. If the values do not align then we know that the message has been altered during transmission"
   ]
  },
  {
   "cell_type": "markdown",
   "metadata": {},
   "source": [
    "We will start by defining our message and running it through a hashing function"
   ]
  },
  {
   "cell_type": "code",
   "execution_count": 48,
   "metadata": {},
   "outputs": [],
   "source": [
    "message = 'message'"
   ]
  },
  {
   "cell_type": "code",
   "execution_count": 49,
   "metadata": {},
   "outputs": [
    {
     "name": "stdout",
     "output_type": "stream",
     "text": [
      "Our hash is 62c66a7a5dd70c3146618063c344e531e6d4b59e379808443ce962b3abd63c5a\n"
     ]
    }
   ],
   "source": [
    "h = hash1(message)\n",
    "print('Our hash is '+ hash1(message))"
   ]
  },
  {
   "cell_type": "markdown",
   "metadata": {},
   "source": [
    "Next we convert our message into an integer"
   ]
  },
  {
   "cell_type": "code",
   "execution_count": 50,
   "metadata": {},
   "outputs": [
    {
     "name": "stdout",
     "output_type": "stream",
     "text": [
      "The converted message is 1109101115115097103101\n"
     ]
    }
   ],
   "source": [
    "m = dec_convert_to_integer(message)\n",
    "print('The converted message is '+ str(m))"
   ]
  },
  {
   "cell_type": "markdown",
   "metadata": {},
   "source": [
    "Subsequently we convert our hash into an integer aswell"
   ]
  },
  {
   "cell_type": "code",
   "execution_count": 51,
   "metadata": {},
   "outputs": [
    {
     "name": "stdout",
     "output_type": "stream",
     "text": [
      "The converted hash is 1054050099054054097055097053100100055048099051049052054054049056048054051099051052052101053051049101054100052098053057101051055057056048056052052051099101057054050098051097098100054051099053097\n"
     ]
    }
   ],
   "source": [
    "hI = dec_convert_to_integer(h)\n",
    "print('The converted hash is ' + str(hI))"
   ]
  },
  {
   "cell_type": "markdown",
   "metadata": {},
   "source": [
    "Now we generate our private key $(p,q)$ and public key $(N,e)$."
   ]
  },
  {
   "cell_type": "code",
   "execution_count": 52,
   "metadata": {},
   "outputs": [
    {
     "name": "stdout",
     "output_type": "stream",
     "text": [
      "The recipient's private key is (p,q) where: \n",
      "\n",
      "p = 13026148054232851126178972296895477689003123182079944732302459150413054623558652532120171019768988285233663181213391774248196919710684942897102607503660021\n",
      "\n",
      "q = 11633132463579902389496246923423348196545510888210341661501686181629902399533732538582513073336916549313530998737500383632879216926092987886493235286349683\n"
     ]
    }
   ],
   "source": [
    "(p,q) = rsa_private_key(512)\n",
    "print(\"The recipient's private key is (p,q) where: \\n\") \n",
    "print(\"p = \" +str(p))\n",
    "print(\"\\nq = \" +str(q))\n"
   ]
  },
  {
   "cell_type": "code",
   "execution_count": 53,
   "metadata": {},
   "outputs": [
    {
     "name": "stdout",
     "output_type": "stream",
     "text": [
      "The sender's public key is (N,e) where:\n",
      "\n",
      "N = 151534905805094359379580229601315067881946648225856211040458637603273448858917797572243905760562539496840425321186110140569795847566148663158521648304925076549081909852336073910036453220008524272153433430453780478005680002134059074864825254550620259038177028769429063401412024950506044686006633604403353123343\n",
      "\n",
      "e = 65537\n"
     ]
    }
   ],
   "source": [
    "(N,e) = rsa_public_key(p,q)\n",
    "print(\"The sender's public key is (N,e) where:\\n\") \n",
    "print(\"N = \" +str(N))\n",
    "print(\"\\ne = \" +str(e))"
   ]
  },
  {
   "cell_type": "markdown",
   "metadata": {},
   "source": [
    "With our public key in the sender's hands and our private key in the recipient's hands, it is now time to encrypt our hash and message. "
   ]
  },
  {
   "cell_type": "code",
   "execution_count": 54,
   "metadata": {},
   "outputs": [
    {
     "name": "stdout",
     "output_type": "stream",
     "text": [
      "The sender encrypts their converted message m into c.\n",
      "\n",
      "c = 66316395556942488029458206385180859662639728154155905031678093658676210807262956845069716739143204734569175807352810002358103312705346064549075533798814146819127044900955034263394788166498747757651031220061079767899263156659163786742058357178739477923766035722621554162084715244250473454814523843904966557647\n",
      "\n",
      "The sender encrypts their converted hash hI into c2.\n",
      "\n",
      "c2 = 139753194231044401892004176700041460362257612062699392723773251698512628637483599538614257532267588660187346486061811557525107872306457193541651843482606631800513886537704479147472875699306350344847967255686008957480616761469379605326515091631719950331065059052074062790516441605105889250844186319198002791589\n"
     ]
    }
   ],
   "source": [
    "c = rsa_encrypt(m,N,e)\n",
    "c2 = rsa_encrypt(hI,N,e)\n",
    "print(\"The sender encrypts their converted message m into c.\") \n",
    "print(\"\\nc = \"+str(c))\n",
    "print(\"\\nThe sender encrypts their converted hash hI into c2.\") \n",
    "print(\"\\nc2 = \"+str(c2))"
   ]
  },
  {
   "cell_type": "markdown",
   "metadata": {},
   "source": [
    "After our messages have been sent, we now decrypt them"
   ]
  },
  {
   "cell_type": "code",
   "execution_count": 55,
   "metadata": {},
   "outputs": [
    {
     "name": "stdout",
     "output_type": "stream",
     "text": [
      "The decrypted message is:\n",
      "\n",
      "m_new1 = 1109101115115097103101\n",
      "The decrypted integer hash is:\n",
      "\n",
      "hI_new = 1054050099054054097055097053100100055048099051049052054054049056048054051099051052052101053051049101054100052098053057101051055057056048056052052051099101057054050098051097098100054051099053097\n"
     ]
    }
   ],
   "source": [
    "m_new1 = rsa_decrypt(c,p,q,N,e)\n",
    "print(\"The decrypted message is:\") \n",
    "print(\"\\nm_new1 = \"+str(m_new1))\n",
    "hI_new = rsa_decrypt(c2,p,q,N,e)\n",
    "print(\"The decrypted integer hash is:\") \n",
    "print(\"\\nhI_new = \"+str(hI_new))"
   ]
  },
  {
   "cell_type": "markdown",
   "metadata": {},
   "source": [
    "Now we convert the hash and message from integers back to the original format"
   ]
  },
  {
   "cell_type": "code",
   "execution_count": 56,
   "metadata": {},
   "outputs": [
    {
     "name": "stdout",
     "output_type": "stream",
     "text": [
      "The original hash is = 62c66a7a5dd70c3146618063c344e531e6d4b59e379808443ce962b3abd63c5a\n",
      "The original message is = message\n"
     ]
    }
   ],
   "source": [
    "h_new = dec_convert_to_text(hI_new)\n",
    "print('The original hash is = '+ str(h_new))\n",
    "m_new = dec_convert_to_text(m_new1)\n",
    "print('The original message is = ' + str(m_new))"
   ]
  },
  {
   "cell_type": "markdown",
   "metadata": {},
   "source": [
    "Now we must check the message using the hash to see if it is authentic. To do this we must pass the new message through the hash function and if we get the same hash as the one we were sent, then we know that the message is authentic. "
   ]
  },
  {
   "cell_type": "code",
   "execution_count": 57,
   "metadata": {},
   "outputs": [
    {
     "name": "stdout",
     "output_type": "stream",
     "text": [
      "62c66a7a5dd70c3146618063c344e531e6d4b59e379808443ce962b3abd63c5a\n",
      "message is authentic\n"
     ]
    }
   ],
   "source": [
    "h_new_m = hash1(m_new)\n",
    "print(h_new_m)\n",
    "if (h_new_m == h_new):\n",
    "    print('message is authentic')"
   ]
  },
  {
   "cell_type": "markdown",
   "metadata": {},
   "source": [
    "This implies that the message is from the intended sender and has not been tampered with."
   ]
  },
  {
   "cell_type": "markdown",
   "metadata": {},
   "source": [
    "## Second Example using a Different Hash Function\n",
    "\n",
    "Now we will use the MD5 hash function to send an encrypted message and check for authenticity, highlighting that we can do this no matter which hash function we are using."
   ]
  },
  {
   "cell_type": "code",
   "execution_count": 58,
   "metadata": {},
   "outputs": [
    {
     "name": "stdout",
     "output_type": "stream",
     "text": [
      "The hash of the message =\n",
      "6f8f57715090da2632453988d9a1501b\n",
      "\n",
      "The converted message is\n",
      "1115101099111110100032101120097109112108101\n",
      "\n",
      "The converted hash is\n",
      "1054102056102053055055049053048057048100097050054051050052053051057056056100057097049053048049098\n",
      "\n",
      "The private key is\n",
      "p2 =\n",
      "8929779246238567065961292509869688982128727017219870261730905242448803445800554194595138109358476830875973448522620875211382416082353551464964597697585021\n",
      "q2 =\n",
      "12595812749043694791328003661321186163295562301986051131181276188357552752045256166019184442985153399543122373846445112488633100796831402566682771165548381\n",
      "\n",
      "The public key is\n",
      "N2 =\n",
      "112477827275917538185696304147977690712275510496256849311695811048366193003987576459053894968885084773712626208276079534002639321305117978964888239478841851354856500408417903522150074016542865832980337974456923921344441703084484854125496180271836359214853011464574920868544088686985052422209079524718836401001\n",
      "e2 =\n",
      "65537\n",
      "\n",
      "The ciphertext is\n",
      "d =\n",
      "45997513859401760588041750555337096839606562614173203971015814417807914405503153176082571176740906275816570553249010009320507532907537973628229896500948820993229760874488041680175955104401819311137597011745967203719277461407688459491598613011452648414102895307669471617162859444727774167610417775882252118872\n",
      "d2 =\n",
      "53800527385964350574344765009983342466053977416995149970403598755525292275293480751140603961851588373717983569916731650664593419947347506363084288358927113764897987563171011058390359160616142922661857351936589702576545211518420992466809193873842107542672306883420653280563305721817204150454014715937276598420\n",
      "\n",
      "Once converted to normal text, the decrypted message is =\n",
      "second example\n",
      "\n",
      "Once converted to normal text, the decrypted hash is\n",
      "6f8f57715090da2632453988d9a1501b\n",
      "\n",
      "The hash of the decrypted message =\n",
      "6f8f57715090da2632453988d9a1501b\n",
      "\n",
      "message is authentic\n"
     ]
    }
   ],
   "source": [
    "def hash2(m):  # we create our md5 hash function\n",
    "    h = hashlib.md5(b'm')\n",
    "    return h.hexdigest()\n",
    "text = 'second example' # create our secret message that we want to send\n",
    "h2 = hash2(text)\n",
    "print('The hash of the message =')  # create the hash of the message\n",
    "print(str(h2))\n",
    "\n",
    "m2 = dec_convert_to_integer(text) # convert the message to integers\n",
    "print('\\nThe converted message is')\n",
    "print(m2)\n",
    "h2I = dec_convert_to_integer(h2)  # convert the hash to integers\n",
    "print('\\nThe converted hash is')\n",
    "print(h2I)\n",
    "(p2,q2) = rsa_private_key(512)  # create the private key\n",
    "print('\\nThe private key is')\n",
    "print('p2 =')\n",
    "print(p2)\n",
    "print('q2 =')\n",
    "print(q2)\n",
    "(N2,e2) = rsa_public_key(p2,q2)  # create the public key\n",
    "\n",
    "print('\\nThe public key is')\n",
    "print('N2 =')\n",
    "print(N2)\n",
    "print('e2 =')\n",
    "print(e2)\n",
    "d = rsa_encrypt(m2,N2,e2)  # encrypt the integer message\n",
    "d2 = rsa_encrypt(h2I,N2,e2) # encrypt the integer hash\n",
    "\n",
    "print('\\nThe ciphertext is')\n",
    "print('d =')\n",
    "print(d)\n",
    "print('d2 =')\n",
    "print(d2)\n",
    "m2_new1 = rsa_decrypt(d,p2,q2,N2,e2) # decrypt the integer message\n",
    "h2I_new = rsa_decrypt(d2,p2,q2,N2,e2) # decrypt the integer hash\n",
    "m2_new = dec_convert_to_text(m2_new1) # convert the integer message back to normal characters\n",
    "print('\\nOnce converted to normal text, the decrypted message is =')\n",
    "print(m2_new)\n",
    "h2_new = dec_convert_to_text(h2I_new) # convert the hash back to the original form\n",
    "print('\\nOnce converted to normal text, the decrypted hash is')\n",
    "print(h2_new)\n",
    "print('\\nThe hash of the decrypted message =')\n",
    "h_new_m2 = hash2(m2_new) # create a new hash from the decrypted message\n",
    "print(h_new_m2)\n",
    "\n",
    "if (h_new_m2 == h2_new):  # check the two hashes for equality to see if the message sent is authentic\n",
    "    print('\\nmessage is authentic')\n",
    "    "
   ]
  },
  {
   "cell_type": "markdown",
   "metadata": {},
   "source": [
    "## Security\n",
    "\n",
    "For a hash function to be considered secure, there are three specific security properties it must satisfy for it to be resistance to attacks:\n",
    "\n",
    "The first one is pre-image resistance. This property ensures that with any given output, it is not possible to recover the input. This one way property is similar to baking a cake since the ingredients of the cake cannot be recovered once the cake is cooked. However, there is still the possibility of a brute force attack so to ensure that this does not happen, the output should be more than $128$ bits. Once the output is of this length, it becomes very difficult to perform a brute force attack so we consider the hash secure.\n",
    "\n",
    "The second one is second pre-image resistance. The property states that if given a specific input and output, you should not be able to find a different input that hashes to the same digest. This is also known as the weak collision resistance. In order to prevent second pre image resistance, the output must be more than $128$ bits.\n",
    "\n",
    "Finally, the third property is collision-resistance. It should be hard to produce two different inputs that hash to the same output. MD5 is very vulnerable to collisions so the use of this hash function in data transmission is being phased out.\n",
    "\n",
    "Furthermore, there is an infinite number of inputs that hash to the same output so the smaller the number of bits in the hash, the greater the number of inputs which map to the same hash. Hence, the minimum output size which a hash function must produce is $256$ bits in order for collisions to be considered out of reach. However, a common attack which attempts to produce collisions is called the birthday attack. It tries to find two different inputs which yield the same hash and has a time complexity of $2^{n/2}$ where n is number of bits."
   ]
  },
  {
   "cell_type": "markdown",
   "metadata": {},
   "source": [
    "## Time Complexity\n",
    "\n",
    "Time complexity of an algorithm quantifies the amount of time taken by an algorithm to run as a function of the length of the input. It is commonly estimated by counting the number of operations in the algorithm on an input of size n whilst assuming that each operation takes the same amount of time. The best attack on MD5 produced a collision in $2^{18}$ time however we commonly express time complexity as a function of the input size using big $O$ notation. For example, MD5 and SHA-256 both have a time complexity of $O(n)$ itself.\n",
    "\n",
    "We define hard as a problem if it is unfeasible to solve it in polynomial time where polynomial time is a measure of time complexity. For a hash function to be considered secure, it should be unfeasible to find two different inputs which match to the same output.\n",
    "\n",
    "Integer factorisation is another problem which is considered unfeasible in polynomial time. This allows the RSA algorithm to be considered secure since it is very difficult to factorise $N$ into prime factors $p$ and $q$."
   ]
  },
  {
   "cell_type": "markdown",
   "metadata": {},
   "source": [
    "# Part Three-Applying the RSA Function"
   ]
  },
  {
   "cell_type": "markdown",
   "metadata": {},
   "source": [
    "In this section we will apply the RSA related functions which were defined in lectures in order to encrpyt and decrypt large messages, of thousands of characters. In order to do this we will slice up the message into smaller strings and follow the encryption and decryption protocals of the RSA function. We will then look at the security implcations of this method and discuss other ways in which we can handle large messages. "
   ]
  },
  {
   "cell_type": "markdown",
   "metadata": {},
   "source": [
    "Using the functions for the RSA method defined in lectures, plus some additional functions, we will encrypt and decrypt a 2000+ character message.\n",
    "\n",
    "This section is based on ideas in [16] and [17]."
   ]
  },
  {
   "cell_type": "markdown",
   "metadata": {},
   "source": [
    "Here we use the aforementioned RSA private key which is essentially the password for this encryption. This finds two random primes, $p$ and $q$, and returns a tuple of them both. The primes $p$ and $q$ are generated from a defined bit length which in this case is going to be $512$. $512$ has been chosen since it is considerably large and we have that the larger the chosen bit length, the harder the primes will be to decipher, should someone wish to. \n",
    "\n",
    "We use the rsa_private_key as defined in Part Two."
   ]
  },
  {
   "cell_type": "code",
   "execution_count": 59,
   "metadata": {},
   "outputs": [
    {
     "name": "stdout",
     "output_type": "stream",
     "text": [
      "Our private key is (p,q) where: \n",
      "\n",
      "p = \n",
      "12353990886346253403161803457071685485990319728792271348514813056275575479519649897082621543732562674679971214281279174869590874222854605598542723513616999\n",
      "\n",
      "q = \n",
      "7512464353231431642540041352977619530089018739120115117853775176200474036823513054866308247157629394331781146900739289868760257615053877295152386773160561\n"
     ]
    }
   ],
   "source": [
    "(p,q) = rsa_private_key(512)\n",
    "print(\"Our private key is (p,q) where: \\n\")\n",
    "print(\"p = \")\n",
    "print(p)\n",
    "print(\"\\nq = \")\n",
    "print(q)"
   ]
  },
  {
   "cell_type": "markdown",
   "metadata": {},
   "source": [
    "We will then use the RSA public key function from lectures to generate a public password which is freely accessible to anyone. The difference between the public key and the private key is that the private key is used for us to decrypt the message after it has been sent, whereas the public key is used by anyone to encrpyt a message."
   ]
  },
  {
   "cell_type": "code",
   "execution_count": 60,
   "metadata": {},
   "outputs": [
    {
     "name": "stdout",
     "output_type": "stream",
     "text": [
      "Our public key is (N,e) where:\n",
      "\n",
      "N = \n",
      "92808916153822207509109800721020638937893080324134020605589815311712623872239998469755056550304977021201744559442432256994018912056080162845097665315236011866198921106760314011330909381475608490456232859977716422209952929759967007115329298738473262252934867525517993924580426119489382040516639265624085976439\n",
      "\n",
      "e = 65537\n"
     ]
    }
   ],
   "source": [
    "(N,e) = rsa_public_key(p,q)\n",
    "print(\"Our public key is (N,e) where:\\n\")\n",
    "print(\"N = \")\n",
    "print(N)\n",
    "print(\"\\ne = {}\".format(e))"
   ]
  },
  {
   "cell_type": "markdown",
   "metadata": {},
   "source": [
    "We now have generated our public key and our private key and so we can simulate an encryption of the message below. "
   ]
  },
  {
   "cell_type": "markdown",
   "metadata": {},
   "source": [
    "## The Message\n",
    "\n",
    "We have been asked to use a message which is at least 2000 characters long and break this up into smaller strings. The message we have chosen is below and is 2363 characters."
   ]
  },
  {
   "cell_type": "code",
   "execution_count": 61,
   "metadata": {},
   "outputs": [
    {
     "name": "stdout",
     "output_type": "stream",
     "text": [
      "this message is 2363 characters long\n"
     ]
    }
   ],
   "source": [
    "message = \"The University of Bristol is a red brick research university in Bristol, England.[8] It received its royal charter in 1909,[9] although it can trace its roots to a Merchant Venturers' school founded in 1595 and University College, Bristol, which had been in existence since 1876.[10] Bristol is organised into six academic faculties composed of multiple schools and departments running over 200 undergraduate courses, largely in the Tyndalls Park area of the city.[11] The university had a total income of £642.7 million in 2017-18, of which £164.0 million was from research grants and contracts.[2] It is the largest independent employer in Bristol.[12] The University of Bristol is ranked 49th by the QS World University Rankings 2020, and is ranked in the top 10 of UK universities in 2020 by QS World University rankings,[13] Times Higher Education,[14] and ARWU.[15] The University of Bristol was the second most targeted university by the UK's top 100 employers, according to the Graduate Market in 2019 report produced by High Fliers. An extremely selective institution, it has an average of 6.4 (Sciences faculty) to 13.1 (Medicine & Dentistry Faculty) applicants for each undergraduate place.[17] It was ranked 9th in the UK among multi-faculty institutions for the quality (GPA) of its research[18] and for its Research Power in the 2014 Research Excellence Framework.[19] Current academics include 21 fellows of the Academy of Medical Sciences, 13 fellows of the British Academy, 13 fellows of the Royal Academy of Engineering and 44 fellows of the Royal Society.[20] The university has been associated with 13 Nobel laureates throughout its history, including Paul Dirac, Sir William Ramsay, Cecil Frank Powell, Sir Winston Churchill, Dorothy Hodgkin, Hans Albrecht Bethe, Max Delbrück, Gerhard Herzberg, Sir Nevill Francis Mott, Sir Paul Nurse, Harold Pinter, Jean-Marie Gustave Le Clézio and most recently, 2015 Economics Nobel Prize winner Angus Deaton. Bristol is a member of the Russell Group of research-intensive British universities,[21] the European-wide Coimbra Group[22] and the Worldwide Universities Network, of which the university's previous vice-chancellor, Eric Thomas, was chairman from 2005 to 2007.[23] In addition, the university holds an Erasmus Charter, sending more than 500 students per year to partner institutions in Europe.\"\n",
    "print('this message is ' +str(len(message)) + ' characters long')"
   ]
  },
  {
   "cell_type": "code",
   "execution_count": 62,
   "metadata": {},
   "outputs": [],
   "source": [
    "#Since we are using such a long message, it makes sense to split it up into smaller strings.\n",
    "def slice_message(message):\n",
    "    n=100\n",
    "    sliced = [message[i:i+n] for i in range(0, len(message), n)]\n",
    "    #This will slice the message every 100 characters.\n",
    "    return sliced\n",
    "#We have chosen to slice the message every 100 characters as this creates much smaller strings."
   ]
  },
  {
   "cell_type": "markdown",
   "metadata": {},
   "source": [
    "Now we have split up the long message into smaller strings of 100 characters each, we will now convert each string to an integer using the char_to_byte function and the convert_to_integer function:"
   ]
  },
  {
   "cell_type": "code",
   "execution_count": 63,
   "metadata": {},
   "outputs": [],
   "source": [
    "#This function converts every character in our new message to a binary value as a string.\n",
    "def char_to_byte(char): \n",
    "    byte_string = bin(ord(char))[2:]\n",
    "    #We define the byte_string by removing the 0b at the begining of a binary number.\n",
    "    #ord() function returns an integer representing the Unicode character.\n",
    "    #bin() returns a binary value which corresponds to the new integer generated by ord()\n",
    "    num_zeros = 8 - len(byte_string)\n",
    "    #We need to establish how many zeros to add to the front of the new binary number.\n",
    "    for i in range(num_zeros):\n",
    "        byte_string = '0' + byte_string\n",
    "    return byte_string"
   ]
  },
  {
   "cell_type": "code",
   "execution_count": 64,
   "metadata": {},
   "outputs": [],
   "source": [
    "#We then use the char_to_byte function to convert each of our new 100 character long strings into binary values.\n",
    "def convert_to_integer(text): \n",
    "    bin_string = '1'\n",
    "    #We establish bin_string = '1' since we want each binary string to begin with 1.\n",
    "    for letter in text: \n",
    "        #Then for each letter in our 100 character long string, we convert it to binary and then\n",
    "        #add this binary string to a string of binary values corresponding to the previous characters in the string.\n",
    "        bin_string = bin_string + char_to_byte(letter)\n",
    "    return int(bin_string,2)\n",
    "#We then return the integer version of the binary string we have just generated.\n",
    "\n",
    "def convert_to_int_sliced(message):\n",
    "    #Then, to convert the entire message, we slice it up using the previously defined slice_message function.\n",
    "    sliced = slice_message(message)\n",
    "    allstr=[]\n",
    "    for i in range(0,len(sliced)):\n",
    "        #We then run the convert_to_integer function for all of our 100 character strings and append this\n",
    "        #to a list of all newly coded into binary strings.\n",
    "        allstr.append(convert_to_integer(sliced[i]))\n",
    "    return allstr\n",
    "\n",
    "    \n",
    "'''\n",
    "Using the covert_to_integer function introduced \n",
    "in lectures, we have then introduced a function \n",
    "which coverts each string in the sliced up message \n",
    "into an integer, rather than covering the \n",
    "entire message into a massive integer.\n",
    "'''\n",
    "\n",
    "allstr=convert_to_int_sliced(message)"
   ]
  },
  {
   "cell_type": "markdown",
   "metadata": {},
   "source": [
    "Then, using a for loop, we have managed to obtain 24 different integers which represent the 24 strings of 100 characters. We will continually use for loops to apply the RSA fucntions defined in lectures to our list. "
   ]
  },
  {
   "cell_type": "markdown",
   "metadata": {},
   "source": [
    "## Encrypting the message\n",
    "\n",
    "Now that we have turned the message into integers rather than letters, we now need to encrpyt it in order to send it over to the reciever.\n",
    "\n",
    "For the encryption function, given a string of binary values, we use the pow() function which works out $m^e mod N$ given our inputs of $m$ being the binary value, $N$ being the public key and $e$ being the previously defined value of $65537$\n",
    "The outcome of the rsa_encrypt function is a string of $c$ values which will be used to then be decrypted in order to get out the message."
   ]
  },
  {
   "cell_type": "code",
   "execution_count": 65,
   "metadata": {},
   "outputs": [
    {
     "name": "stdout",
     "output_type": "stream",
     "text": [
      "[40706217615099616321470972316157928613315238046967970074722518991008716496000250397370968890209433433182636420041498264929255508294920301438682802889411136280339783910856585601029094016271608917345682196123441018704928605380666358402380297536403400993374130045249674887627777892213418678779608297407786784948]\n",
      "[40706217615099616321470972316157928613315238046967970074722518991008716496000250397370968890209433433182636420041498264929255508294920301438682802889411136280339783910856585601029094016271608917345682196123441018704928605380666358402380297536403400993374130045249674887627777892213418678779608297407786784948, 36623945887297086351917749492984725311719981685949362198421082148268943236993352710377486823855602654188570187535510927729545349407247785792078126259908532324024374266892786931210179441248864706704703926911155479074646087178408074111669797645140751577356305246220031972427869468228130597984373043291779661026]\n",
      "[40706217615099616321470972316157928613315238046967970074722518991008716496000250397370968890209433433182636420041498264929255508294920301438682802889411136280339783910856585601029094016271608917345682196123441018704928605380666358402380297536403400993374130045249674887627777892213418678779608297407786784948, 36623945887297086351917749492984725311719981685949362198421082148268943236993352710377486823855602654188570187535510927729545349407247785792078126259908532324024374266892786931210179441248864706704703926911155479074646087178408074111669797645140751577356305246220031972427869468228130597984373043291779661026, 25016607546195487615887043775928408555460465503933594357951426041159762148113822603465561124849375369553700117727784915907666931763548204200591592452431662272308486338139942442444395879197796934063063828412994869700831007421765449701188744834802978609940703535200672576542775990161303879957502851214810936859]\n",
      "[40706217615099616321470972316157928613315238046967970074722518991008716496000250397370968890209433433182636420041498264929255508294920301438682802889411136280339783910856585601029094016271608917345682196123441018704928605380666358402380297536403400993374130045249674887627777892213418678779608297407786784948, 36623945887297086351917749492984725311719981685949362198421082148268943236993352710377486823855602654188570187535510927729545349407247785792078126259908532324024374266892786931210179441248864706704703926911155479074646087178408074111669797645140751577356305246220031972427869468228130597984373043291779661026, 25016607546195487615887043775928408555460465503933594357951426041159762148113822603465561124849375369553700117727784915907666931763548204200591592452431662272308486338139942442444395879197796934063063828412994869700831007421765449701188744834802978609940703535200672576542775990161303879957502851214810936859, 33310068040612756015211264773029364780680245911087927132498359963200438855460878901426947193074922079403137816039341076444155993172357904544006731592352047643519680007621621438412137083039311891678041347522565337098194339096097669023857919540190845684568430508955356972620969831107964372044348241005088253211]\n",
      "[40706217615099616321470972316157928613315238046967970074722518991008716496000250397370968890209433433182636420041498264929255508294920301438682802889411136280339783910856585601029094016271608917345682196123441018704928605380666358402380297536403400993374130045249674887627777892213418678779608297407786784948, 36623945887297086351917749492984725311719981685949362198421082148268943236993352710377486823855602654188570187535510927729545349407247785792078126259908532324024374266892786931210179441248864706704703926911155479074646087178408074111669797645140751577356305246220031972427869468228130597984373043291779661026, 25016607546195487615887043775928408555460465503933594357951426041159762148113822603465561124849375369553700117727784915907666931763548204200591592452431662272308486338139942442444395879197796934063063828412994869700831007421765449701188744834802978609940703535200672576542775990161303879957502851214810936859, 33310068040612756015211264773029364780680245911087927132498359963200438855460878901426947193074922079403137816039341076444155993172357904544006731592352047643519680007621621438412137083039311891678041347522565337098194339096097669023857919540190845684568430508955356972620969831107964372044348241005088253211, 64287346670844542935201965303907659639430702285883777455018740393846190506032947674513816868666075623170276500418977501298779817982304734300700613106398494298797046335040382221563316336704396563629508928197239853167565858932573873646823385352657251262531747208008507838673523317732507082126356529123256929133]\n",
      "[40706217615099616321470972316157928613315238046967970074722518991008716496000250397370968890209433433182636420041498264929255508294920301438682802889411136280339783910856585601029094016271608917345682196123441018704928605380666358402380297536403400993374130045249674887627777892213418678779608297407786784948, 36623945887297086351917749492984725311719981685949362198421082148268943236993352710377486823855602654188570187535510927729545349407247785792078126259908532324024374266892786931210179441248864706704703926911155479074646087178408074111669797645140751577356305246220031972427869468228130597984373043291779661026, 25016607546195487615887043775928408555460465503933594357951426041159762148113822603465561124849375369553700117727784915907666931763548204200591592452431662272308486338139942442444395879197796934063063828412994869700831007421765449701188744834802978609940703535200672576542775990161303879957502851214810936859, 33310068040612756015211264773029364780680245911087927132498359963200438855460878901426947193074922079403137816039341076444155993172357904544006731592352047643519680007621621438412137083039311891678041347522565337098194339096097669023857919540190845684568430508955356972620969831107964372044348241005088253211, 64287346670844542935201965303907659639430702285883777455018740393846190506032947674513816868666075623170276500418977501298779817982304734300700613106398494298797046335040382221563316336704396563629508928197239853167565858932573873646823385352657251262531747208008507838673523317732507082126356529123256929133, 42127257728622434091052683298760484637736212613208506377930444440252211096640704886017132952036727060364311687091385392073381529688265222280415772319644577024622081652909398397750563634408823105097026634185594785106611535898115825663582518342806121485243549263675374440627565432622894322174300980262857391224]\n",
      "[40706217615099616321470972316157928613315238046967970074722518991008716496000250397370968890209433433182636420041498264929255508294920301438682802889411136280339783910856585601029094016271608917345682196123441018704928605380666358402380297536403400993374130045249674887627777892213418678779608297407786784948, 36623945887297086351917749492984725311719981685949362198421082148268943236993352710377486823855602654188570187535510927729545349407247785792078126259908532324024374266892786931210179441248864706704703926911155479074646087178408074111669797645140751577356305246220031972427869468228130597984373043291779661026, 25016607546195487615887043775928408555460465503933594357951426041159762148113822603465561124849375369553700117727784915907666931763548204200591592452431662272308486338139942442444395879197796934063063828412994869700831007421765449701188744834802978609940703535200672576542775990161303879957502851214810936859, 33310068040612756015211264773029364780680245911087927132498359963200438855460878901426947193074922079403137816039341076444155993172357904544006731592352047643519680007621621438412137083039311891678041347522565337098194339096097669023857919540190845684568430508955356972620969831107964372044348241005088253211, 64287346670844542935201965303907659639430702285883777455018740393846190506032947674513816868666075623170276500418977501298779817982304734300700613106398494298797046335040382221563316336704396563629508928197239853167565858932573873646823385352657251262531747208008507838673523317732507082126356529123256929133, 42127257728622434091052683298760484637736212613208506377930444440252211096640704886017132952036727060364311687091385392073381529688265222280415772319644577024622081652909398397750563634408823105097026634185594785106611535898115825663582518342806121485243549263675374440627565432622894322174300980262857391224, 36121982925648052667458713431736354755857146751389988066185696700867421784540290688452543547785879636343648797738206424519435447564747389092135745630251599030590945190546884591894293695507155946830239881760681998657244765573775906043851451444876919413342434173719435453556361964214980494997024054866810325258]\n",
      "[40706217615099616321470972316157928613315238046967970074722518991008716496000250397370968890209433433182636420041498264929255508294920301438682802889411136280339783910856585601029094016271608917345682196123441018704928605380666358402380297536403400993374130045249674887627777892213418678779608297407786784948, 36623945887297086351917749492984725311719981685949362198421082148268943236993352710377486823855602654188570187535510927729545349407247785792078126259908532324024374266892786931210179441248864706704703926911155479074646087178408074111669797645140751577356305246220031972427869468228130597984373043291779661026, 25016607546195487615887043775928408555460465503933594357951426041159762148113822603465561124849375369553700117727784915907666931763548204200591592452431662272308486338139942442444395879197796934063063828412994869700831007421765449701188744834802978609940703535200672576542775990161303879957502851214810936859, 33310068040612756015211264773029364780680245911087927132498359963200438855460878901426947193074922079403137816039341076444155993172357904544006731592352047643519680007621621438412137083039311891678041347522565337098194339096097669023857919540190845684568430508955356972620969831107964372044348241005088253211, 64287346670844542935201965303907659639430702285883777455018740393846190506032947674513816868666075623170276500418977501298779817982304734300700613106398494298797046335040382221563316336704396563629508928197239853167565858932573873646823385352657251262531747208008507838673523317732507082126356529123256929133, 42127257728622434091052683298760484637736212613208506377930444440252211096640704886017132952036727060364311687091385392073381529688265222280415772319644577024622081652909398397750563634408823105097026634185594785106611535898115825663582518342806121485243549263675374440627565432622894322174300980262857391224, 36121982925648052667458713431736354755857146751389988066185696700867421784540290688452543547785879636343648797738206424519435447564747389092135745630251599030590945190546884591894293695507155946830239881760681998657244765573775906043851451444876919413342434173719435453556361964214980494997024054866810325258, 15687099057256852984934664470816544487780184431890293010682865075417484661096003735648071686266266793574510071228196535064457477679914105637838246963428930446623944666302280953620543956502256030138078248275000716577157095401471716788642754335124713469027530625592891011198087953293025748292916822342959439582]\n",
      "[40706217615099616321470972316157928613315238046967970074722518991008716496000250397370968890209433433182636420041498264929255508294920301438682802889411136280339783910856585601029094016271608917345682196123441018704928605380666358402380297536403400993374130045249674887627777892213418678779608297407786784948, 36623945887297086351917749492984725311719981685949362198421082148268943236993352710377486823855602654188570187535510927729545349407247785792078126259908532324024374266892786931210179441248864706704703926911155479074646087178408074111669797645140751577356305246220031972427869468228130597984373043291779661026, 25016607546195487615887043775928408555460465503933594357951426041159762148113822603465561124849375369553700117727784915907666931763548204200591592452431662272308486338139942442444395879197796934063063828412994869700831007421765449701188744834802978609940703535200672576542775990161303879957502851214810936859, 33310068040612756015211264773029364780680245911087927132498359963200438855460878901426947193074922079403137816039341076444155993172357904544006731592352047643519680007621621438412137083039311891678041347522565337098194339096097669023857919540190845684568430508955356972620969831107964372044348241005088253211, 64287346670844542935201965303907659639430702285883777455018740393846190506032947674513816868666075623170276500418977501298779817982304734300700613106398494298797046335040382221563316336704396563629508928197239853167565858932573873646823385352657251262531747208008507838673523317732507082126356529123256929133, 42127257728622434091052683298760484637736212613208506377930444440252211096640704886017132952036727060364311687091385392073381529688265222280415772319644577024622081652909398397750563634408823105097026634185594785106611535898115825663582518342806121485243549263675374440627565432622894322174300980262857391224, 36121982925648052667458713431736354755857146751389988066185696700867421784540290688452543547785879636343648797738206424519435447564747389092135745630251599030590945190546884591894293695507155946830239881760681998657244765573775906043851451444876919413342434173719435453556361964214980494997024054866810325258, 15687099057256852984934664470816544487780184431890293010682865075417484661096003735648071686266266793574510071228196535064457477679914105637838246963428930446623944666302280953620543956502256030138078248275000716577157095401471716788642754335124713469027530625592891011198087953293025748292916822342959439582, 2535024331595711287590240014020344080507076096136196410518303505937742949933364551596869094564602634823640100343244946453998201458194868272706416993883447748129247925825933768589218199781740877237184612126859554372538045325684811340992371231916960429874589937347805720333850671354390149109816797614132430546]\n",
      "[40706217615099616321470972316157928613315238046967970074722518991008716496000250397370968890209433433182636420041498264929255508294920301438682802889411136280339783910856585601029094016271608917345682196123441018704928605380666358402380297536403400993374130045249674887627777892213418678779608297407786784948, 36623945887297086351917749492984725311719981685949362198421082148268943236993352710377486823855602654188570187535510927729545349407247785792078126259908532324024374266892786931210179441248864706704703926911155479074646087178408074111669797645140751577356305246220031972427869468228130597984373043291779661026, 25016607546195487615887043775928408555460465503933594357951426041159762148113822603465561124849375369553700117727784915907666931763548204200591592452431662272308486338139942442444395879197796934063063828412994869700831007421765449701188744834802978609940703535200672576542775990161303879957502851214810936859, 33310068040612756015211264773029364780680245911087927132498359963200438855460878901426947193074922079403137816039341076444155993172357904544006731592352047643519680007621621438412137083039311891678041347522565337098194339096097669023857919540190845684568430508955356972620969831107964372044348241005088253211, 64287346670844542935201965303907659639430702285883777455018740393846190506032947674513816868666075623170276500418977501298779817982304734300700613106398494298797046335040382221563316336704396563629508928197239853167565858932573873646823385352657251262531747208008507838673523317732507082126356529123256929133, 42127257728622434091052683298760484637736212613208506377930444440252211096640704886017132952036727060364311687091385392073381529688265222280415772319644577024622081652909398397750563634408823105097026634185594785106611535898115825663582518342806121485243549263675374440627565432622894322174300980262857391224, 36121982925648052667458713431736354755857146751389988066185696700867421784540290688452543547785879636343648797738206424519435447564747389092135745630251599030590945190546884591894293695507155946830239881760681998657244765573775906043851451444876919413342434173719435453556361964214980494997024054866810325258, 15687099057256852984934664470816544487780184431890293010682865075417484661096003735648071686266266793574510071228196535064457477679914105637838246963428930446623944666302280953620543956502256030138078248275000716577157095401471716788642754335124713469027530625592891011198087953293025748292916822342959439582, 2535024331595711287590240014020344080507076096136196410518303505937742949933364551596869094564602634823640100343244946453998201458194868272706416993883447748129247925825933768589218199781740877237184612126859554372538045325684811340992371231916960429874589937347805720333850671354390149109816797614132430546, 16915319583195887351984981129168560487093732263661707952423393293826871674274208610150638665137677362439177176884543552430926351527937047939146512466494719761016932883224388033735105489923309195059694977723463577202268630716120066134583194782933230730983484694698267754328308582059309476019971318091752248623]\n",
      "[40706217615099616321470972316157928613315238046967970074722518991008716496000250397370968890209433433182636420041498264929255508294920301438682802889411136280339783910856585601029094016271608917345682196123441018704928605380666358402380297536403400993374130045249674887627777892213418678779608297407786784948, 36623945887297086351917749492984725311719981685949362198421082148268943236993352710377486823855602654188570187535510927729545349407247785792078126259908532324024374266892786931210179441248864706704703926911155479074646087178408074111669797645140751577356305246220031972427869468228130597984373043291779661026, 25016607546195487615887043775928408555460465503933594357951426041159762148113822603465561124849375369553700117727784915907666931763548204200591592452431662272308486338139942442444395879197796934063063828412994869700831007421765449701188744834802978609940703535200672576542775990161303879957502851214810936859, 33310068040612756015211264773029364780680245911087927132498359963200438855460878901426947193074922079403137816039341076444155993172357904544006731592352047643519680007621621438412137083039311891678041347522565337098194339096097669023857919540190845684568430508955356972620969831107964372044348241005088253211, 64287346670844542935201965303907659639430702285883777455018740393846190506032947674513816868666075623170276500418977501298779817982304734300700613106398494298797046335040382221563316336704396563629508928197239853167565858932573873646823385352657251262531747208008507838673523317732507082126356529123256929133, 42127257728622434091052683298760484637736212613208506377930444440252211096640704886017132952036727060364311687091385392073381529688265222280415772319644577024622081652909398397750563634408823105097026634185594785106611535898115825663582518342806121485243549263675374440627565432622894322174300980262857391224, 36121982925648052667458713431736354755857146751389988066185696700867421784540290688452543547785879636343648797738206424519435447564747389092135745630251599030590945190546884591894293695507155946830239881760681998657244765573775906043851451444876919413342434173719435453556361964214980494997024054866810325258, 15687099057256852984934664470816544487780184431890293010682865075417484661096003735648071686266266793574510071228196535064457477679914105637838246963428930446623944666302280953620543956502256030138078248275000716577157095401471716788642754335124713469027530625592891011198087953293025748292916822342959439582, 2535024331595711287590240014020344080507076096136196410518303505937742949933364551596869094564602634823640100343244946453998201458194868272706416993883447748129247925825933768589218199781740877237184612126859554372538045325684811340992371231916960429874589937347805720333850671354390149109816797614132430546, 16915319583195887351984981129168560487093732263661707952423393293826871674274208610150638665137677362439177176884543552430926351527937047939146512466494719761016932883224388033735105489923309195059694977723463577202268630716120066134583194782933230730983484694698267754328308582059309476019971318091752248623, 49057231456220925143004480278682845094618001080665616383843958824419129403411514858110994183430130617744910334636387303369316406189661213311819255964338298635634456096566659735978160145497754506900044406723268081784386398860371933297344404047024309776726905863294321842553899860707943278208904324021840615726]\n",
      "[40706217615099616321470972316157928613315238046967970074722518991008716496000250397370968890209433433182636420041498264929255508294920301438682802889411136280339783910856585601029094016271608917345682196123441018704928605380666358402380297536403400993374130045249674887627777892213418678779608297407786784948, 36623945887297086351917749492984725311719981685949362198421082148268943236993352710377486823855602654188570187535510927729545349407247785792078126259908532324024374266892786931210179441248864706704703926911155479074646087178408074111669797645140751577356305246220031972427869468228130597984373043291779661026, 25016607546195487615887043775928408555460465503933594357951426041159762148113822603465561124849375369553700117727784915907666931763548204200591592452431662272308486338139942442444395879197796934063063828412994869700831007421765449701188744834802978609940703535200672576542775990161303879957502851214810936859, 33310068040612756015211264773029364780680245911087927132498359963200438855460878901426947193074922079403137816039341076444155993172357904544006731592352047643519680007621621438412137083039311891678041347522565337098194339096097669023857919540190845684568430508955356972620969831107964372044348241005088253211, 64287346670844542935201965303907659639430702285883777455018740393846190506032947674513816868666075623170276500418977501298779817982304734300700613106398494298797046335040382221563316336704396563629508928197239853167565858932573873646823385352657251262531747208008507838673523317732507082126356529123256929133, 42127257728622434091052683298760484637736212613208506377930444440252211096640704886017132952036727060364311687091385392073381529688265222280415772319644577024622081652909398397750563634408823105097026634185594785106611535898115825663582518342806121485243549263675374440627565432622894322174300980262857391224, 36121982925648052667458713431736354755857146751389988066185696700867421784540290688452543547785879636343648797738206424519435447564747389092135745630251599030590945190546884591894293695507155946830239881760681998657244765573775906043851451444876919413342434173719435453556361964214980494997024054866810325258, 15687099057256852984934664470816544487780184431890293010682865075417484661096003735648071686266266793574510071228196535064457477679914105637838246963428930446623944666302280953620543956502256030138078248275000716577157095401471716788642754335124713469027530625592891011198087953293025748292916822342959439582, 2535024331595711287590240014020344080507076096136196410518303505937742949933364551596869094564602634823640100343244946453998201458194868272706416993883447748129247925825933768589218199781740877237184612126859554372538045325684811340992371231916960429874589937347805720333850671354390149109816797614132430546, 16915319583195887351984981129168560487093732263661707952423393293826871674274208610150638665137677362439177176884543552430926351527937047939146512466494719761016932883224388033735105489923309195059694977723463577202268630716120066134583194782933230730983484694698267754328308582059309476019971318091752248623, 49057231456220925143004480278682845094618001080665616383843958824419129403411514858110994183430130617744910334636387303369316406189661213311819255964338298635634456096566659735978160145497754506900044406723268081784386398860371933297344404047024309776726905863294321842553899860707943278208904324021840615726, 69237157630223144551111934338776739374174797146246735073985741709792304615758781837956948721088129375181413362928304147691767174583463612233936153547163880417667637851525571512650478163371337182258182703923244789714161837134851524414380981259092678392127045456427341510923182347125930589680498609228015076702]\n",
      "[40706217615099616321470972316157928613315238046967970074722518991008716496000250397370968890209433433182636420041498264929255508294920301438682802889411136280339783910856585601029094016271608917345682196123441018704928605380666358402380297536403400993374130045249674887627777892213418678779608297407786784948, 36623945887297086351917749492984725311719981685949362198421082148268943236993352710377486823855602654188570187535510927729545349407247785792078126259908532324024374266892786931210179441248864706704703926911155479074646087178408074111669797645140751577356305246220031972427869468228130597984373043291779661026, 25016607546195487615887043775928408555460465503933594357951426041159762148113822603465561124849375369553700117727784915907666931763548204200591592452431662272308486338139942442444395879197796934063063828412994869700831007421765449701188744834802978609940703535200672576542775990161303879957502851214810936859, 33310068040612756015211264773029364780680245911087927132498359963200438855460878901426947193074922079403137816039341076444155993172357904544006731592352047643519680007621621438412137083039311891678041347522565337098194339096097669023857919540190845684568430508955356972620969831107964372044348241005088253211, 64287346670844542935201965303907659639430702285883777455018740393846190506032947674513816868666075623170276500418977501298779817982304734300700613106398494298797046335040382221563316336704396563629508928197239853167565858932573873646823385352657251262531747208008507838673523317732507082126356529123256929133, 42127257728622434091052683298760484637736212613208506377930444440252211096640704886017132952036727060364311687091385392073381529688265222280415772319644577024622081652909398397750563634408823105097026634185594785106611535898115825663582518342806121485243549263675374440627565432622894322174300980262857391224, 36121982925648052667458713431736354755857146751389988066185696700867421784540290688452543547785879636343648797738206424519435447564747389092135745630251599030590945190546884591894293695507155946830239881760681998657244765573775906043851451444876919413342434173719435453556361964214980494997024054866810325258, 15687099057256852984934664470816544487780184431890293010682865075417484661096003735648071686266266793574510071228196535064457477679914105637838246963428930446623944666302280953620543956502256030138078248275000716577157095401471716788642754335124713469027530625592891011198087953293025748292916822342959439582, 2535024331595711287590240014020344080507076096136196410518303505937742949933364551596869094564602634823640100343244946453998201458194868272706416993883447748129247925825933768589218199781740877237184612126859554372538045325684811340992371231916960429874589937347805720333850671354390149109816797614132430546, 16915319583195887351984981129168560487093732263661707952423393293826871674274208610150638665137677362439177176884543552430926351527937047939146512466494719761016932883224388033735105489923309195059694977723463577202268630716120066134583194782933230730983484694698267754328308582059309476019971318091752248623, 49057231456220925143004480278682845094618001080665616383843958824419129403411514858110994183430130617744910334636387303369316406189661213311819255964338298635634456096566659735978160145497754506900044406723268081784386398860371933297344404047024309776726905863294321842553899860707943278208904324021840615726, 69237157630223144551111934338776739374174797146246735073985741709792304615758781837956948721088129375181413362928304147691767174583463612233936153547163880417667637851525571512650478163371337182258182703923244789714161837134851524414380981259092678392127045456427341510923182347125930589680498609228015076702, 88500480013269184895492290635028082460959123658865412820215308274113574650998392312732484611450218323481908414952848442286925766413235211028252471612122888878990181386034519817856223421383498799092489921058636865735267847253332734002609634451892898996957011393750748588205680996512496108670124327882369519636]\n",
      "[40706217615099616321470972316157928613315238046967970074722518991008716496000250397370968890209433433182636420041498264929255508294920301438682802889411136280339783910856585601029094016271608917345682196123441018704928605380666358402380297536403400993374130045249674887627777892213418678779608297407786784948, 36623945887297086351917749492984725311719981685949362198421082148268943236993352710377486823855602654188570187535510927729545349407247785792078126259908532324024374266892786931210179441248864706704703926911155479074646087178408074111669797645140751577356305246220031972427869468228130597984373043291779661026, 25016607546195487615887043775928408555460465503933594357951426041159762148113822603465561124849375369553700117727784915907666931763548204200591592452431662272308486338139942442444395879197796934063063828412994869700831007421765449701188744834802978609940703535200672576542775990161303879957502851214810936859, 33310068040612756015211264773029364780680245911087927132498359963200438855460878901426947193074922079403137816039341076444155993172357904544006731592352047643519680007621621438412137083039311891678041347522565337098194339096097669023857919540190845684568430508955356972620969831107964372044348241005088253211, 64287346670844542935201965303907659639430702285883777455018740393846190506032947674513816868666075623170276500418977501298779817982304734300700613106398494298797046335040382221563316336704396563629508928197239853167565858932573873646823385352657251262531747208008507838673523317732507082126356529123256929133, 42127257728622434091052683298760484637736212613208506377930444440252211096640704886017132952036727060364311687091385392073381529688265222280415772319644577024622081652909398397750563634408823105097026634185594785106611535898115825663582518342806121485243549263675374440627565432622894322174300980262857391224, 36121982925648052667458713431736354755857146751389988066185696700867421784540290688452543547785879636343648797738206424519435447564747389092135745630251599030590945190546884591894293695507155946830239881760681998657244765573775906043851451444876919413342434173719435453556361964214980494997024054866810325258, 15687099057256852984934664470816544487780184431890293010682865075417484661096003735648071686266266793574510071228196535064457477679914105637838246963428930446623944666302280953620543956502256030138078248275000716577157095401471716788642754335124713469027530625592891011198087953293025748292916822342959439582, 2535024331595711287590240014020344080507076096136196410518303505937742949933364551596869094564602634823640100343244946453998201458194868272706416993883447748129247925825933768589218199781740877237184612126859554372538045325684811340992371231916960429874589937347805720333850671354390149109816797614132430546, 16915319583195887351984981129168560487093732263661707952423393293826871674274208610150638665137677362439177176884543552430926351527937047939146512466494719761016932883224388033735105489923309195059694977723463577202268630716120066134583194782933230730983484694698267754328308582059309476019971318091752248623, 49057231456220925143004480278682845094618001080665616383843958824419129403411514858110994183430130617744910334636387303369316406189661213311819255964338298635634456096566659735978160145497754506900044406723268081784386398860371933297344404047024309776726905863294321842553899860707943278208904324021840615726, 69237157630223144551111934338776739374174797146246735073985741709792304615758781837956948721088129375181413362928304147691767174583463612233936153547163880417667637851525571512650478163371337182258182703923244789714161837134851524414380981259092678392127045456427341510923182347125930589680498609228015076702, 88500480013269184895492290635028082460959123658865412820215308274113574650998392312732484611450218323481908414952848442286925766413235211028252471612122888878990181386034519817856223421383498799092489921058636865735267847253332734002609634451892898996957011393750748588205680996512496108670124327882369519636, 92609905245458176619080241073314596071266075960266435389932326549350881394626404962859110446074682331373679799737278877271664374678888998113541663453182605340545883135651323427466839348509616293974601694913848905288593611756175239203207217096425201516168808433167261136228595628543975238518860241322349336469]\n",
      "[40706217615099616321470972316157928613315238046967970074722518991008716496000250397370968890209433433182636420041498264929255508294920301438682802889411136280339783910856585601029094016271608917345682196123441018704928605380666358402380297536403400993374130045249674887627777892213418678779608297407786784948, 36623945887297086351917749492984725311719981685949362198421082148268943236993352710377486823855602654188570187535510927729545349407247785792078126259908532324024374266892786931210179441248864706704703926911155479074646087178408074111669797645140751577356305246220031972427869468228130597984373043291779661026, 25016607546195487615887043775928408555460465503933594357951426041159762148113822603465561124849375369553700117727784915907666931763548204200591592452431662272308486338139942442444395879197796934063063828412994869700831007421765449701188744834802978609940703535200672576542775990161303879957502851214810936859, 33310068040612756015211264773029364780680245911087927132498359963200438855460878901426947193074922079403137816039341076444155993172357904544006731592352047643519680007621621438412137083039311891678041347522565337098194339096097669023857919540190845684568430508955356972620969831107964372044348241005088253211, 64287346670844542935201965303907659639430702285883777455018740393846190506032947674513816868666075623170276500418977501298779817982304734300700613106398494298797046335040382221563316336704396563629508928197239853167565858932573873646823385352657251262531747208008507838673523317732507082126356529123256929133, 42127257728622434091052683298760484637736212613208506377930444440252211096640704886017132952036727060364311687091385392073381529688265222280415772319644577024622081652909398397750563634408823105097026634185594785106611535898115825663582518342806121485243549263675374440627565432622894322174300980262857391224, 36121982925648052667458713431736354755857146751389988066185696700867421784540290688452543547785879636343648797738206424519435447564747389092135745630251599030590945190546884591894293695507155946830239881760681998657244765573775906043851451444876919413342434173719435453556361964214980494997024054866810325258, 15687099057256852984934664470816544487780184431890293010682865075417484661096003735648071686266266793574510071228196535064457477679914105637838246963428930446623944666302280953620543956502256030138078248275000716577157095401471716788642754335124713469027530625592891011198087953293025748292916822342959439582, 2535024331595711287590240014020344080507076096136196410518303505937742949933364551596869094564602634823640100343244946453998201458194868272706416993883447748129247925825933768589218199781740877237184612126859554372538045325684811340992371231916960429874589937347805720333850671354390149109816797614132430546, 16915319583195887351984981129168560487093732263661707952423393293826871674274208610150638665137677362439177176884543552430926351527937047939146512466494719761016932883224388033735105489923309195059694977723463577202268630716120066134583194782933230730983484694698267754328308582059309476019971318091752248623, 49057231456220925143004480278682845094618001080665616383843958824419129403411514858110994183430130617744910334636387303369316406189661213311819255964338298635634456096566659735978160145497754506900044406723268081784386398860371933297344404047024309776726905863294321842553899860707943278208904324021840615726, 69237157630223144551111934338776739374174797146246735073985741709792304615758781837956948721088129375181413362928304147691767174583463612233936153547163880417667637851525571512650478163371337182258182703923244789714161837134851524414380981259092678392127045456427341510923182347125930589680498609228015076702, 88500480013269184895492290635028082460959123658865412820215308274113574650998392312732484611450218323481908414952848442286925766413235211028252471612122888878990181386034519817856223421383498799092489921058636865735267847253332734002609634451892898996957011393750748588205680996512496108670124327882369519636, 92609905245458176619080241073314596071266075960266435389932326549350881394626404962859110446074682331373679799737278877271664374678888998113541663453182605340545883135651323427466839348509616293974601694913848905288593611756175239203207217096425201516168808433167261136228595628543975238518860241322349336469, 59267074631896822453224777152955379644258432338752021006168998739278587860988345672692815061648764781582732690294617941538165480820352044679923302099893719741243026164678230591731283993825932195272616093662106844173470440988777672689333741163017220184186589315315948489489098699167588857480620717120136273607]\n",
      "[40706217615099616321470972316157928613315238046967970074722518991008716496000250397370968890209433433182636420041498264929255508294920301438682802889411136280339783910856585601029094016271608917345682196123441018704928605380666358402380297536403400993374130045249674887627777892213418678779608297407786784948, 36623945887297086351917749492984725311719981685949362198421082148268943236993352710377486823855602654188570187535510927729545349407247785792078126259908532324024374266892786931210179441248864706704703926911155479074646087178408074111669797645140751577356305246220031972427869468228130597984373043291779661026, 25016607546195487615887043775928408555460465503933594357951426041159762148113822603465561124849375369553700117727784915907666931763548204200591592452431662272308486338139942442444395879197796934063063828412994869700831007421765449701188744834802978609940703535200672576542775990161303879957502851214810936859, 33310068040612756015211264773029364780680245911087927132498359963200438855460878901426947193074922079403137816039341076444155993172357904544006731592352047643519680007621621438412137083039311891678041347522565337098194339096097669023857919540190845684568430508955356972620969831107964372044348241005088253211, 64287346670844542935201965303907659639430702285883777455018740393846190506032947674513816868666075623170276500418977501298779817982304734300700613106398494298797046335040382221563316336704396563629508928197239853167565858932573873646823385352657251262531747208008507838673523317732507082126356529123256929133, 42127257728622434091052683298760484637736212613208506377930444440252211096640704886017132952036727060364311687091385392073381529688265222280415772319644577024622081652909398397750563634408823105097026634185594785106611535898115825663582518342806121485243549263675374440627565432622894322174300980262857391224, 36121982925648052667458713431736354755857146751389988066185696700867421784540290688452543547785879636343648797738206424519435447564747389092135745630251599030590945190546884591894293695507155946830239881760681998657244765573775906043851451444876919413342434173719435453556361964214980494997024054866810325258, 15687099057256852984934664470816544487780184431890293010682865075417484661096003735648071686266266793574510071228196535064457477679914105637838246963428930446623944666302280953620543956502256030138078248275000716577157095401471716788642754335124713469027530625592891011198087953293025748292916822342959439582, 2535024331595711287590240014020344080507076096136196410518303505937742949933364551596869094564602634823640100343244946453998201458194868272706416993883447748129247925825933768589218199781740877237184612126859554372538045325684811340992371231916960429874589937347805720333850671354390149109816797614132430546, 16915319583195887351984981129168560487093732263661707952423393293826871674274208610150638665137677362439177176884543552430926351527937047939146512466494719761016932883224388033735105489923309195059694977723463577202268630716120066134583194782933230730983484694698267754328308582059309476019971318091752248623, 49057231456220925143004480278682845094618001080665616383843958824419129403411514858110994183430130617744910334636387303369316406189661213311819255964338298635634456096566659735978160145497754506900044406723268081784386398860371933297344404047024309776726905863294321842553899860707943278208904324021840615726, 69237157630223144551111934338776739374174797146246735073985741709792304615758781837956948721088129375181413362928304147691767174583463612233936153547163880417667637851525571512650478163371337182258182703923244789714161837134851524414380981259092678392127045456427341510923182347125930589680498609228015076702, 88500480013269184895492290635028082460959123658865412820215308274113574650998392312732484611450218323481908414952848442286925766413235211028252471612122888878990181386034519817856223421383498799092489921058636865735267847253332734002609634451892898996957011393750748588205680996512496108670124327882369519636, 92609905245458176619080241073314596071266075960266435389932326549350881394626404962859110446074682331373679799737278877271664374678888998113541663453182605340545883135651323427466839348509616293974601694913848905288593611756175239203207217096425201516168808433167261136228595628543975238518860241322349336469, 59267074631896822453224777152955379644258432338752021006168998739278587860988345672692815061648764781582732690294617941538165480820352044679923302099893719741243026164678230591731283993825932195272616093662106844173470440988777672689333741163017220184186589315315948489489098699167588857480620717120136273607, 4761455790509138093686382376487681900184396899620976201920793753145008296770791133555887148304878158291368552613052971378675808206711015387524482178637591819807196145501197650734767546718128494645770688226043282455698449921239179615350897015838635630951695400619695343574078977151921764597115679520050839235]\n",
      "[40706217615099616321470972316157928613315238046967970074722518991008716496000250397370968890209433433182636420041498264929255508294920301438682802889411136280339783910856585601029094016271608917345682196123441018704928605380666358402380297536403400993374130045249674887627777892213418678779608297407786784948, 36623945887297086351917749492984725311719981685949362198421082148268943236993352710377486823855602654188570187535510927729545349407247785792078126259908532324024374266892786931210179441248864706704703926911155479074646087178408074111669797645140751577356305246220031972427869468228130597984373043291779661026, 25016607546195487615887043775928408555460465503933594357951426041159762148113822603465561124849375369553700117727784915907666931763548204200591592452431662272308486338139942442444395879197796934063063828412994869700831007421765449701188744834802978609940703535200672576542775990161303879957502851214810936859, 33310068040612756015211264773029364780680245911087927132498359963200438855460878901426947193074922079403137816039341076444155993172357904544006731592352047643519680007621621438412137083039311891678041347522565337098194339096097669023857919540190845684568430508955356972620969831107964372044348241005088253211, 64287346670844542935201965303907659639430702285883777455018740393846190506032947674513816868666075623170276500418977501298779817982304734300700613106398494298797046335040382221563316336704396563629508928197239853167565858932573873646823385352657251262531747208008507838673523317732507082126356529123256929133, 42127257728622434091052683298760484637736212613208506377930444440252211096640704886017132952036727060364311687091385392073381529688265222280415772319644577024622081652909398397750563634408823105097026634185594785106611535898115825663582518342806121485243549263675374440627565432622894322174300980262857391224, 36121982925648052667458713431736354755857146751389988066185696700867421784540290688452543547785879636343648797738206424519435447564747389092135745630251599030590945190546884591894293695507155946830239881760681998657244765573775906043851451444876919413342434173719435453556361964214980494997024054866810325258, 15687099057256852984934664470816544487780184431890293010682865075417484661096003735648071686266266793574510071228196535064457477679914105637838246963428930446623944666302280953620543956502256030138078248275000716577157095401471716788642754335124713469027530625592891011198087953293025748292916822342959439582, 2535024331595711287590240014020344080507076096136196410518303505937742949933364551596869094564602634823640100343244946453998201458194868272706416993883447748129247925825933768589218199781740877237184612126859554372538045325684811340992371231916960429874589937347805720333850671354390149109816797614132430546, 16915319583195887351984981129168560487093732263661707952423393293826871674274208610150638665137677362439177176884543552430926351527937047939146512466494719761016932883224388033735105489923309195059694977723463577202268630716120066134583194782933230730983484694698267754328308582059309476019971318091752248623, 49057231456220925143004480278682845094618001080665616383843958824419129403411514858110994183430130617744910334636387303369316406189661213311819255964338298635634456096566659735978160145497754506900044406723268081784386398860371933297344404047024309776726905863294321842553899860707943278208904324021840615726, 69237157630223144551111934338776739374174797146246735073985741709792304615758781837956948721088129375181413362928304147691767174583463612233936153547163880417667637851525571512650478163371337182258182703923244789714161837134851524414380981259092678392127045456427341510923182347125930589680498609228015076702, 88500480013269184895492290635028082460959123658865412820215308274113574650998392312732484611450218323481908414952848442286925766413235211028252471612122888878990181386034519817856223421383498799092489921058636865735267847253332734002609634451892898996957011393750748588205680996512496108670124327882369519636, 92609905245458176619080241073314596071266075960266435389932326549350881394626404962859110446074682331373679799737278877271664374678888998113541663453182605340545883135651323427466839348509616293974601694913848905288593611756175239203207217096425201516168808433167261136228595628543975238518860241322349336469, 59267074631896822453224777152955379644258432338752021006168998739278587860988345672692815061648764781582732690294617941538165480820352044679923302099893719741243026164678230591731283993825932195272616093662106844173470440988777672689333741163017220184186589315315948489489098699167588857480620717120136273607, 4761455790509138093686382376487681900184396899620976201920793753145008296770791133555887148304878158291368552613052971378675808206711015387524482178637591819807196145501197650734767546718128494645770688226043282455698449921239179615350897015838635630951695400619695343574078977151921764597115679520050839235, 71171213536718790683768221514246821026580021675288958117580978681932133628135011907863727499076900220802436962872736606259443072343900822685102654359482416650821752832494777788825783967625124769402616431966949151512220483353947640033550289088161736730764027437628611621334592351012791471151225236135755204954]\n",
      "[40706217615099616321470972316157928613315238046967970074722518991008716496000250397370968890209433433182636420041498264929255508294920301438682802889411136280339783910856585601029094016271608917345682196123441018704928605380666358402380297536403400993374130045249674887627777892213418678779608297407786784948, 36623945887297086351917749492984725311719981685949362198421082148268943236993352710377486823855602654188570187535510927729545349407247785792078126259908532324024374266892786931210179441248864706704703926911155479074646087178408074111669797645140751577356305246220031972427869468228130597984373043291779661026, 25016607546195487615887043775928408555460465503933594357951426041159762148113822603465561124849375369553700117727784915907666931763548204200591592452431662272308486338139942442444395879197796934063063828412994869700831007421765449701188744834802978609940703535200672576542775990161303879957502851214810936859, 33310068040612756015211264773029364780680245911087927132498359963200438855460878901426947193074922079403137816039341076444155993172357904544006731592352047643519680007621621438412137083039311891678041347522565337098194339096097669023857919540190845684568430508955356972620969831107964372044348241005088253211, 64287346670844542935201965303907659639430702285883777455018740393846190506032947674513816868666075623170276500418977501298779817982304734300700613106398494298797046335040382221563316336704396563629508928197239853167565858932573873646823385352657251262531747208008507838673523317732507082126356529123256929133, 42127257728622434091052683298760484637736212613208506377930444440252211096640704886017132952036727060364311687091385392073381529688265222280415772319644577024622081652909398397750563634408823105097026634185594785106611535898115825663582518342806121485243549263675374440627565432622894322174300980262857391224, 36121982925648052667458713431736354755857146751389988066185696700867421784540290688452543547785879636343648797738206424519435447564747389092135745630251599030590945190546884591894293695507155946830239881760681998657244765573775906043851451444876919413342434173719435453556361964214980494997024054866810325258, 15687099057256852984934664470816544487780184431890293010682865075417484661096003735648071686266266793574510071228196535064457477679914105637838246963428930446623944666302280953620543956502256030138078248275000716577157095401471716788642754335124713469027530625592891011198087953293025748292916822342959439582, 2535024331595711287590240014020344080507076096136196410518303505937742949933364551596869094564602634823640100343244946453998201458194868272706416993883447748129247925825933768589218199781740877237184612126859554372538045325684811340992371231916960429874589937347805720333850671354390149109816797614132430546, 16915319583195887351984981129168560487093732263661707952423393293826871674274208610150638665137677362439177176884543552430926351527937047939146512466494719761016932883224388033735105489923309195059694977723463577202268630716120066134583194782933230730983484694698267754328308582059309476019971318091752248623, 49057231456220925143004480278682845094618001080665616383843958824419129403411514858110994183430130617744910334636387303369316406189661213311819255964338298635634456096566659735978160145497754506900044406723268081784386398860371933297344404047024309776726905863294321842553899860707943278208904324021840615726, 69237157630223144551111934338776739374174797146246735073985741709792304615758781837956948721088129375181413362928304147691767174583463612233936153547163880417667637851525571512650478163371337182258182703923244789714161837134851524414380981259092678392127045456427341510923182347125930589680498609228015076702, 88500480013269184895492290635028082460959123658865412820215308274113574650998392312732484611450218323481908414952848442286925766413235211028252471612122888878990181386034519817856223421383498799092489921058636865735267847253332734002609634451892898996957011393750748588205680996512496108670124327882369519636, 92609905245458176619080241073314596071266075960266435389932326549350881394626404962859110446074682331373679799737278877271664374678888998113541663453182605340545883135651323427466839348509616293974601694913848905288593611756175239203207217096425201516168808433167261136228595628543975238518860241322349336469, 59267074631896822453224777152955379644258432338752021006168998739278587860988345672692815061648764781582732690294617941538165480820352044679923302099893719741243026164678230591731283993825932195272616093662106844173470440988777672689333741163017220184186589315315948489489098699167588857480620717120136273607, 4761455790509138093686382376487681900184396899620976201920793753145008296770791133555887148304878158291368552613052971378675808206711015387524482178637591819807196145501197650734767546718128494645770688226043282455698449921239179615350897015838635630951695400619695343574078977151921764597115679520050839235, 71171213536718790683768221514246821026580021675288958117580978681932133628135011907863727499076900220802436962872736606259443072343900822685102654359482416650821752832494777788825783967625124769402616431966949151512220483353947640033550289088161736730764027437628611621334592351012791471151225236135755204954, 9161694881951584821568029105844159912176526924464225778412487151196616387570885915002045105926362580454457387510709877573438530370064649113740952796380164563358846112487946447663501585942430029301747162351626025881210289540430437532474140195415500386383484670004410186218812220504525453446013001146423117902]\n",
      "[40706217615099616321470972316157928613315238046967970074722518991008716496000250397370968890209433433182636420041498264929255508294920301438682802889411136280339783910856585601029094016271608917345682196123441018704928605380666358402380297536403400993374130045249674887627777892213418678779608297407786784948, 36623945887297086351917749492984725311719981685949362198421082148268943236993352710377486823855602654188570187535510927729545349407247785792078126259908532324024374266892786931210179441248864706704703926911155479074646087178408074111669797645140751577356305246220031972427869468228130597984373043291779661026, 25016607546195487615887043775928408555460465503933594357951426041159762148113822603465561124849375369553700117727784915907666931763548204200591592452431662272308486338139942442444395879197796934063063828412994869700831007421765449701188744834802978609940703535200672576542775990161303879957502851214810936859, 33310068040612756015211264773029364780680245911087927132498359963200438855460878901426947193074922079403137816039341076444155993172357904544006731592352047643519680007621621438412137083039311891678041347522565337098194339096097669023857919540190845684568430508955356972620969831107964372044348241005088253211, 64287346670844542935201965303907659639430702285883777455018740393846190506032947674513816868666075623170276500418977501298779817982304734300700613106398494298797046335040382221563316336704396563629508928197239853167565858932573873646823385352657251262531747208008507838673523317732507082126356529123256929133, 42127257728622434091052683298760484637736212613208506377930444440252211096640704886017132952036727060364311687091385392073381529688265222280415772319644577024622081652909398397750563634408823105097026634185594785106611535898115825663582518342806121485243549263675374440627565432622894322174300980262857391224, 36121982925648052667458713431736354755857146751389988066185696700867421784540290688452543547785879636343648797738206424519435447564747389092135745630251599030590945190546884591894293695507155946830239881760681998657244765573775906043851451444876919413342434173719435453556361964214980494997024054866810325258, 15687099057256852984934664470816544487780184431890293010682865075417484661096003735648071686266266793574510071228196535064457477679914105637838246963428930446623944666302280953620543956502256030138078248275000716577157095401471716788642754335124713469027530625592891011198087953293025748292916822342959439582, 2535024331595711287590240014020344080507076096136196410518303505937742949933364551596869094564602634823640100343244946453998201458194868272706416993883447748129247925825933768589218199781740877237184612126859554372538045325684811340992371231916960429874589937347805720333850671354390149109816797614132430546, 16915319583195887351984981129168560487093732263661707952423393293826871674274208610150638665137677362439177176884543552430926351527937047939146512466494719761016932883224388033735105489923309195059694977723463577202268630716120066134583194782933230730983484694698267754328308582059309476019971318091752248623, 49057231456220925143004480278682845094618001080665616383843958824419129403411514858110994183430130617744910334636387303369316406189661213311819255964338298635634456096566659735978160145497754506900044406723268081784386398860371933297344404047024309776726905863294321842553899860707943278208904324021840615726, 69237157630223144551111934338776739374174797146246735073985741709792304615758781837956948721088129375181413362928304147691767174583463612233936153547163880417667637851525571512650478163371337182258182703923244789714161837134851524414380981259092678392127045456427341510923182347125930589680498609228015076702, 88500480013269184895492290635028082460959123658865412820215308274113574650998392312732484611450218323481908414952848442286925766413235211028252471612122888878990181386034519817856223421383498799092489921058636865735267847253332734002609634451892898996957011393750748588205680996512496108670124327882369519636, 92609905245458176619080241073314596071266075960266435389932326549350881394626404962859110446074682331373679799737278877271664374678888998113541663453182605340545883135651323427466839348509616293974601694913848905288593611756175239203207217096425201516168808433167261136228595628543975238518860241322349336469, 59267074631896822453224777152955379644258432338752021006168998739278587860988345672692815061648764781582732690294617941538165480820352044679923302099893719741243026164678230591731283993825932195272616093662106844173470440988777672689333741163017220184186589315315948489489098699167588857480620717120136273607, 4761455790509138093686382376487681900184396899620976201920793753145008296770791133555887148304878158291368552613052971378675808206711015387524482178637591819807196145501197650734767546718128494645770688226043282455698449921239179615350897015838635630951695400619695343574078977151921764597115679520050839235, 71171213536718790683768221514246821026580021675288958117580978681932133628135011907863727499076900220802436962872736606259443072343900822685102654359482416650821752832494777788825783967625124769402616431966949151512220483353947640033550289088161736730764027437628611621334592351012791471151225236135755204954, 9161694881951584821568029105844159912176526924464225778412487151196616387570885915002045105926362580454457387510709877573438530370064649113740952796380164563358846112487946447663501585942430029301747162351626025881210289540430437532474140195415500386383484670004410186218812220504525453446013001146423117902, 15203953241871845417744331561861318786899672051572564432203720825647817812991565521782763111159878855724922662691307475762421680781946608891669594951513259755268803093489632566247281871105358510335439723506852038320891840791837614305290390863754900985446710946850574313763640249440382643210040263800456007695]\n",
      "[40706217615099616321470972316157928613315238046967970074722518991008716496000250397370968890209433433182636420041498264929255508294920301438682802889411136280339783910856585601029094016271608917345682196123441018704928605380666358402380297536403400993374130045249674887627777892213418678779608297407786784948, 36623945887297086351917749492984725311719981685949362198421082148268943236993352710377486823855602654188570187535510927729545349407247785792078126259908532324024374266892786931210179441248864706704703926911155479074646087178408074111669797645140751577356305246220031972427869468228130597984373043291779661026, 25016607546195487615887043775928408555460465503933594357951426041159762148113822603465561124849375369553700117727784915907666931763548204200591592452431662272308486338139942442444395879197796934063063828412994869700831007421765449701188744834802978609940703535200672576542775990161303879957502851214810936859, 33310068040612756015211264773029364780680245911087927132498359963200438855460878901426947193074922079403137816039341076444155993172357904544006731592352047643519680007621621438412137083039311891678041347522565337098194339096097669023857919540190845684568430508955356972620969831107964372044348241005088253211, 64287346670844542935201965303907659639430702285883777455018740393846190506032947674513816868666075623170276500418977501298779817982304734300700613106398494298797046335040382221563316336704396563629508928197239853167565858932573873646823385352657251262531747208008507838673523317732507082126356529123256929133, 42127257728622434091052683298760484637736212613208506377930444440252211096640704886017132952036727060364311687091385392073381529688265222280415772319644577024622081652909398397750563634408823105097026634185594785106611535898115825663582518342806121485243549263675374440627565432622894322174300980262857391224, 36121982925648052667458713431736354755857146751389988066185696700867421784540290688452543547785879636343648797738206424519435447564747389092135745630251599030590945190546884591894293695507155946830239881760681998657244765573775906043851451444876919413342434173719435453556361964214980494997024054866810325258, 15687099057256852984934664470816544487780184431890293010682865075417484661096003735648071686266266793574510071228196535064457477679914105637838246963428930446623944666302280953620543956502256030138078248275000716577157095401471716788642754335124713469027530625592891011198087953293025748292916822342959439582, 2535024331595711287590240014020344080507076096136196410518303505937742949933364551596869094564602634823640100343244946453998201458194868272706416993883447748129247925825933768589218199781740877237184612126859554372538045325684811340992371231916960429874589937347805720333850671354390149109816797614132430546, 16915319583195887351984981129168560487093732263661707952423393293826871674274208610150638665137677362439177176884543552430926351527937047939146512466494719761016932883224388033735105489923309195059694977723463577202268630716120066134583194782933230730983484694698267754328308582059309476019971318091752248623, 49057231456220925143004480278682845094618001080665616383843958824419129403411514858110994183430130617744910334636387303369316406189661213311819255964338298635634456096566659735978160145497754506900044406723268081784386398860371933297344404047024309776726905863294321842553899860707943278208904324021840615726, 69237157630223144551111934338776739374174797146246735073985741709792304615758781837956948721088129375181413362928304147691767174583463612233936153547163880417667637851525571512650478163371337182258182703923244789714161837134851524414380981259092678392127045456427341510923182347125930589680498609228015076702, 88500480013269184895492290635028082460959123658865412820215308274113574650998392312732484611450218323481908414952848442286925766413235211028252471612122888878990181386034519817856223421383498799092489921058636865735267847253332734002609634451892898996957011393750748588205680996512496108670124327882369519636, 92609905245458176619080241073314596071266075960266435389932326549350881394626404962859110446074682331373679799737278877271664374678888998113541663453182605340545883135651323427466839348509616293974601694913848905288593611756175239203207217096425201516168808433167261136228595628543975238518860241322349336469, 59267074631896822453224777152955379644258432338752021006168998739278587860988345672692815061648764781582732690294617941538165480820352044679923302099893719741243026164678230591731283993825932195272616093662106844173470440988777672689333741163017220184186589315315948489489098699167588857480620717120136273607, 4761455790509138093686382376487681900184396899620976201920793753145008296770791133555887148304878158291368552613052971378675808206711015387524482178637591819807196145501197650734767546718128494645770688226043282455698449921239179615350897015838635630951695400619695343574078977151921764597115679520050839235, 71171213536718790683768221514246821026580021675288958117580978681932133628135011907863727499076900220802436962872736606259443072343900822685102654359482416650821752832494777788825783967625124769402616431966949151512220483353947640033550289088161736730764027437628611621334592351012791471151225236135755204954, 9161694881951584821568029105844159912176526924464225778412487151196616387570885915002045105926362580454457387510709877573438530370064649113740952796380164563358846112487946447663501585942430029301747162351626025881210289540430437532474140195415500386383484670004410186218812220504525453446013001146423117902, 15203953241871845417744331561861318786899672051572564432203720825647817812991565521782763111159878855724922662691307475762421680781946608891669594951513259755268803093489632566247281871105358510335439723506852038320891840791837614305290390863754900985446710946850574313763640249440382643210040263800456007695, 84745501875769993003447519850439331725784292349955569682452399973458621764349233321930972725470075284998478480143948528671225379692956623196623865676334940184598097668926643428104629089562755030995823534370814758865908807746540754233501237354817282551840515325416414950822890754175322281760706548297936620656]\n",
      "[40706217615099616321470972316157928613315238046967970074722518991008716496000250397370968890209433433182636420041498264929255508294920301438682802889411136280339783910856585601029094016271608917345682196123441018704928605380666358402380297536403400993374130045249674887627777892213418678779608297407786784948, 36623945887297086351917749492984725311719981685949362198421082148268943236993352710377486823855602654188570187535510927729545349407247785792078126259908532324024374266892786931210179441248864706704703926911155479074646087178408074111669797645140751577356305246220031972427869468228130597984373043291779661026, 25016607546195487615887043775928408555460465503933594357951426041159762148113822603465561124849375369553700117727784915907666931763548204200591592452431662272308486338139942442444395879197796934063063828412994869700831007421765449701188744834802978609940703535200672576542775990161303879957502851214810936859, 33310068040612756015211264773029364780680245911087927132498359963200438855460878901426947193074922079403137816039341076444155993172357904544006731592352047643519680007621621438412137083039311891678041347522565337098194339096097669023857919540190845684568430508955356972620969831107964372044348241005088253211, 64287346670844542935201965303907659639430702285883777455018740393846190506032947674513816868666075623170276500418977501298779817982304734300700613106398494298797046335040382221563316336704396563629508928197239853167565858932573873646823385352657251262531747208008507838673523317732507082126356529123256929133, 42127257728622434091052683298760484637736212613208506377930444440252211096640704886017132952036727060364311687091385392073381529688265222280415772319644577024622081652909398397750563634408823105097026634185594785106611535898115825663582518342806121485243549263675374440627565432622894322174300980262857391224, 36121982925648052667458713431736354755857146751389988066185696700867421784540290688452543547785879636343648797738206424519435447564747389092135745630251599030590945190546884591894293695507155946830239881760681998657244765573775906043851451444876919413342434173719435453556361964214980494997024054866810325258, 15687099057256852984934664470816544487780184431890293010682865075417484661096003735648071686266266793574510071228196535064457477679914105637838246963428930446623944666302280953620543956502256030138078248275000716577157095401471716788642754335124713469027530625592891011198087953293025748292916822342959439582, 2535024331595711287590240014020344080507076096136196410518303505937742949933364551596869094564602634823640100343244946453998201458194868272706416993883447748129247925825933768589218199781740877237184612126859554372538045325684811340992371231916960429874589937347805720333850671354390149109816797614132430546, 16915319583195887351984981129168560487093732263661707952423393293826871674274208610150638665137677362439177176884543552430926351527937047939146512466494719761016932883224388033735105489923309195059694977723463577202268630716120066134583194782933230730983484694698267754328308582059309476019971318091752248623, 49057231456220925143004480278682845094618001080665616383843958824419129403411514858110994183430130617744910334636387303369316406189661213311819255964338298635634456096566659735978160145497754506900044406723268081784386398860371933297344404047024309776726905863294321842553899860707943278208904324021840615726, 69237157630223144551111934338776739374174797146246735073985741709792304615758781837956948721088129375181413362928304147691767174583463612233936153547163880417667637851525571512650478163371337182258182703923244789714161837134851524414380981259092678392127045456427341510923182347125930589680498609228015076702, 88500480013269184895492290635028082460959123658865412820215308274113574650998392312732484611450218323481908414952848442286925766413235211028252471612122888878990181386034519817856223421383498799092489921058636865735267847253332734002609634451892898996957011393750748588205680996512496108670124327882369519636, 92609905245458176619080241073314596071266075960266435389932326549350881394626404962859110446074682331373679799737278877271664374678888998113541663453182605340545883135651323427466839348509616293974601694913848905288593611756175239203207217096425201516168808433167261136228595628543975238518860241322349336469, 59267074631896822453224777152955379644258432338752021006168998739278587860988345672692815061648764781582732690294617941538165480820352044679923302099893719741243026164678230591731283993825932195272616093662106844173470440988777672689333741163017220184186589315315948489489098699167588857480620717120136273607, 4761455790509138093686382376487681900184396899620976201920793753145008296770791133555887148304878158291368552613052971378675808206711015387524482178637591819807196145501197650734767546718128494645770688226043282455698449921239179615350897015838635630951695400619695343574078977151921764597115679520050839235, 71171213536718790683768221514246821026580021675288958117580978681932133628135011907863727499076900220802436962872736606259443072343900822685102654359482416650821752832494777788825783967625124769402616431966949151512220483353947640033550289088161736730764027437628611621334592351012791471151225236135755204954, 9161694881951584821568029105844159912176526924464225778412487151196616387570885915002045105926362580454457387510709877573438530370064649113740952796380164563358846112487946447663501585942430029301747162351626025881210289540430437532474140195415500386383484670004410186218812220504525453446013001146423117902, 15203953241871845417744331561861318786899672051572564432203720825647817812991565521782763111159878855724922662691307475762421680781946608891669594951513259755268803093489632566247281871105358510335439723506852038320891840791837614305290390863754900985446710946850574313763640249440382643210040263800456007695, 84745501875769993003447519850439331725784292349955569682452399973458621764349233321930972725470075284998478480143948528671225379692956623196623865676334940184598097668926643428104629089562755030995823534370814758865908807746540754233501237354817282551840515325416414950822890754175322281760706548297936620656, 49514762114346957294438661966994966375598172676775235017025779231571756547139158573655910530419294822816981894223966409314863402523630909100255460676775999657470716660122635298615349699911797334842250592033430890424666052511749892001384345097972714640575685776227294271736380080839227390157314056794014830864]\n",
      "[40706217615099616321470972316157928613315238046967970074722518991008716496000250397370968890209433433182636420041498264929255508294920301438682802889411136280339783910856585601029094016271608917345682196123441018704928605380666358402380297536403400993374130045249674887627777892213418678779608297407786784948, 36623945887297086351917749492984725311719981685949362198421082148268943236993352710377486823855602654188570187535510927729545349407247785792078126259908532324024374266892786931210179441248864706704703926911155479074646087178408074111669797645140751577356305246220031972427869468228130597984373043291779661026, 25016607546195487615887043775928408555460465503933594357951426041159762148113822603465561124849375369553700117727784915907666931763548204200591592452431662272308486338139942442444395879197796934063063828412994869700831007421765449701188744834802978609940703535200672576542775990161303879957502851214810936859, 33310068040612756015211264773029364780680245911087927132498359963200438855460878901426947193074922079403137816039341076444155993172357904544006731592352047643519680007621621438412137083039311891678041347522565337098194339096097669023857919540190845684568430508955356972620969831107964372044348241005088253211, 64287346670844542935201965303907659639430702285883777455018740393846190506032947674513816868666075623170276500418977501298779817982304734300700613106398494298797046335040382221563316336704396563629508928197239853167565858932573873646823385352657251262531747208008507838673523317732507082126356529123256929133, 42127257728622434091052683298760484637736212613208506377930444440252211096640704886017132952036727060364311687091385392073381529688265222280415772319644577024622081652909398397750563634408823105097026634185594785106611535898115825663582518342806121485243549263675374440627565432622894322174300980262857391224, 36121982925648052667458713431736354755857146751389988066185696700867421784540290688452543547785879636343648797738206424519435447564747389092135745630251599030590945190546884591894293695507155946830239881760681998657244765573775906043851451444876919413342434173719435453556361964214980494997024054866810325258, 15687099057256852984934664470816544487780184431890293010682865075417484661096003735648071686266266793574510071228196535064457477679914105637838246963428930446623944666302280953620543956502256030138078248275000716577157095401471716788642754335124713469027530625592891011198087953293025748292916822342959439582, 2535024331595711287590240014020344080507076096136196410518303505937742949933364551596869094564602634823640100343244946453998201458194868272706416993883447748129247925825933768589218199781740877237184612126859554372538045325684811340992371231916960429874589937347805720333850671354390149109816797614132430546, 16915319583195887351984981129168560487093732263661707952423393293826871674274208610150638665137677362439177176884543552430926351527937047939146512466494719761016932883224388033735105489923309195059694977723463577202268630716120066134583194782933230730983484694698267754328308582059309476019971318091752248623, 49057231456220925143004480278682845094618001080665616383843958824419129403411514858110994183430130617744910334636387303369316406189661213311819255964338298635634456096566659735978160145497754506900044406723268081784386398860371933297344404047024309776726905863294321842553899860707943278208904324021840615726, 69237157630223144551111934338776739374174797146246735073985741709792304615758781837956948721088129375181413362928304147691767174583463612233936153547163880417667637851525571512650478163371337182258182703923244789714161837134851524414380981259092678392127045456427341510923182347125930589680498609228015076702, 88500480013269184895492290635028082460959123658865412820215308274113574650998392312732484611450218323481908414952848442286925766413235211028252471612122888878990181386034519817856223421383498799092489921058636865735267847253332734002609634451892898996957011393750748588205680996512496108670124327882369519636, 92609905245458176619080241073314596071266075960266435389932326549350881394626404962859110446074682331373679799737278877271664374678888998113541663453182605340545883135651323427466839348509616293974601694913848905288593611756175239203207217096425201516168808433167261136228595628543975238518860241322349336469, 59267074631896822453224777152955379644258432338752021006168998739278587860988345672692815061648764781582732690294617941538165480820352044679923302099893719741243026164678230591731283993825932195272616093662106844173470440988777672689333741163017220184186589315315948489489098699167588857480620717120136273607, 4761455790509138093686382376487681900184396899620976201920793753145008296770791133555887148304878158291368552613052971378675808206711015387524482178637591819807196145501197650734767546718128494645770688226043282455698449921239179615350897015838635630951695400619695343574078977151921764597115679520050839235, 71171213536718790683768221514246821026580021675288958117580978681932133628135011907863727499076900220802436962872736606259443072343900822685102654359482416650821752832494777788825783967625124769402616431966949151512220483353947640033550289088161736730764027437628611621334592351012791471151225236135755204954, 9161694881951584821568029105844159912176526924464225778412487151196616387570885915002045105926362580454457387510709877573438530370064649113740952796380164563358846112487946447663501585942430029301747162351626025881210289540430437532474140195415500386383484670004410186218812220504525453446013001146423117902, 15203953241871845417744331561861318786899672051572564432203720825647817812991565521782763111159878855724922662691307475762421680781946608891669594951513259755268803093489632566247281871105358510335439723506852038320891840791837614305290390863754900985446710946850574313763640249440382643210040263800456007695, 84745501875769993003447519850439331725784292349955569682452399973458621764349233321930972725470075284998478480143948528671225379692956623196623865676334940184598097668926643428104629089562755030995823534370814758865908807746540754233501237354817282551840515325416414950822890754175322281760706548297936620656, 49514762114346957294438661966994966375598172676775235017025779231571756547139158573655910530419294822816981894223966409314863402523630909100255460676775999657470716660122635298615349699911797334842250592033430890424666052511749892001384345097972714640575685776227294271736380080839227390157314056794014830864, 79799895089673655547160668251951113440879308435040465449466882245084996548239850438966352931793556295319617134258023325951129312020017091430602045756346356895327268524956932103246049226679643303318531528767889025962733935378093812669611610535150250532297849485734222452145602873725684111734555213362945058926]\n",
      "[40706217615099616321470972316157928613315238046967970074722518991008716496000250397370968890209433433182636420041498264929255508294920301438682802889411136280339783910856585601029094016271608917345682196123441018704928605380666358402380297536403400993374130045249674887627777892213418678779608297407786784948, 36623945887297086351917749492984725311719981685949362198421082148268943236993352710377486823855602654188570187535510927729545349407247785792078126259908532324024374266892786931210179441248864706704703926911155479074646087178408074111669797645140751577356305246220031972427869468228130597984373043291779661026, 25016607546195487615887043775928408555460465503933594357951426041159762148113822603465561124849375369553700117727784915907666931763548204200591592452431662272308486338139942442444395879197796934063063828412994869700831007421765449701188744834802978609940703535200672576542775990161303879957502851214810936859, 33310068040612756015211264773029364780680245911087927132498359963200438855460878901426947193074922079403137816039341076444155993172357904544006731592352047643519680007621621438412137083039311891678041347522565337098194339096097669023857919540190845684568430508955356972620969831107964372044348241005088253211, 64287346670844542935201965303907659639430702285883777455018740393846190506032947674513816868666075623170276500418977501298779817982304734300700613106398494298797046335040382221563316336704396563629508928197239853167565858932573873646823385352657251262531747208008507838673523317732507082126356529123256929133, 42127257728622434091052683298760484637736212613208506377930444440252211096640704886017132952036727060364311687091385392073381529688265222280415772319644577024622081652909398397750563634408823105097026634185594785106611535898115825663582518342806121485243549263675374440627565432622894322174300980262857391224, 36121982925648052667458713431736354755857146751389988066185696700867421784540290688452543547785879636343648797738206424519435447564747389092135745630251599030590945190546884591894293695507155946830239881760681998657244765573775906043851451444876919413342434173719435453556361964214980494997024054866810325258, 15687099057256852984934664470816544487780184431890293010682865075417484661096003735648071686266266793574510071228196535064457477679914105637838246963428930446623944666302280953620543956502256030138078248275000716577157095401471716788642754335124713469027530625592891011198087953293025748292916822342959439582, 2535024331595711287590240014020344080507076096136196410518303505937742949933364551596869094564602634823640100343244946453998201458194868272706416993883447748129247925825933768589218199781740877237184612126859554372538045325684811340992371231916960429874589937347805720333850671354390149109816797614132430546, 16915319583195887351984981129168560487093732263661707952423393293826871674274208610150638665137677362439177176884543552430926351527937047939146512466494719761016932883224388033735105489923309195059694977723463577202268630716120066134583194782933230730983484694698267754328308582059309476019971318091752248623, 49057231456220925143004480278682845094618001080665616383843958824419129403411514858110994183430130617744910334636387303369316406189661213311819255964338298635634456096566659735978160145497754506900044406723268081784386398860371933297344404047024309776726905863294321842553899860707943278208904324021840615726, 69237157630223144551111934338776739374174797146246735073985741709792304615758781837956948721088129375181413362928304147691767174583463612233936153547163880417667637851525571512650478163371337182258182703923244789714161837134851524414380981259092678392127045456427341510923182347125930589680498609228015076702, 88500480013269184895492290635028082460959123658865412820215308274113574650998392312732484611450218323481908414952848442286925766413235211028252471612122888878990181386034519817856223421383498799092489921058636865735267847253332734002609634451892898996957011393750748588205680996512496108670124327882369519636, 92609905245458176619080241073314596071266075960266435389932326549350881394626404962859110446074682331373679799737278877271664374678888998113541663453182605340545883135651323427466839348509616293974601694913848905288593611756175239203207217096425201516168808433167261136228595628543975238518860241322349336469, 59267074631896822453224777152955379644258432338752021006168998739278587860988345672692815061648764781582732690294617941538165480820352044679923302099893719741243026164678230591731283993825932195272616093662106844173470440988777672689333741163017220184186589315315948489489098699167588857480620717120136273607, 4761455790509138093686382376487681900184396899620976201920793753145008296770791133555887148304878158291368552613052971378675808206711015387524482178637591819807196145501197650734767546718128494645770688226043282455698449921239179615350897015838635630951695400619695343574078977151921764597115679520050839235, 71171213536718790683768221514246821026580021675288958117580978681932133628135011907863727499076900220802436962872736606259443072343900822685102654359482416650821752832494777788825783967625124769402616431966949151512220483353947640033550289088161736730764027437628611621334592351012791471151225236135755204954, 9161694881951584821568029105844159912176526924464225778412487151196616387570885915002045105926362580454457387510709877573438530370064649113740952796380164563358846112487946447663501585942430029301747162351626025881210289540430437532474140195415500386383484670004410186218812220504525453446013001146423117902, 15203953241871845417744331561861318786899672051572564432203720825647817812991565521782763111159878855724922662691307475762421680781946608891669594951513259755268803093489632566247281871105358510335439723506852038320891840791837614305290390863754900985446710946850574313763640249440382643210040263800456007695, 84745501875769993003447519850439331725784292349955569682452399973458621764349233321930972725470075284998478480143948528671225379692956623196623865676334940184598097668926643428104629089562755030995823534370814758865908807746540754233501237354817282551840515325416414950822890754175322281760706548297936620656, 49514762114346957294438661966994966375598172676775235017025779231571756547139158573655910530419294822816981894223966409314863402523630909100255460676775999657470716660122635298615349699911797334842250592033430890424666052511749892001384345097972714640575685776227294271736380080839227390157314056794014830864, 79799895089673655547160668251951113440879308435040465449466882245084996548239850438966352931793556295319617134258023325951129312020017091430602045756346356895327268524956932103246049226679643303318531528767889025962733935378093812669611610535150250532297849485734222452145602873725684111734555213362945058926, 32378538446560889674382350753682179192127482598986253051674268189491240102097814131870623774194002225080937730760931100233078319035981738078237664599022590136127133402290336340111209586948824603134551723031927261614282046813590251306480238669681717537812921251207681939627376308570899577881094287994277094191]\n",
      "[40706217615099616321470972316157928613315238046967970074722518991008716496000250397370968890209433433182636420041498264929255508294920301438682802889411136280339783910856585601029094016271608917345682196123441018704928605380666358402380297536403400993374130045249674887627777892213418678779608297407786784948, 36623945887297086351917749492984725311719981685949362198421082148268943236993352710377486823855602654188570187535510927729545349407247785792078126259908532324024374266892786931210179441248864706704703926911155479074646087178408074111669797645140751577356305246220031972427869468228130597984373043291779661026, 25016607546195487615887043775928408555460465503933594357951426041159762148113822603465561124849375369553700117727784915907666931763548204200591592452431662272308486338139942442444395879197796934063063828412994869700831007421765449701188744834802978609940703535200672576542775990161303879957502851214810936859, 33310068040612756015211264773029364780680245911087927132498359963200438855460878901426947193074922079403137816039341076444155993172357904544006731592352047643519680007621621438412137083039311891678041347522565337098194339096097669023857919540190845684568430508955356972620969831107964372044348241005088253211, 64287346670844542935201965303907659639430702285883777455018740393846190506032947674513816868666075623170276500418977501298779817982304734300700613106398494298797046335040382221563316336704396563629508928197239853167565858932573873646823385352657251262531747208008507838673523317732507082126356529123256929133, 42127257728622434091052683298760484637736212613208506377930444440252211096640704886017132952036727060364311687091385392073381529688265222280415772319644577024622081652909398397750563634408823105097026634185594785106611535898115825663582518342806121485243549263675374440627565432622894322174300980262857391224, 36121982925648052667458713431736354755857146751389988066185696700867421784540290688452543547785879636343648797738206424519435447564747389092135745630251599030590945190546884591894293695507155946830239881760681998657244765573775906043851451444876919413342434173719435453556361964214980494997024054866810325258, 15687099057256852984934664470816544487780184431890293010682865075417484661096003735648071686266266793574510071228196535064457477679914105637838246963428930446623944666302280953620543956502256030138078248275000716577157095401471716788642754335124713469027530625592891011198087953293025748292916822342959439582, 2535024331595711287590240014020344080507076096136196410518303505937742949933364551596869094564602634823640100343244946453998201458194868272706416993883447748129247925825933768589218199781740877237184612126859554372538045325684811340992371231916960429874589937347805720333850671354390149109816797614132430546, 16915319583195887351984981129168560487093732263661707952423393293826871674274208610150638665137677362439177176884543552430926351527937047939146512466494719761016932883224388033735105489923309195059694977723463577202268630716120066134583194782933230730983484694698267754328308582059309476019971318091752248623, 49057231456220925143004480278682845094618001080665616383843958824419129403411514858110994183430130617744910334636387303369316406189661213311819255964338298635634456096566659735978160145497754506900044406723268081784386398860371933297344404047024309776726905863294321842553899860707943278208904324021840615726, 69237157630223144551111934338776739374174797146246735073985741709792304615758781837956948721088129375181413362928304147691767174583463612233936153547163880417667637851525571512650478163371337182258182703923244789714161837134851524414380981259092678392127045456427341510923182347125930589680498609228015076702, 88500480013269184895492290635028082460959123658865412820215308274113574650998392312732484611450218323481908414952848442286925766413235211028252471612122888878990181386034519817856223421383498799092489921058636865735267847253332734002609634451892898996957011393750748588205680996512496108670124327882369519636, 92609905245458176619080241073314596071266075960266435389932326549350881394626404962859110446074682331373679799737278877271664374678888998113541663453182605340545883135651323427466839348509616293974601694913848905288593611756175239203207217096425201516168808433167261136228595628543975238518860241322349336469, 59267074631896822453224777152955379644258432338752021006168998739278587860988345672692815061648764781582732690294617941538165480820352044679923302099893719741243026164678230591731283993825932195272616093662106844173470440988777672689333741163017220184186589315315948489489098699167588857480620717120136273607, 4761455790509138093686382376487681900184396899620976201920793753145008296770791133555887148304878158291368552613052971378675808206711015387524482178637591819807196145501197650734767546718128494645770688226043282455698449921239179615350897015838635630951695400619695343574078977151921764597115679520050839235, 71171213536718790683768221514246821026580021675288958117580978681932133628135011907863727499076900220802436962872736606259443072343900822685102654359482416650821752832494777788825783967625124769402616431966949151512220483353947640033550289088161736730764027437628611621334592351012791471151225236135755204954, 9161694881951584821568029105844159912176526924464225778412487151196616387570885915002045105926362580454457387510709877573438530370064649113740952796380164563358846112487946447663501585942430029301747162351626025881210289540430437532474140195415500386383484670004410186218812220504525453446013001146423117902, 15203953241871845417744331561861318786899672051572564432203720825647817812991565521782763111159878855724922662691307475762421680781946608891669594951513259755268803093489632566247281871105358510335439723506852038320891840791837614305290390863754900985446710946850574313763640249440382643210040263800456007695, 84745501875769993003447519850439331725784292349955569682452399973458621764349233321930972725470075284998478480143948528671225379692956623196623865676334940184598097668926643428104629089562755030995823534370814758865908807746540754233501237354817282551840515325416414950822890754175322281760706548297936620656, 49514762114346957294438661966994966375598172676775235017025779231571756547139158573655910530419294822816981894223966409314863402523630909100255460676775999657470716660122635298615349699911797334842250592033430890424666052511749892001384345097972714640575685776227294271736380080839227390157314056794014830864, 79799895089673655547160668251951113440879308435040465449466882245084996548239850438966352931793556295319617134258023325951129312020017091430602045756346356895327268524956932103246049226679643303318531528767889025962733935378093812669611610535150250532297849485734222452145602873725684111734555213362945058926, 32378538446560889674382350753682179192127482598986253051674268189491240102097814131870623774194002225080937730760931100233078319035981738078237664599022590136127133402290336340111209586948824603134551723031927261614282046813590251306480238669681717537812921251207681939627376308570899577881094287994277094191, 5710299885779866091820289185455699151361158100965377522762842148783021054819372587791759164010255376621901733822238290420219030037293565727494922738992592129058589075775753002391147823211897603718506061653118014599111965812750175632928294444971935608282673237501029420865733591715883601909318097153704619627]\n"
     ]
    }
   ],
   "source": [
    "def rsa_encrypt_all(allstr):\n",
    "    cvals=[]\n",
    "    for i in range(0,len(allstr)):\n",
    "        m=allstr[i]\n",
    "        #We have defined m as different for each of the different integers related to each of the strings.\n",
    "        cvals.append(rsa_encrypt(m, N, e))\n",
    "        #For each different 100 character string, we apply the rsa_encrypt function and create a list of all of these\n",
    "        #new integers which are the c values.\n",
    "        print(cvals)\n",
    "    return cvals\n",
    "\n",
    "cvals=rsa_encrypt_all(allstr)    \n"
   ]
  },
  {
   "cell_type": "markdown",
   "metadata": {},
   "source": [
    "## Decrypting the message\n",
    "\n",
    "Below we use the modular_inverse function and the rsa_decrypt function in order to decrpyt the function we have just encrpyted. This is where the private key we have established comes into use. As previously noted, anyone can encrypt the message, but only those with the private key can then decrypt it. \n",
    "\n",
    "The modular_inverse function is used to find the the $e$-th root of $c$ modulo $N$.\n",
    "Then the RSA decrpyt uses the knowledge that $N = pq$, and then returns pow(c, f, N) which is equal to $c^{f} \\mod N.$\n"
   ]
  },
  {
   "cell_type": "code",
   "execution_count": 66,
   "metadata": {},
   "outputs": [],
   "source": [
    "def rsa_decrypt(c,p,q,N,e): \n",
    "    '''\n",
    "    Given input (c,p,q,N,e), returns the RSA decryption of ciphertext\n",
    "    c using private key (p,q) and public key (N,e). (We input N as a \n",
    "    parameter to avoid having to recompute N = p*q).\n",
    "    '''\n",
    "    totient = N - (p + q) + 1\n",
    "    f = modular_inverse(e,totient)\n",
    "    #We use modular_inverse to find the inverse of e and (N-(p+q)+1).\n",
    "    #We have already established that e should be co prime to this value. \n",
    "    #Hence the modular_inverse function should return x%totient where x comes from the gcd_ext function.\n",
    "    \n",
    "    return pow(c,f,N)\n",
    "\n",
    "def rsa_decrypt_all(cvals):\n",
    "    decrys=[]\n",
    "    for i in range(0, len(cvals)):\n",
    "        decrys.append(rsa_decrypt(cvals[i],p,q,N,e))\n",
    "        #We use each of our new c vals, along with p,q,N and e which we generated before to decrypt the message.\n",
    "    return decrys \n",
    "\n",
    "\n",
    "decrys=rsa_decrypt_all(cvals)"
   ]
  },
  {
   "cell_type": "code",
   "execution_count": 67,
   "metadata": {},
   "outputs": [
    {
     "name": "stdout",
     "output_type": "stream",
     "text": [
      "We have deciphered the ciphertext c.\n",
      "The result of our decryption is as follows:\n",
      "\n",
      "m_new_values = \n",
      "[8866578426647520073751936260589494300345408397210154862729591152855330059232796869991412714547532297215875069257635491245275547092440832060637692662595939078484241724759871633254072453584710979575859167739425782655970541810483173486636921971, 7513159565918916515913612442165602568849554342476842804060980274188599813576873262000471968265993501021980742298861076762361242709815690798687484016958515379906117765347992711369622418472708384156738087450466471249038351297569939925303042153, 9536452308347566384692245527983259071247313080244011881255391456732877440170455657557437175378341868966386762393758515629771472041640648830370527768170686089682785399085358447749973573151938125405055648083959498771504897372230694534533046638, 9414683294927055360939375255434370772952497868470149587561128019155324970410525563566096442770754517845182203797463882705736115355485522495283161427869527612266344933440569695769926680631000722881732426087521391538838326440166994126217438578, 9362486097081253520392384114628723129117066210788560496544302250604049661265226382888471124543646531355576729088151650493768263617601915876626583136354775968358563831901043293178150843355930152457434704029227860868553020553192437787896210287, 9517419172701953640887146078200569727818570025259157241005013245386517268356302839037447704472273051950597271866043814324198199881501513732584365327443859752013722442184119140259699413013650170268530289588557853888710017951307559572465671456, 8581255821227405346966845522318955771667145443971237935936713794938199918710140631598738495100031928814079340687032247862779830760346422319305121745384166509996912225155193341170124806340584144315073432566038194612052319375104905666885132404, 9387184469118993253770189701722844980322653218540852766603406331355898532925596030248012501039716063378712036732209931135421788473172677685094796035967419041409511263741703873346932448032392386867380144619381174315410591882560152855255392343, 9570865919483927534210089971063419023130302633166915165760209880528153277664564822253592931249265594870102845942224439485549864408367288636132409988004478533028221573104258635438882641912419926864232865564458152113831547429799583114474846049, 9666713673474842136250500126481468691109330509895832947222978891917898863218017559992600057554088531567666933410657369265553710346684597776435930191689271563145872536687328716044252635114409718207549428069837160592032418561565111109796653925, 9692756241859407752925875107103655080218924832382958278251987538234539556901047515215651400511361343280042616311059319213556083757198069799879066802474901617666689590802310071727392509297665246618804283984563270027586321944576375121494024246, 7871476840058844403330529165844643088136165695013730819977544567878752956551555161158563208414390419111640729820686945989735253146939071721240507111978592319437254343443923462343064718539704089469083472461327211496352505796339362168637055845, 7875451707166592314208177332914939982591226686894639759056927648460714314087680618161139169891004194272556233211495498696031454707877207206382773870557787361530422987005686645319451901147636408084803952189029214256685041943913405158164624229, 9206205309751147290918857780551684616253234207536888149749065760374763093910571258092512973028699978813693598161882671772468521274775053258345618246408287008167862200756673313873072672234177795183394872230670668606179624197616843302715876211, 7512243421954542943819585985326103749964857663150333892284293741826919907885673406223846740819223619110544744187844982216491864638498668378543836964706045543825187812213120619428407995100597877484426716044863352438581411784814358196432695159, 9666711682730184568542507063183939827290229228803118475716666967472118775515005845904451014718900241310079260774338900942111417205266689351960292429117573763201486205125517186859044784662109494708817269072745006918170412760100521518571741797, 9309959412451278322061353987407448265225264753915590602846760127954684820737834804878214038146993493557745987572301041017352907926170554219451851944333885717320889773538802894818443838665787195596342217959975284480020706691471650197063429491, 9206895559150671454902795136032058894527251046138745248663140324257883684527200045373723566784235723632348956043706405165921389965825806444830344289107598042004302192960785335178676369460785803886646960813513988649113273604320824628913905735, 9310395011761116498570991840631767452917923062729115176355459395164412889047382577942652947530585112057506713254005654419621574577251010242142294546260768444752033046430157163702013693573720582675881084621075564957641824431436035961718930025, 9562518405822136940989565328254085363645600174727399468415427129265138590139748719588003623131603629765873156384600026536369898803951805173892716289552554260145743861018634641344744163094815286837329431714515047359485436683598327798572610419, 9309786025411349356442550719233944581149675413109009000671080471208439424035624896804822451852344290416549773843612848169436337143138162709541917493398370737447324073093764659920685330917910753011630094174815293684902274214637540434784580712, 9302045119230672344611375942140224548074159453510372151444882036617002632006791807379867497926348909788668726200115180969006378793281159131736587498731972662463477929216660459796487918807347326477970567988453053086086361831887361352579948663, 9206280419103915156530065638256133838238440104819434449653087962812105559367449591138858419553269958698338615888191197081835107171404809653824241966509925357368929768762034146520239521596301560665903535420369892392430714167665463527069282162, 73063464698490038447964945021409404876299929136825934943493573367103824825970948231397294982833766711643079986405782636361780940388771765247798970180910]\n",
      "We have that each element in m_new_values represents the new value for each part of the long string\n"
     ]
    }
   ],
   "source": [
    "print(\"We have deciphered the ciphertext c.\")\n",
    "print(\"The result of our decryption is as follows:\")\n",
    "print(\"\\nm_new_values = \")\n",
    "print(decrys)\n",
    "print(\"We have that each element in m_new_values represents the new value for each part of the long string\")"
   ]
  },
  {
   "cell_type": "markdown",
   "metadata": {},
   "source": [
    "## Converting back to the original message\n",
    "\n",
    "Now we have decrypted the message back, we can use the convert_to_text function for each number in our list of decrpyted strings and then put all these strings back together to get back our original message.\n",
    "This works as follows; we covert our numbers into binary strings, and then from binary strings into characters, finally we put all the character strings together to output the original message. "
   ]
  },
  {
   "cell_type": "code",
   "execution_count": 68,
   "metadata": {},
   "outputs": [],
   "source": [
    "def convert_to_text(number): \n",
    "    # Remove '0b1' from the string. \n",
    "    bin_string = bin(number)[3:] \n",
    "    text = ''                           \n",
    "    length = len(bin_string)\n",
    "    for i in range(0,length,8):  \n",
    "        # Pick out binary strings, 8 bits at a time.\n",
    "        byte_string = bin_string[i:i+8]   \n",
    "        # Convert byte_string to an integer and then to a character before \n",
    "        # appending it to text. \n",
    "        text += chr(int(byte_string,2)) \n",
    "    return text\n",
    "\n",
    "\n",
    "def convert_to_texts(decrys):\n",
    "    texts=[]\n",
    "    for i in range(0, len(decrys)):\n",
    "        #we apply the above function to each string and append each conversion\n",
    "        #to a list which we will then re-piece back together.\n",
    "        texts.append(convert_to_text(decrys[i]))\n",
    "    return texts"
   ]
  },
  {
   "cell_type": "code",
   "execution_count": 69,
   "metadata": {},
   "outputs": [],
   "source": [
    "newtext = convert_to_texts(decrys)"
   ]
  },
  {
   "cell_type": "code",
   "execution_count": 70,
   "metadata": {},
   "outputs": [],
   "source": [
    "def put_all_back_together(newtext):\n",
    "    new = \"\".join(newtext)\n",
    "    return new\n",
    "#This function rejoins all the strings together once they have been returned from their numerical values. "
   ]
  },
  {
   "cell_type": "code",
   "execution_count": null,
   "metadata": {},
   "outputs": [],
   "source": [
    "print(\"We have now managed to get back our original message and it is as follows:\")\n",
    "put_all_back_together(newtext)"
   ]
  },
  {
   "cell_type": "markdown",
   "metadata": {},
   "source": [
    "In order to check the effectiveness of this 'splitting up' method, we will try it on a much longer text.\n",
    "We will use a text file which is much larger than 2000 characters.\n",
    "\n",
    "Since we are using such a large text file with so many characters, initially the kernel could not run the encryption and decryption functions and so we had to change the data rate in the Anaconda PowerShell. This was solved using [2]. Nonetheless, this process does take a considerable amount of time."
   ]
  },
  {
   "cell_type": "code",
   "execution_count": null,
   "metadata": {},
   "outputs": [],
   "source": [
    "with open('big.txt', 'r') as file:\n",
    "    bigtextfile = file.read().replace('\\n', '')\n",
    "#Since this text is so large, we have saved it as a text file and brought in into our code using the reading file function. \n",
    "slicedbig=slice_message(bigtextfile)\n",
    "print(slicedbig)\n",
    "allstrbig=convert_to_int_sliced(bigtextfile)\n",
    "print(allstrbig)\n"
   ]
  },
  {
   "cell_type": "code",
   "execution_count": null,
   "metadata": {},
   "outputs": [],
   "source": [
    "cvalsbig=rsa_encrypt_all(allstrbig)\n",
    "print(cvalsbig)\n",
    "#We note that the c values for this text file are significantly larger."
   ]
  },
  {
   "cell_type": "code",
   "execution_count": null,
   "metadata": {},
   "outputs": [],
   "source": [
    "decrysbig=rsa_decrypt_all(cvalsbig)\n",
    "print(decrysbig)"
   ]
  },
  {
   "cell_type": "code",
   "execution_count": null,
   "metadata": {},
   "outputs": [],
   "source": [
    "newtextbig=convert_to_texts(decrysbig)\n",
    "print(put_all_back_together(newtextbig))"
   ]
  },
  {
   "cell_type": "markdown",
   "metadata": {},
   "source": [
    "So the method is successful with a much larger text, however it does take a lot longer to process.\n",
    "\n",
    "We have shown that the RSA encrypting and decrypting functions can be applied successfully to very long messages and so is usefull in real world implications."
   ]
  },
  {
   "cell_type": "markdown",
   "metadata": {},
   "source": [
    "## Security Implications\n",
    "\n",
    "This section is based on ideas in [15] and [16].\n",
    "\n",
    "We have been asked to discuss the security implications regarding this manner of proceeding and investigate other possible ways of dealing with longer messages.\n",
    "\n",
    "RSA remains secure due to the difficulty in factoring $N$ into the product of its two secretive large primes. This problem is known as the integer factorisation problem which is considered infeasible in polynomial time. If a message was intercepted, the attackers would have to computing $\\phi(N)$ to see the message. To do this requires you to solve the integer factorisation problem, which is infeasible because $N$ is very large.\n",
    "\n",
    "Time complexity is most commonly determined by considering the total number of operations performed by the system where each operation takes a fixed unit of time. We normally express time complexity as a function of the input size. In this instance, the input size is the length of the private key which we will denote as $n$. \n",
    "\n",
    "As the length of the private key increases, the increase in time is non-linear and exponential in relation to the length of the private key. Hence the time complexity of the RSA algorithm is $O(n^2).$\n"
   ]
  },
  {
   "cell_type": "markdown",
   "metadata": {},
   "source": [
    "Nevertheless, this encryption method is not one hundred percent secure, and as mentioned in the lecture notes, should someone get hold of the ciphertext $c$ then there is a possiblity they could also obtain $f$ and thus be able to decrpyt the message. In order to do this, as stated, someone would need to compute $\\phi(N)$. Although this is hugely difficult, it is not impossible.\n",
    "\n",
    "Furthermore, there is another issue. This is the fact that we use the same public and private keys for every string we encrypt and decrypt. Changing this would be very complex, but would be useful in creasing the strength of security when coding a large message. Should someone be able to decyrpt one of the strings, it would be equally as hard to encrypt them all due to the different keys used and as such would take a significant amount of time. \n",
    "\n",
    "Another way to improve security could be that once the text has been broken down into a list, the order could be jumbled and as such if someone were to access the list, it would not be immediatly clear what the message is. \n",
    "\n",
    "Additionally, when doing research into the RSA method, it has been stated that it has not been mathematically proven that the only way to determine the message from the cihper text and public key is by facoring the public key. So there is the question of whether another method could be discovered in the future which makes finding $N$ a lot quicker. \n",
    "\n",
    "There have been a lot of challenges set to the public to break into the RSA method and obtain the message. There is one such case where a sucessful team managed to crack a $512$ bit $N$ value, but it took five months, eleven different locations and two hundred and ninety three different computers. So, arguably, the current methods used are incredibly slow and ineffective thus making the RSA method very secure at the moment. \n",
    "\n",
    "It is also the most widely used key cryptosystem in the world and so we must not be too critical of the security risks; they are miniscule and thus the reason for why it is such a valuable cryptography method."
   ]
  },
  {
   "cell_type": "markdown",
   "metadata": {},
   "source": [
    "# Part 4 - Factorising Large Integers"
   ]
  },
  {
   "cell_type": "markdown",
   "metadata": {},
   "source": [
    "## The Decompose Function"
   ]
  },
  {
   "cell_type": "markdown",
   "metadata": {},
   "source": [
    "In this section, we will test the efficiency of our decompose function defined in lectures. We will generate composite values $N = pq$, where $p$ and $q$ are primes, and time how long it takes to factorise such numbers using the decompose function. "
   ]
  },
  {
   "cell_type": "markdown",
   "metadata": {},
   "source": [
    "We will use the earlier defined functions: random_prime and rsa_private_key. The first function allows us to generate a random prime number that when transformed into binary code will consist of a designated number of bits. The second function allows us to generate a private key, often used for RSA encryption. We will generate a $p$ and $q$ that are both primes consisting of a designated number of bits when presented in binary form. We can then generate a $N=pq$ using $p$ and $q$. It is this value of $N$ we will attempt to factorise back into $p$ and $q$ whilst timing the process. We will show that as the number of bits $p$ and $q$ consists of increases, the time taken to factorise $N$ will rise at such a rate that eventually the decompose function we will be using to factorise $N$ will become unfeasible."
   ]
  },
  {
   "cell_type": "markdown",
   "metadata": {},
   "source": [
    "Now we define a function average_time_decompose which takes inputs $l$, $s$ and $r$. We have that this function generates primes $p$ and $q$ of bit-lengths $l$ to $s$ in increments of $1$. It then computes $N = pq$ for each differing $p$ and $q$. The function then iterates this process $r$ times so it has $r$ different values of $N$ for each bit-length. Then it records how long the decompose function takes to factorise each $N$ and takes an average. The function then returns an array consisting of the average time taken to factorise each $N$ for the varying bit-lengths."
   ]
  },
  {
   "cell_type": "code",
   "execution_count": 71,
   "metadata": {},
   "outputs": [],
   "source": [
    "def average_time_decompose(l,s,r):\n",
    "    avg_array = np.zeros((s-l,)) #Here we create an empty array consisting of s-l entries. This will hold the average times.\n",
    "    for j in range(l,s): #We are iterating over the varying bit-lengths.\n",
    "        plist = [] #Here we create empty lists to store randomly generated p and q values and the subsequent N values. We use lists and not arrays to avoid numbers being stored in standard form to prevent innacuracies.\n",
    "        qlist = []\n",
    "        Nlist = []\n",
    "        for i in range(r): \n",
    "            p,q = rsa_private_key(j) #Here we generate p and q and store it in the lists.\n",
    "            plist.append(p)\n",
    "            qlist.append(q)\n",
    "            Nlist.append(plist[i]*qlist[i]) #Here we calculate N and store it in the list.\n",
    "        start = timer()\n",
    "        for m in range(r): #Here we iterate over r and use decompose to factorise each N stored in the list. We time the entire process using timer().\n",
    "            decompose(Nlist[m])\n",
    "        end = timer()\n",
    "        total_time = end - start #We then calculate the total time take to factorise all the values of N.\n",
    "        avg_array[j-l] = total_time/r  #Then we find the average time taken for each value of N and store it in the original array.\n",
    "    return(avg_array)"
   ]
  },
  {
   "cell_type": "markdown",
   "metadata": {},
   "source": [
    "We will now use our function to find the average times to factorise $N$ when $p$ and $q$ consist of $k$ bits with $k$ starting at $10$. Using our graph, we will be able to see when the time taken to fatorise $N$ becomes so great that the decompose function becomes unfeasible."
   ]
  },
  {
   "cell_type": "markdown",
   "metadata": {},
   "source": [
    "We note that the following input can take a long time to complete."
   ]
  },
  {
   "cell_type": "code",
   "execution_count": 72,
   "metadata": {},
   "outputs": [],
   "source": [
    "times1 = average_time_decompose(10,31,3) #Here we store the output of the function in an array so we can plot a graph."
   ]
  },
  {
   "cell_type": "markdown",
   "metadata": {},
   "source": [
    "Now we define a function $f(x)$ where $x$ represents the bit-length of $p$ and $q$. We have that this function will approximate the time taken by the decompose function."
   ]
  },
  {
   "cell_type": "code",
   "execution_count": 73,
   "metadata": {},
   "outputs": [],
   "source": [
    "def f(x): #Here we define a function that approximately fits the line outputted by our average_time_decompose function.\n",
    "    return(2**(x-22))"
   ]
  },
  {
   "cell_type": "code",
   "execution_count": 74,
   "metadata": {},
   "outputs": [],
   "source": [
    "x = range(10,31) #Here we create a sample of x and y values, where y = f(x) to plot on the graph so we can compare.\n",
    "y = np.zeros((21,))\n",
    "for i in range(21):\n",
    "    y[i] = f(x[i])"
   ]
  },
  {
   "cell_type": "code",
   "execution_count": 75,
   "metadata": {},
   "outputs": [
    {
     "data": {
      "text/plain": [
       "<matplotlib.legend.Legend at 0x14fde4f7588>"
      ]
     },
     "execution_count": 75,
     "metadata": {},
     "output_type": "execute_result"
    },
    {
     "data": {
      "image/png": "[encoded data removed]",
      "text/plain": [
       "<Figure size 432x288 with 1 Axes>"
      ]
     },
     "metadata": {
      "needs_background": "light"
     },
     "output_type": "display_data"
    }
   ],
   "source": [
    "plt.plot(range(10,31),times1, label = 'Calculated Times') #Here we plot the graph of time taken against bit length.\n",
    "plt.ylabel('Time (s)') \n",
    "plt.xlabel('Bit-length')\n",
    "plt.title('Graph Showing the Average Time to Factorise N=p*q Using the decompose Function Given Bit-Length of p,q') #Here we add a title and labels.\n",
    "plt.plot(x,y,color='red', label = '$y = f(x)$') #Here we plot the line y = f(x), with f(x) defined above. \n",
    "plt.xlim([10,30]) #Here we reframe the ranges of both axes to make the graph easier to read.\n",
    "plt.ylim([0,270])\n",
    "plt.legend()"
   ]
  },
  {
   "cell_type": "markdown",
   "metadata": {},
   "source": [
    "As we can see from the comparison between the blue line and the red line on the graph above, we have that the average time taken to factorise $N=pq$ using the decompose function can approximately be modelled by the function $f(x)=2^{x-22}$, where we use such a function as an upper bound. Using this relationship, we can calculate, approximately, how many seconds it will take to factorise $N=pq$ for any bit-length. Thus, we can decide when it will be unfeasible to factorise $N$ in such a manner."
   ]
  },
  {
   "cell_type": "markdown",
   "metadata": {},
   "source": [
    "Below we have created a data frame that consists of a column containing bit-length and the approximate time in seconds to factorise $N = pq$, where $p$ and $q$ are a supposed bit length, using the decompose function. The approximate time has been calculated using the function $f(x)=2^{x-22}$. This is because, as discussed earlier, it works relatively well as an upper bound for our approximate time."
   ]
  },
  {
   "cell_type": "code",
   "execution_count": 76,
   "metadata": {},
   "outputs": [
    {
     "name": "stdout",
     "output_type": "stream",
     "text": [
      "                    time (s)\n",
      "p, q bit-length             \n",
      "30                     256.0\n",
      "31                     512.0\n",
      "32                    1024.0\n",
      "33                    2048.0\n",
      "34                    4096.0\n",
      "35                    8192.0\n",
      "36                   16384.0\n",
      "37                   32768.0\n",
      "38                   65536.0\n",
      "39                  131072.0\n",
      "40                  262144.0\n",
      "41                  524288.0\n",
      "42                 1048576.0\n",
      "43                 2097152.0\n",
      "44                 4194304.0\n",
      "45                 8388608.0\n",
      "46                16777216.0\n",
      "47                33554432.0\n",
      "48                67108864.0\n",
      "49               134217728.0\n",
      "50               268435456.0\n"
     ]
    }
   ],
   "source": [
    "u = np.arange(30,51) #Here we create an array containg the values in the range from 30 up to and including 50.\n",
    "v = np.zeros((51-30,)) #Here we create an empty array.\n",
    "for i in range(51-30): #We enter values into the empty array according to the function f(x) defined above.\n",
    "    v[i] = f(u[i])\n",
    "l = np.transpose(np.array([v]))\n",
    "df = pd.DataFrame(l) #Here we create a data frame using the arrays.\n",
    "df.columns = ['time (s)'] #Here we relable the column title to make the dataframe clearer.\n",
    "df.index = u\n",
    "df.index.name = 'p, q bit-length'\n",
    "print(df)"
   ]
  },
  {
   "cell_type": "markdown",
   "metadata": {},
   "source": [
    "As we can see from the dataframe above, as the bit lengths of $p$ and $q$ surpass $30$ and go towards $40$, the approximated time taken to factorise $N$ rises rapidly. We have that a $p$ and $q$ bit length of $30$ would lead to $N$ being factorised in just over $4$ minutes. For a bit length of $35$, this rises to just over $2$ hours. For a bit length of $40$, the approximate time is a little over $3$ days. Finally, a bit length of $50$ gives way to an approximate time of about $8.5$ years."
   ]
  },
  {
   "cell_type": "markdown",
   "metadata": {},
   "source": [
    "So, when does using decompose to factorise large $N$ become unfeasible? Arguably, the answer to such a question depends upon the circumstances involved. For someone who uses their computer every day, a time over $8$ hours would seem unfeasible. Thus, such a person would consider this method unfeasible past a $p$ and $q$ bit length of $37$. However, to a person who has a dedicated computer to try and do this, they may decide that anything with the range of a few days to a week was acceptable and thus would only consider this method unfeasible past a bit-length of $41$ or $42$. "
   ]
  },
  {
   "cell_type": "markdown",
   "metadata": {},
   "source": [
    "## Security and Time Complexity of RSA and the Decompose Function"
   ]
  },
  {
   "cell_type": "markdown",
   "metadata": {},
   "source": [
    "This section is based on ideas in [15] and [18].\n",
    "\n",
    "For integer factorisation to pose a threat to the security RSA encryption, the factorisation must be able to be computed quickly. Since each pair of primes are randomly generated and used only once, it is clear that the primes serve no purpose to an attacker if the factorisation algorithm is only complete $500$ hours after the message is sent. Data from our decompose function shows that with integers greater than $50$ digits, factorisation could potentially take hundreds of hours. RSA encrypted typically employs a key size $1,024$ or $2,048$ or $4,096$ bits where $1024$ bits translates to $309$ digits. Clearly, our decompose function is not equipped to factorise an RSA key to produce primes in a short enough time to pose a threat to security.\n",
    "\n",
    "The integer factorisation problem poses great significance in the mathematical and computing communities and thus more intricate methods have been developed to factorise $N$. Since our decompose function struggles with number larger than $37$ bits, mathematicians have implemented a highly optimised general number field sieve which runs on hundreds of machines. In February 2020, an $829$ bits, $250$ decimal digit number was factored; the largest such semi-prime yet. The total computation time was roughly $2700$ core-years of computing, highlighting the fact that although large numbers can be factored, the time taken is too great to pose a threat to RSA.\n",
    "\n",
    "No algorithm has been published that can factor all integers in polynomial time so we cannot assign the integer factorisation problem a definitive time complexity measure. However, for $n$ bit numbers the time taken for factorisation increases non-linearly and exponentially. Therefore we can claim that the time complexity is $O(n^k)$ where $n$ is the number of bits and $k$ is a constant yet to be determined.\n",
    "\n",
    "The problem does not yet have any efficient way of finding two prime factors for large semi-primes so clearly our problem is in the class NP. However, it has not been proved whether it is or isn't NP complete but it is generally suspected that it isn't."
   ]
  },
  {
   "cell_type": "markdown",
   "metadata": {},
   "source": [
    "# Part 5 - Pollard's Rho Method "
   ]
  },
  {
   "cell_type": "markdown",
   "metadata": {},
   "source": [
    "This section is based on ideas found in [19] and [20]."
   ]
  },
  {
   "cell_type": "markdown",
   "metadata": {},
   "source": [
    "In this section we will again generate composite numbers $N = pq$, where $p$ and $q$ are primes, and time how long it takes for Pollard's Rho Method to factorise such numbers. We will then compare these times with the times taken by our decompose function and conjecture at which bit-length Pollard's Rho Method becomes unfeasible."
   ]
  },
  {
   "cell_type": "markdown",
   "metadata": {},
   "source": [
    "Pollard's Rho method is another method used to factorise large integers. Suppose we have $N = pq$ where $p$ and $q$ are prime numbers. Since we do not know $p$ and $q$, we wish to factorise $N$ in order to find them. Firstly, we select $k$ numbers in a random manner to get a sequence $x_1,x_2,...,x_k$ such that for each $x_i$, where $i \\in [1,k]$, we have that $x_i \\in [0,N-1]$. We make the assumption that all of the numbers are distinct, which is likely if $N$ is a lot larger than $k$. As long as we select $k$ reasonably, we have an extremely high probability that the following holds: $$\\text{For some } i,j \\in [1,k], \\text{ we have that } x_{i} \\equiv x_{j} \\mod{p}.$$\n",
    "\n",
    "This is true due to the Birthday Paradox and is explored in further detail here***. Thus, we have that $p|x_{i}-x_{j}$ and $p|N$ and thus we have that $p|\\gcd(x_{i}-x_{j},N).$ Furthermore, since $-N\\leq x_{i}-x_{j} \\leq N$ and $x_{i} \\neq x_{j}$, we have that $\\gcd(x_{i}-x_{j},N) \\leq N$. Thus $\\gcd(x_{i}-x_{j},N)$ is a non-trivial factor of $N$ and hence we can use this to find $p$ and $q$.\n",
    "\n",
    "Earlier, we mentioned that we must pick $k$ 'reasonably'. We have that $k \\approx \\sqrt{p}$ is a reasonable choice and since $p\\leq \\sqrt{N}$, we have that $k \\approx N^{\\frac{1}{4}}$ is what we will usually select. This is because $p$ is unknown. Furthermore, the most important part of the Pollard-Rho method is to pick the sequence $x_1,x_2,...,x_k$ in a pseudo-random fashion. We have that the function $f(x) = x^{2} + 1 \\mod{N}$ can be used to create a pseudo-random sequence by letting $x_{i} = f(x_{i-1})$ where $x_{0}$ is some chosen constant. It has been proven empirically that this sequence using the defined function will create a pseudo-random sequence. \n",
    "\n",
    "Now, since we are assuming that there exists some $i,j \\in [1,k]$ such that $x_i \\equiv x_j \\mod{p}$, we have that $f(x_i)\\equiv f(x_j) \\mod{p}$ and thus $x_{i+1} \\equiv x_{j+1}$. Since this process continues, we have that eventually the sequence of $x_{0}\\mod{p},x_{1}\\mod{p},...$ will 'run into itself' and loop around before then, continuing in a cycle. This idea when plotted form the shape of a $\\rho$ and is what gives the method its name. More importantly, however, is that this means we can make the entire process more efficient.\n",
    "\n",
    "To take advantage of the fact that the sequence will eventually start to repeat in a loop, we use this idea of the 'tortoise and hare' algorithm. In other words, we choose  constant $x_0 = y_0$ as before and let the 'tortoise' be represented by $x_i = f(x_{i-1})$ whilst the 'hare' is represented by $y_i = f(f(y_{i-1}))$. Thus we have the $x_i$'s compute the sequence at a normal pace whilst the $y_i$'s compute the sequence at twice the speed. Thus, we will quickly be able to determine where the loop in the sequence is as the $y_i$'s will eventually 'catch-up' with the $x_i$'s and start repeating the 'tortoise' sequence. Thus, as soon as $\\gcd(x_i-y_i,N) \\neq 1$, we have found our factor and we can return it. Since $N = pq$ and $p$,$q$ are prime, we have that the factor returned will be equal to either $p$ or $q$ and thus we have factorised $N$."
   ]
  },
  {
   "cell_type": "code",
   "execution_count": 77,
   "metadata": {},
   "outputs": [],
   "source": [
    "def pollard_rho(N,a): #We have two inputs, the integer N we wish to factorise and our intial condition a which we will use to generate our pseudo-random sequence.\n",
    "    def f(x, N):\n",
    "        return((x**2 + 1)% N) #Here we define a function that has empirically been proven to create a pseudo-random sequence.\n",
    "    a = f(a,N) #This is the 'tortoise'.\n",
    "    b = f(f(a,N),N) #This is the 'hare'.\n",
    "    while b != a: \n",
    "        a = f(a,N) #Once again, here we have the 'tortoise' and the 'hare'.\n",
    "        b = f(f(b,N),N)  \n",
    "        p = gcd(abs(b - a), N) #We calculate the gcd and check if it is not equal to 1.\n",
    "        if p > 1:\n",
    "            q = int(N/p) #We then calculate q and return p,q.\n",
    "            return(p,q)\n",
    "    return('Failed')"
   ]
  },
  {
   "cell_type": "markdown",
   "metadata": {},
   "source": [
    "We now write a function used to calculate $N$ with a given bit-length."
   ]
  },
  {
   "cell_type": "code",
   "execution_count": 78,
   "metadata": {},
   "outputs": [],
   "source": [
    "def genN(bit_length): #We have the desired bit-length as the input.\n",
    "    while True: #We essentially loop until we reach a N that has the desired bit-length.\n",
    "        p,q = rsa_private_key(ceil(bit_length/2)) #Here we use our rsa-private-key function to generate two primes p,q so we can calculate N=p*q. We use the ceiling of half the bit length because multiplying two numbers of half the bit length will give either a number of the desired bit length, plus or minus 1.\n",
    "        N = p*q \n",
    "        if len(bin(N)) == bit_length + 2: #Here we check the generated N is indeed of the desired bit-length.\n",
    "            return(N)"
   ]
  },
  {
   "cell_type": "markdown",
   "metadata": {},
   "source": [
    "Now we write a function to calculate the average time taken for the pollard_rho function to factorise $N$ of a given range of bit-lengths."
   ]
  },
  {
   "cell_type": "code",
   "execution_count": 79,
   "metadata": {},
   "outputs": [],
   "source": [
    "def average_time_pollard_rho(l,s,r):\n",
    "    avg_array = np.zeros((s-l,)) #Here we create an empty array consisting of s-l entries. This will hold the average times.\n",
    "    N_array = np.zeros((s-l,)) #This is similar but will hold the average value for the generated N for each bit-length.\n",
    "    for j in range(l,s): #We are iterating over the varying bit-lengths.\n",
    "        Nlist = [] #Here we create an empty list to store our values of N.\n",
    "        while len(Nlist) < r: #Here we use a while loop to iterate over the number of trials we are doing.\n",
    "            Nlist.append(genN(j)) #Here we calculate N and store it in the list.\n",
    "        N_array[j-l,] = np.mean(Nlist) #Here we calculate the average N generated and store it in the empty array generated earlier. This is so we can plot a specific value for N on our graph later.\n",
    "        start = timer()\n",
    "        for m in range(r): #Here we iterate over r and use pollard_rho to factorise each N stored in the list. We time the entire process using timer().\n",
    "            pollard_rho(Nlist[m],2)\n",
    "        end = timer()\n",
    "        total_time = end - start #We then calculate the total time take to factorise all the values of N.\n",
    "        avg_array[j-l] = total_time/r  #Then we find the average time taken for each value of N and store it in the original array.\n",
    "    return(N_array, avg_array) #We then return the average N generated for each bit length and the corresponding average time taken to factorise an N of such a bit-length."
   ]
  },
  {
   "cell_type": "markdown",
   "metadata": {},
   "source": [
    "Now we will generate a range of data points using our function above. Also we will generate data using our generated $N$ values by calculating corresponding data points according to $C \\cdot N^{0.25}$ where $C$ is a chosen constant."
   ]
  },
  {
   "cell_type": "code",
   "execution_count": 80,
   "metadata": {},
   "outputs": [],
   "source": [
    "a = 30 #Here we set the range of the bit-lengths we will test.\n",
    "b = 50\n",
    "r = 50 #This is the number of N we will generate in order to get an average.\n",
    "N, times2 = average_time_pollard_rho(a,b,r)"
   ]
  },
  {
   "cell_type": "code",
   "execution_count": 81,
   "metadata": {},
   "outputs": [],
   "source": [
    "y = np.zeros((b-a,)) \n",
    "for i in range(b-a):\n",
    "    y[i] = 0.00001*(N[i]**0.25)"
   ]
  },
  {
   "cell_type": "code",
   "execution_count": 82,
   "metadata": {},
   "outputs": [
    {
     "data": {
      "text/plain": [
       "<matplotlib.legend.Legend at 0x14fde154488>"
      ]
     },
     "execution_count": 82,
     "metadata": {},
     "output_type": "execute_result"
    },
    {
     "data": {
      "image/png": "[encoded data removed]",
      "text/plain": [
       "<Figure size 432x288 with 1 Axes>"
      ]
     },
     "metadata": {
      "needs_background": "light"
     },
     "output_type": "display_data"
    }
   ],
   "source": [
    "plt.plot(N,times2, label = 'Calculated Times')\n",
    "plt.plot(N,y, color = 'red', label = '$0.00001 \\cdot N^{0.25}$')\n",
    "plt.title('Average Time Taken to Factorise N = p*q using the pollard_rho function where p,q are prime')\n",
    "plt.xlabel('N')\n",
    "plt.ylabel('Time (s)')\n",
    "plt.legend()"
   ]
  },
  {
   "cell_type": "markdown",
   "metadata": {},
   "source": [
    "As we can see from the graph above, the time taken to factorise $N$ using the pollard_rho function is approximately $O(N^{0.25})$."
   ]
  },
  {
   "cell_type": "markdown",
   "metadata": {},
   "source": [
    "Now, we wish to compare the time taken to factorise large $N$ given our two different methods: the decompose function and Pollard's rho method. Currently, we have that the average_time_decompose function we wrote takes an input of the bit_lengths of $p$ and $q$ and not $N$ as our pollard_rho function does. Thus we will write a new function average_time, which takes the bit-length of $N$ as an input and outputs the average times taken to facorise such a $N$ using both of decompose function and our pollard_rho function."
   ]
  },
  {
   "cell_type": "code",
   "execution_count": 83,
   "metadata": {},
   "outputs": [],
   "source": [
    "def average_time(l,s,r): #Again we take inputs incuidng the range of bit-length and the number of N we want to generate.\n",
    "    avg_array_decompose = np.zeros((s-l,)) #Here we create two arrays, one for the decompose and one for pollard_rho.\n",
    "    avg_array_pollard_rho = np.zeros((s-l,))\n",
    "    for j in range(l,s): \n",
    "        Nlist = []\n",
    "        while len(Nlist) < r:\n",
    "            Nlist.append(genN(j)) #This time we generate N based off the bit-length. \n",
    "        start1 = timer() #First we time the decompose function.\n",
    "        for m in range(r):\n",
    "            decompose(Nlist[m])\n",
    "        end1 = timer()\n",
    "        start2 = timer() #Then we time the pollard_rho function. This is all in a similar manner to how our other functions worked.\n",
    "        for m in range(r):\n",
    "            pollard_rho(Nlist[m],2)\n",
    "        end2 = timer()\n",
    "        total_time1 = end1 - start1 #We then find the total times for bother functions as well as the average times.\n",
    "        total_time2 = end2 - start2\n",
    "        avg_array_decompose[j-l] = total_time1/r \n",
    "        avg_array_pollard_rho[j-l] = total_time2/r\n",
    "    return(avg_array_decompose, avg_array_pollard_rho) #We return both the average times for the decompose funtion and the average times for the pollard_rho function. "
   ]
  },
  {
   "cell_type": "markdown",
   "metadata": {},
   "source": [
    "Now we can create a dataframe that compares the average times taken (to $6$ decimal places) to factorise $N$ of a certain  bit-length using both the decompose function and the pollard_rho function."
   ]
  },
  {
   "cell_type": "code",
   "execution_count": 84,
   "metadata": {},
   "outputs": [],
   "source": [
    "decompose_times, pollard_times = average_time(30,51,4)"
   ]
  },
  {
   "cell_type": "code",
   "execution_count": 85,
   "metadata": {},
   "outputs": [
    {
     "name": "stdout",
     "output_type": "stream",
     "text": [
      "              decompose time (s)  pollard_rho time (s)\n",
      "N bit-length                                          \n",
      "30                      0.006453              0.000971\n",
      "31                      0.012720              0.000564\n",
      "32                      0.014022              0.001027\n",
      "33                      0.019389              0.001157\n",
      "34                      0.019364              0.000830\n",
      "35                      0.033245              0.001958\n",
      "36                      0.064662              0.003827\n",
      "37                      0.129127              0.005215\n",
      "38                      0.100448              0.002299\n",
      "39                      0.153497              0.004500\n",
      "40                      0.174078              0.002607\n",
      "41                      0.292954              0.005114\n",
      "42                      0.382324              0.004472\n",
      "43                      0.580893              0.005833\n",
      "44                      0.894960              0.006027\n",
      "45                      1.142536              0.004253\n",
      "46                      1.561872              0.013120\n",
      "47                      2.785652              0.017163\n",
      "48                      3.268619              0.024309\n",
      "49                      4.967177              0.020988\n",
      "50                      6.411990              0.043598\n"
     ]
    }
   ],
   "source": [
    "u = np.arange(30,51) #Here we create an array containg the values in the range from 30 up to and including 50.\n",
    "l = np.transpose(np.array([decompose_times,pollard_times]))\n",
    "df = pd.DataFrame(l) #Here we create a data frame using the arrays.\n",
    "df.columns = ['decompose time (s)', 'pollard_rho time (s)'] #Here we relable the column titles to make the dataframe clearer.\n",
    "df.index = u\n",
    "df.index.name = 'N bit-length'\n",
    "print(df)"
   ]
  },
  {
   "cell_type": "markdown",
   "metadata": {},
   "source": [
    "As we can see from the dataframe above, we have that the pollard_rho function is a lot faster than the decompose function for factorising large $N = pq$ where $p$ and $q$ are prime numbers. We have that in some cases, the speed of pollard_rho is more than $100$ times faster than that of decompose. For example, for a $N$ bit-length of $50$, we have that decompose took on average $5.726562$ seconds, to $6$ decimal places, to factorise $N$ whereas pollard_rho took only $0.039062$ seconds, to $6$ decimal places. Furthermore, it can also be seen that the times for pollard_rho are more erratic than those of decompose. For example, the pollard_rho times frequently deviate from a pattern altough they do have the general trend of increasing as the bit-length increases. We can see this as from bit-lengths $40$ to $50$, we see the time taken by the pollard_rho function increase from $0.003906$ to $0.039062$. However, there is also deviation as a bit-length of $49$ gave an average time of $0.054688$ which is larger than the time taken for the bit-length of $50$. This can probably be explained due to the number of trials done being relatively small and therefore some of the measurements may not be as accurate. On the other hand, the decompose function is much more regular and the time taken steadily rises as the bit-length of $N$ does, in a much more obvious fashion."
   ]
  },
  {
   "cell_type": "markdown",
   "metadata": {},
   "source": [
    "We will now consider the pollard_rho function as the bit-length of $N$ increases further. We have from our graph that we can see that the function $f(N) = 0.00001\\cdot N^{0.25}$ approximates the time taken to factorise $N$ using the pollard_rho function. Hence, we can use this function to get an approximation of how long it would take to factorise a $N$ of $80$ bits or $100$ bits and so forth. This will allow us to get a general idea of when the pollard_rho function becomes unfeasible."
   ]
  },
  {
   "cell_type": "code",
   "execution_count": 86,
   "metadata": {},
   "outputs": [],
   "source": [
    "def pollardf(N): #Here we define the function discussed earlier that we can use to model the times taken to factorise N using the pollard_rho function.\n",
    "    return(0.00001*(N**0.25))"
   ]
  },
  {
   "cell_type": "code",
   "execution_count": 87,
   "metadata": {},
   "outputs": [],
   "source": [
    "a = 50 #Here we set the range of bits we will calculate an approximate time for.\n",
    "b = 150\n",
    "calc_time = np.zeros(((b-a)+1,)) #Here we create an empty array to store our times in.\n",
    "for j in range(a,b+1): #We iterate over the bit-length of N.\n",
    "    listN = [] \n",
    "    listtime = []\n",
    "    while len(listN) <100:\n",
    "        listN.append(genN(j)) #Here we generate 100 values of N at each bit-length.\n",
    "    for i in range(100):\n",
    "        listtime.append(pollardf(listN[i])) #We then calculate an approximate time for each N in the list and store those times in another list.\n",
    "    calc_time[j-a] = np.mean(listtime) #Finally, we store an average of the times for each bit-length in the initial array."
   ]
  },
  {
   "cell_type": "code",
   "execution_count": 88,
   "metadata": {},
   "outputs": [
    {
     "name": "stdout",
     "output_type": "stream",
     "text": [
      "                  time (s)\n",
      "N bit-length              \n",
      "50            5.187621e-02\n",
      "51            6.505646e-02\n",
      "52            7.387877e-02\n",
      "53            9.255486e-02\n",
      "54            1.046660e-01\n",
      "...                    ...\n",
      "146           8.758946e+05\n",
      "147           1.102692e+06\n",
      "148           1.229544e+06\n",
      "149           1.555547e+06\n",
      "150           1.743866e+06\n",
      "\n",
      "[101 rows x 1 columns]\n"
     ]
    }
   ],
   "source": [
    "u = np.arange(a,b+1) #Here we create an array of the bit-lengths.\n",
    "l = np.transpose(np.array([calc_time]))\n",
    "df = pd.DataFrame(l) #Here we create a data frame using the arrays.\n",
    "df.columns = ['time (s)'] #Here we relable the column title to make the dataframe clearer.\n",
    "df.index = u\n",
    "df.index.name = 'N bit-length'\n",
    "print(df)"
   ]
  },
  {
   "cell_type": "markdown",
   "metadata": {},
   "source": [
    "We can pull out the data for the bit-lengths of $120,130,140$ and $150$ so we can see at a glance how the time is rising over an interval of $10$ bits."
   ]
  },
  {
   "cell_type": "code",
   "execution_count": 89,
   "metadata": {},
   "outputs": [
    {
     "data": {
      "text/html": [
       "<div>\n",
       "<style scoped>\n",
       "    .dataframe tbody tr th:only-of-type {\n",
       "        vertical-align: middle;\n",
       "    }\n",
       "\n",
       "    .dataframe tbody tr th {\n",
       "        vertical-align: top;\n",
       "    }\n",
       "\n",
       "    .dataframe thead th {\n",
       "        text-align: right;\n",
       "    }\n",
       "</style>\n",
       "<table border=\"1\" class=\"dataframe\">\n",
       "  <thead>\n",
       "    <tr style=\"text-align: right;\">\n",
       "      <th></th>\n",
       "      <th>time (s)</th>\n",
       "    </tr>\n",
       "    <tr>\n",
       "      <th>N bit-length</th>\n",
       "      <th></th>\n",
       "    </tr>\n",
       "  </thead>\n",
       "  <tbody>\n",
       "    <tr>\n",
       "      <td>120</td>\n",
       "      <td>9.633035e+03</td>\n",
       "    </tr>\n",
       "    <tr>\n",
       "      <td>130</td>\n",
       "      <td>5.471046e+04</td>\n",
       "    </tr>\n",
       "    <tr>\n",
       "      <td>140</td>\n",
       "      <td>3.080007e+05</td>\n",
       "    </tr>\n",
       "    <tr>\n",
       "      <td>150</td>\n",
       "      <td>1.743866e+06</td>\n",
       "    </tr>\n",
       "  </tbody>\n",
       "</table>\n",
       "</div>"
      ],
      "text/plain": [
       "                  time (s)\n",
       "N bit-length              \n",
       "120           9.633035e+03\n",
       "130           5.471046e+04\n",
       "140           3.080007e+05\n",
       "150           1.743866e+06"
      ]
     },
     "execution_count": 89,
     "metadata": {},
     "output_type": "execute_result"
    }
   ],
   "source": [
    "df.loc[[120,130,140,150],:] #Here we pull out several rows of the dataframe so we can see the difference in times at several intervals."
   ]
  },
  {
   "cell_type": "markdown",
   "metadata": {},
   "source": [
    "As we can see from the dataframe above, we have that as the bit-length of $N$ increases so does the time taken to factorise it using the pollard_rho function. At a bit-length of $120$, it takes $9590$ seconds (to $3$ significant figures) to factorise $N$ using pollard_rho. This is a little under $3$ hours. However, at a bit-length of $130$, we see it takes about $15$ hours. At $140$ bits, it takes approximately $3.5$ days. Finally, at $150$ bits, we see it takes about $1740000$ seconds ($3$ s.f) which is approximately $20$ days. "
   ]
  },
  {
   "cell_type": "markdown",
   "metadata": {},
   "source": [
    "Again, the question of feasibility depends upon the computing power available to a person as well as the reasoning for them needing to factorise such large $N.$ For most people, anything more than a couple hours would be unfeasible and so one would consider a maximum bit-length for $N$ of $120$. However, for those with significantly more computing power, and a particular desire to factorise larger numbers, one may consider anything up to several days fairly acceptable. In this case, a bit-length of $140$ would be where it starts to become unfeasible."
   ]
  },
  {
   "cell_type": "markdown",
   "metadata": {},
   "source": [
    "## Security and Time Complexity of Pollard's Rho Method"
   ]
  },
  {
   "cell_type": "markdown",
   "metadata": {},
   "source": [
    "The following is based on ideas in [21] and [22]."
   ]
  },
  {
   "cell_type": "markdown",
   "metadata": {},
   "source": [
    "We have that the number of iterations of Pollard's Rho Method is generally considered to be $O(\\sqrt{p})$ or equivalently $O(\\sqrt[4]{N})$ where $N$ is the composite number we are factorising and $p$ is the smallest factor of such $N$. We have that this is based on the ideas of the Birthday Paradox which heavily influence the ideas behind Pollard's Rho Method. We have that the Birthday Paradox suggests that a group of $23$ people is a large enough group to ensure that in $50\\%$ of cases, two people in such a group share the same birthday. This idea can be developed to suggest that upon picking numbers randomly from a set containing $p$ numbers, we have that the probability of picking a particular number exceed $50\\%$ when $1.177 \\cdot \\sqrt{p}$ numbers have been picked. However, this really applies to Pollard's theoretical method where actual random numbers are used. In reality, pseudo-random numbers are used. However, the same ideas are thought to be applicable to the version of Pollard's Rho Method that is actually used but this has not been rigorously proved."
   ]
  },
  {
   "cell_type": "markdown",
   "metadata": {},
   "source": [
    "## Pollard's P-1 Algorithm"
   ]
  },
  {
   "cell_type": "markdown",
   "metadata": {},
   "source": [
    "The following is based on ideas in [23] and [24]."
   ]
  },
  {
   "cell_type": "markdown",
   "metadata": {},
   "source": [
    "Another method to factorise large integers was also invented by Pollard in 1974, the year before he invented his Rho Method. It is called Pollard's P-1 Algorithm. The algorithm uses Fermat's Little Theorem, which states that for prime $p$ and integer $a$, such that $p \\nmid a$, we have that $$a^{p-1} \\equiv 1 \\mod{p}.$$\n",
    "\n",
    "The method entails selecting suitably large numbers, say $M$, such that we hope that for a prime factor of $N$, denoted $p$, we have that $p-1\\mid M.$ Thus, we have that for some constant integer $k$, $M = k(p-1).$ Hence, by Fermat's Little Theorem, we have that for some $a$ co-prime to $N$, we have that $$a^{M} = a^{k(p-1)} = (a^{p-1})^{k} \\equiv 1^{k} = 1 \\mod{p}.$$\n",
    "\n",
    "Thus, we have that $p \\mid a^{M} - 1$ and thus $\\gcd(a^{M} - 1,N) = p$ or $\\gcd(a^{M} - 1,N) = N$. In the former case the method has produced a non-trivial factor of $N$ and we are done. However, in the latter case, we must continue.\n",
    "\n",
    "If $gcd(a^{M} - 1, N) = N$, then we have that $N \\mid a^{M} - 1$ and thus the other prime factor of $N$, say $q$ is such that $q \\mid a^{M} - 1$. Thus we have that $a^{M} \\equiv 1 \\mod q$.\n",
    "\n",
    "Furthermore, we have by the Division Theorem that for some $b$ and $r$, we have that $M = b(q - 1) + r$, where $0 \\leq r < q-1.$ Thus we have by The Division Theorem and Fermat's Little Theorem that $$a^{M} = a^{b(q-1) + r} = (a^{q-1})^{b}a^{k} \\equiv 1^{b}a^{k} = a^{k} \\mod  q.$$\n",
    "\n",
    "Since $a^{M} \\equiv 1 \\mod q$ and $a^{M} \\equiv a^{k} \\mod q$, we have that $a^{k} \\equiv 1 \\mod q.$ So we have two cases: either $k = 0$ or $k \\neq 0$. In the latter, we have that we can go back to the start of the algorithm and pick another $a$ and repeat the process whilst hoping that this time we get a non-trivial factor. Wheras, with the former, we have that $q-1 \\mid M$ and this is problematic. Thus, in this case we would want to select a new $M$ such that $q-1 \\nmid M$.\n",
    "\n",
    "To select our $M$ originally, we multiply a list of primes up to a certain number $B$ where each prime is raised to a certain exponent. This is done to create a large number that has many different primes as factors as it makes it more likely that $p-1 \\mid M$. Thus, if our $M$ is problematic, we can increase or decrease $B$ to get a differing list of primes and thus a differing $M$."
   ]
  },
  {
   "cell_type": "markdown",
   "metadata": {},
   "source": [
    "We now write a function to carry out Pollard's P-1 Algorithm. It takes an input of a composite number $N = pq$ where $p$ and $q$ are primes. It also takes a second value as an input. This is $B$, the bound we use to decide which primes will be appended into our prime list in order to create $M$, our large number that we hope is divisible by $p-1$."
   ]
  },
  {
   "cell_type": "code",
   "execution_count": 90,
   "metadata": {},
   "outputs": [],
   "source": [
    "def pollard_p1(N,B):\n",
    "    primes = [] #Here we create an empty list of primes.\n",
    "    for p in range(B+1): #Here we append all primes up to our B.\n",
    "        if is_prime(p):\n",
    "            primes.append(p)\n",
    "    M = 1\n",
    "    for p in primes: #Here we calculate M by multiplying up the primes in our list to the specified exponent.\n",
    "        exponent = floor(log(B,p))\n",
    "        M = M*(p**(exponent))\n",
    "    if N%2 != 0: #We have if N is odd then 2 is co-prime.\n",
    "        a = 2\n",
    "    else:\n",
    "        test = False\n",
    "        while not test: #Alternately, we have to generate random integers in the range of 0 to N and see if they are co-prime to N.\n",
    "            i = randint(0, N)\n",
    "            if gcd(i,N) == 1:\n",
    "                a = i\n",
    "                test = True\n",
    "    factor = gcd(((a**M) - 1)%N, N) #We then calculate the gcd of A^{M} - 1 and N. We do so modulo N becuase it makes the numbers more manageable and does not change the gcd.\n",
    "    if factor != 1 and factor != N: #If our factor is non-trivial then we return it alongside the other factor.\n",
    "        return(factor,int(N/factor))\n",
    "    elif factor == 1: #Alternatively, if our factor = 1, we have that our list of primes is not big enough as there existed no factors of N, say p, where p-1 was B-smooth.\n",
    "        B += 1\n",
    "        while not is_prime(B):\n",
    "            B += 1 #Hence, we increase B until we reach the next prime and thus the list of primes is longer.\n",
    "        return(pollard_p1(N,B)) #We then repeat the process.\n",
    "    elif factor == N: #Alternatively, if our gcd = N, then for all factors p, of N, we have that p-1 was B-smooth and thus we need to reduce the number of primes in the list.\n",
    "        B -= 1\n",
    "        while not is_prime(B): #Thus we reduce the number of primes until there is one less prime in the list.\n",
    "            B -= 1\n",
    "        return(pollard_p1(N,B)) #We then repeat the process."
   ]
  },
  {
   "cell_type": "markdown",
   "metadata": {},
   "source": [
    "We have that the time for the algorithm to complete depends on our choice of $B$. In our code above, we have written it in such a way that if the algorithm fails to produce a factor, we adjust $B$ accordingly until we find a factor. However, this can lead to memory problems with larger numbers as the length of time for the algorithm to run depends upon the size of the $B$ being used at the time. The larger $B$ gets, the more likely that a factor will be found but simultaneously this increases the length of time the algorithm takes to run. In our code above, we have that our algorithm will continue indefinitelty until it either runs out of memory or finds a factor. Very occasionally, the algorithm will not work as it will find two consecutive values of $B$ to be too small and too big respectively and thus alternate between the two. "
   ]
  },
  {
   "cell_type": "markdown",
   "metadata": {},
   "source": [
    "We will now run some assertion tests to show the functionality of Pollard's P-1 Method."
   ]
  },
  {
   "cell_type": "code",
   "execution_count": 91,
   "metadata": {},
   "outputs": [
    {
     "name": "stdout",
     "output_type": "stream",
     "text": [
      "We have that p = 13 and q = 13.\n",
      "We have that N = 169.\n",
      "We have that our pollard_p1 function gives p = 13 and q = 13.\n",
      "We have that p = 37 and q = 43.\n",
      "We have that N = 1591.\n",
      "We have that our pollard_p1 function gives p = 37 and q = 43.\n",
      "We have that p = 73 and q = 107.\n",
      "We have that N = 7811.\n",
      "We have that our pollard_p1 function gives p = 73 and q = 107.\n",
      "We have that p = 131 and q = 211.\n",
      "We have that N = 27641.\n",
      "We have that our pollard_p1 function gives p = 131 and q = 211.\n",
      "We have that p = 829 and q = 859.\n",
      "We have that N = 712111.\n",
      "We have that our pollard_p1 function gives p = 829 and q = 859.\n"
     ]
    }
   ],
   "source": [
    "plist = [13,37,73,131,829] #Here we create two lists of primes that will be p and q.\n",
    "qlist = [13,43,107,211,859]\n",
    "for i in range(len(plist)):\n",
    "    p,q = plist[i],qlist[i] #We assign p,q to be each element in the respective lists.\n",
    "    print('We have that p = ' + str(p) + ' and q = ' + str(q) + '.')\n",
    "    N = p*q #Here we create a composite N which we will factorise using our function.\n",
    "    print('We have that N = ' + str(N) + '.')\n",
    "    factors = list(pollard_p1(N,5)) #Here we factorise our N.\n",
    "    factors.sort() #We then sort the factors into size order and assign p to be the smaller factor and q the larger.\n",
    "    pfactor, qfactor = factors[0],factors[1]\n",
    "    print('We have that our pollard_p1 function gives p = ' + str (pfactor) + ' and q = ' + str(qfactor) + '.')\n",
    "    assert pfactor == p, qfactor == q #Finally, we assert that our factors produced from the function are indeed our original factors."
   ]
  },
  {
   "cell_type": "markdown",
   "metadata": {},
   "source": [
    "As we can see from our assert statements above, the pollard_p1 function works for varying sizes of $N$. However, the algorithm itself does have some downfalls, as mentioned earlier, and is dependent on the choice of $B$ chosen, among other things. Furthermore, the memory needed for such a function means that as $N$ starts to get even larger, the method becomes unfeasible. The method is relatively quick when $p-1$ has a lot of factors but this is not always the case. Therefore, as $N$ gets a lot larger, we have that this method becomes unfeasible and thus pales in comparison to more powerful methods we have already discussed such as the decompose function and Pollard's Rho Method. Hence, this method would not be very effective in use and is also relatively slow in comparison to the others as well as not working all of the time."
   ]
  },
  {
   "cell_type": "markdown",
   "metadata": {},
   "source": [
    "## Dixon's Factorisation Method"
   ]
  },
  {
   "cell_type": "markdown",
   "metadata": {},
   "source": [
    "This section is based on ideas in [25] and [26]."
   ]
  },
  {
   "cell_type": "markdown",
   "metadata": {},
   "source": [
    "Dixon's Factorisation Method is an algorithm invented by John Dixon and published in 1981. Although it is not the fastest method for factorising large integers, it is the precursor to more modern methods such as the Quadratic Sieve Method and the General Number Field Sieve which are considered to be the fastest two methods for factorising smaller and larger integers respectively.\n",
    "\n",
    "Dixon's method consists of first selecting a bound $B$. It is from this bound $B$, that we assemble a list of primes to be our factor base: a small set of prime numbers which we can factorise integers over. So, our base consists of all primes $p$ such that $p \\leq B$. We call this set $P$.\n",
    "\n",
    "Next, we find $\\lceil\\sqrt{N}\\rceil$, the ceiling of the square root of $N$. This allows us a start point to begin our search at. We only have to check from $\\lceil\\sqrt{N}\\rceil$ to $N$ itself because an two distinct factors of $N$,say $p$ and $q$, have the property that either $p \\geq \\sqrt{N}$ or $q \\geq \\sqrt{N}$. Thus there will always exist one factor of $N$ in the range $[\\lceil\\sqrt{N}\\rceil, N]$. Of course, if $N = p^2$ for some $p$, then we check this first and act accordingly. \n",
    "\n",
    "Presuming that $N$ has two distinct factors, we start finding $z^{2} \\mod N$ for each $z \\in [\\lceil\\sqrt{N}\\rceil, N]$. We then collect all those $z$ such that they are considered $B-smooth$. That is, all $z$ such that  $z^{2} \\mod N$ can be written as $\\prod_{p_{i} \\in P}{p_{i}^{a_i}}$. \n",
    "\n",
    "We store all such $z$ that are $B-smooth$ as well as vectors $a = (a_{1},a_{2},...,a_{k})$ where each $a_i$, for $i \\in [1,k]$ where $k$ is the number of primes in $P$, is the exponent of prime $p_i$ in the prime factorisation of the previously calculated $z^{2} \\mod N$.\n",
    "\n",
    "So, we now have two lists: a list of $B-smooth$ $z$ values and a corresponding list of exponents of the prime factorisations. We shall call these lists $Z$ and $A$ respectively. We continue to collect $z$ values and $a$ vectors to our list until we have slightly more values than the number of primes in $P$. This will give us a high probability of finding a factor.\n",
    "\n",
    "Now, Dixon's Method suggests we go through $A$ and find the first vector $a \\in A$ which is linearly dependent on previous vectors. We denote this vector $c$. We then remove $c$ and its corresponding $z$ value, denoted $z_{c}$, from the lists $A$ and $Z$ respectively. We then compute coefficients $f_a$, which are either $1$ or $0$, such that $$c \\equiv \\sum_{a \\in A}{f_{a}a} \\mod 2. $$\n",
    "\n",
    "Then, we let $d = (d_1,d_2,...,d_k) = \\frac{1}{2}(c + \\sum_{a \\in A}{f_{a}a})$. Penultimately, we define $x = z_{c}\\prod_{a}{z_{a}^{f_a}}$, where $z_a$ are the $z$ values related to the vectors $a$, and $y = \\prod_{i}{p_{i}^{d_i}}$. Thus we have that $x^{2} \\equiv y^{2} \\mod N$. Now, if $x \\equiv y \\mod N$ or $x \\equiv -y \\mod N$, then the algorithm has failed and it should be repeated with a new value for $B$. However, this is rare and almost always we will have no such case and thus $gcd(x + y, N)$ will return a non-trivial factor of $N$."
   ]
  },
  {
   "cell_type": "code",
   "execution_count": 92,
   "metadata": {},
   "outputs": [],
   "source": [
    "def dixon(N,B):\n",
    "    primes = [] #Here we create an empty list of primes.\n",
    "    for p in range(B+1):\n",
    "        if is_prime(p):\n",
    "            primes.append(p) #Here we append all primes in our 'base' up to and including 'B'.\n",
    "    start = ceil(sqrt(N)) #Here we find our start point by finding the square root of N.\n",
    "    if start**2 == N: #We first check if N is a sqaure number and start is the square root of N.\n",
    "        return(start,start)\n",
    "    for i in range(start,N): #We iterate over all numbers from the square root of N to N-1.\n",
    "        for j in range(len(primes)): #We also iterate over all primes in our 'base' list.\n",
    "            a = i**2%N #We find the square of all numbers from start to N modulo N.\n",
    "            b = primes[j]**2%N #We find the squares of all the primes in our 'base' modulo N.\n",
    "            if a == b: #We then compare to see when we have a match/pair.\n",
    "                factor = gcd(i - primes[j], N) #We then test to see if the numbers used to find this pair give a non-trivial factor.\n",
    "                if factor != 1 and factor != N:\n",
    "                    return(factor,int(N/factor))"
   ]
  },
  {
   "cell_type": "markdown",
   "metadata": {},
   "source": [
    "Once more, we can show the efficacy of the function with some randomly generated values for $N$ and some assert statements."
   ]
  },
  {
   "cell_type": "code",
   "execution_count": 93,
   "metadata": {},
   "outputs": [
    {
     "name": "stdout",
     "output_type": "stream",
     "text": [
      "We have that p = 31 and q = 31.\n",
      "We have that N = 961.\n",
      "We have that our dixon function gives p = 31 and q = 31.\n",
      "We have that p = 43 and q = 53.\n",
      "We have that N = 2279.\n",
      "We have that our dixon function gives p = 43 and q = 53.\n",
      "We have that p = 83 and q = 113.\n",
      "We have that N = 9379.\n",
      "We have that our dixon function gives p = 83 and q = 113.\n",
      "We have that p = 151 and q = 163.\n",
      "We have that N = 24613.\n",
      "We have that our dixon function gives p = 151 and q = 163.\n",
      "We have that p = 419 and q = 509.\n",
      "We have that N = 213271.\n",
      "We have that our dixon function gives p = 419 and q = 509.\n",
      "We have that p = 653 and q = 967.\n",
      "We have that N = 631451.\n",
      "We have that our dixon function gives p = 653 and q = 967.\n",
      "We have that p = 1583 and q = 1889.\n",
      "We have that N = 2990287.\n",
      "We have that our dixon function gives p = 1583 and q = 1889.\n",
      "We have that p = 2351 and q = 4019.\n",
      "We have that N = 9448669.\n",
      "We have that our dixon function gives p = 2351 and q = 4019.\n",
      "We have that p = 4421 and q = 5323.\n",
      "We have that N = 23532983.\n",
      "We have that our dixon function gives p = 4421 and q = 5323.\n"
     ]
    }
   ],
   "source": [
    "for i in range(5,14): #We iterate over bit-lengths for p and q.\n",
    "    initial = list(rsa_private_key(i)) #Here we make a list of two random prime numbers.\n",
    "    initial.sort() #We then sort this list.\n",
    "    p,q = initial[0],initial[1] #We then let p be the smallest factor and q the larger one. This will help with our assert statements.\n",
    "    print('We have that p = ' + str(p) + ' and q = ' + str(q) + '.')\n",
    "    N = p*q #Here we create a composite N which we will factorise using our function.\n",
    "    print('We have that N = ' + str(N) + '.')\n",
    "    factors = list(dixon(N,7)) #Here we factorise our N.\n",
    "    factors.sort() #We then sort the factors into size order and assign p to be the smaller factor and q the larger.\n",
    "    pfactor, qfactor = factors[0],factors[1]\n",
    "    print('We have that our dixon function gives p = ' + str (pfactor) + ' and q = ' + str(qfactor) + '.')\n",
    "    assert pfactor == p, qfactor == q #Finally, we assert that our factors produced from the function are indeed our original factors."
   ]
  },
  {
   "cell_type": "markdown",
   "metadata": {},
   "source": [
    "As we can see from our assert statements above, there are no errors and thus our dixon function is working. We have used a range of bit-lengths for $p$ and $q$ from $5$ to $14$ to show the function works for varying sizes of $N$. We have that the bit-length could increase but the time taken to factorise larger $N$ using Dixon's Method is considerable.\n",
    "\n",
    "Dixon's Method is slower than both Pollard's Rho Method and our decompose function. However, it can factorise larger values of $N$ more comfortably than Pollard's P-1 Method. \n",
    "\n",
    "Dixon's Method is more interesting when considering the fact it lays the basis for some of the more efficient factorisation methods used today. Furthermore, Dixon's Method is unique in that the time comlpexity can be explicitly stated unlike other methods of factorisation. In fact Dixon's Method has a complexity of $O(\\exp(2\\sqrt{2}\\sqrt{\\log{N}\\log{\\log{N}}})),$ under the assumption of optimal complexity."
   ]
  },
  {
   "cell_type": "markdown",
   "metadata": {},
   "source": [
    "# Part 6 - Diffie-Hellman Key Exchange\n",
    "\n",
    "This section is based on ideas in [27].\n",
    "\n",
    "In this section, we will outline and implement the Diffie-Hellman protocol. We will show examples of this using both two and three people, and show how the Diffie-Hellman can be used in conjuction with the Vigenere Cipher to encrypt/decrypt messages."
   ]
  },
  {
   "cell_type": "markdown",
   "metadata": {},
   "source": [
    "The Diffie-Hellman protocol is a way of privately exchanging a shared secret between two parties. The process starts with two parties/people (Alice and Bob) sharing publicly a large (in our case, 256-bit) prime number, $p$, and a primitive root (base), $g$, such that $g^{p-1}$ $\\equiv1$ (mod $p$) and $g^{t}$ $\\neq$ $1$ (mod $p$) for all $0 < t < p − 1$. Alice and Bob also seperately and privately choose their own large (256-bit) numbers. Alice then publically sends Bob the number $A = g^{a}$ (mod $p$) and Bob publically sends Alice $B = g^{b}$ (mod $p$). Alice then computes the shared secret $S = B^{a}$ (mod $p$) which should be the same as Bob computing the shared secret $S = A^{b}$ (mod $p$). Hence both Alice and Bob are in possession of the secret key $S$. After all parties are in possession of the secret key $S$, they are able to send each other messages and decrypt the messages that they receive from each other.  \n",
    "\n",
    "The Diffie-Hellman is used in the security of a variety of internet communication services. This is due to the fact that it is a fairly straight-forward technique that can use very large numbers for it's encryption, making it incredibly difficult to crack. However, research now suggests that the protocol is no longer strong enough to stop it from being hacked by some of the wealthiest and most skilled attackers. \n"
   ]
  },
  {
   "cell_type": "markdown",
   "metadata": {},
   "source": [
    "## Diffie-Hellman Protocol with Two People\n",
    "\n",
    "This section is based on ideas in [28].\n",
    "\n",
    "We start by defining each of the variables, and display these to the user.\n",
    "\n",
    "*Note because of the size of these numbers, this section of code can sometimes take longer to run"
   ]
  },
  {
   "cell_type": "code",
   "execution_count": 94,
   "metadata": {},
   "outputs": [
    {
     "name": "stdout",
     "output_type": "stream",
     "text": [
      "Publicly shared variables:\n",
      "    Publicly shared prime:  65091362820760091838155888296112101052638407382944318614045528947228321838483\n",
      "    Publicly shared base:   5\n"
     ]
    }
   ],
   "source": [
    "def find_prim_root_safe(p): \n",
    "    error = 'Input not a safe prime'\n",
    "    q = (p-1)//2\n",
    "    if is_sg_prime(q) == False:\n",
    "        print('Input not a safe prime')\n",
    "        return error\n",
    "    else:\n",
    "        for i in range(2,p + 1):\n",
    "            if is_prim_root_safe(i,p) == True:\n",
    "                return i\n",
    "            \n",
    "a = random_prime(256)\n",
    "while is_sg_prime(a) == False: # Using a 'while' loop that continues to generate random 256-bit prime numbers until a Sophie-German prime, 'Prime' is found\n",
    "    a = random_prime(256)\n",
    "    if is_sg_prime(a) == True:\n",
    "        Prime = a # p\n",
    "\n",
    "Base = find_prim_root_safe(2*Prime + 1) # g\n",
    "\n",
    "# Generating Alice and Bob's secret keys\n",
    "def Private_keys(n):\n",
    "    keys = []\n",
    "    for i in range (0,n):\n",
    "        bits = False\n",
    "        while bits == False:\n",
    "            x = getrandbits(256)\n",
    "            if x.bit_length() == 256:\n",
    "                keys.append(x)\n",
    "                bits = True\n",
    "    return keys # Returns a list of 'n' elements that can be used as the private keys for Alice and Bob when n = 2\n",
    "    \n",
    "keys = Private_keys(2)\n",
    "aSecret = keys[0] # a\n",
    "bSecret = keys[1] # b\n",
    "\n",
    "# Setting up the code and the immediately ouputting the publicly shared variables for the user to see\n",
    "print( \"Publicly shared variables:\")\n",
    "print( \"    Publicly shared prime: \" , Prime )\n",
    "print( \"    Publicly shared base:  \" , Base )\n"
   ]
  },
  {
   "cell_type": "markdown",
   "metadata": {},
   "source": [
    "Computing the Diffie-Hellman algorithm using the variables and outputting their shared secret"
   ]
  },
  {
   "cell_type": "code",
   "execution_count": 95,
   "metadata": {},
   "outputs": [
    {
     "name": "stdout",
     "output_type": "stream",
     "text": [
      "Alice sends over public channel: 14068559695212578080421963549318367219948841742918785473817889785485695068078\n",
      "Bob sends over public channel: 49742947646626313573624269871743626079429015902460455214748903803862303985060\n",
      "\n",
      "\n",
      "Privately calculated shared secret (Key): 37827745190262827167619546457848054156190601703951754394405421698046542298698\n"
     ]
    }
   ],
   "source": [
    "# Alice Sends Bob A = g^a mod p\n",
    "A = pow(Base, aSecret, Prime)\n",
    "print( \"Alice sends over public channel:\" , A )\n",
    "# Bob Sends Alice B = g^b mod p\n",
    "B = pow(Base, bSecret, Prime)\n",
    "print( \"Bob sends over public channel:\", B )\n",
    "print( \"\\n\" )\n",
    "\n",
    "# Alice Computes Shared Secret: S (key) = B^a mod p\n",
    "secret = pow(B, aSecret, Prime)\n",
    "# Bob Computes Shared Secret: S (key) = A^b mod p\n",
    "secret = pow(A, bSecret, Prime)\n",
    "print( \"Privately calculated shared secret (Key):\", secret )"
   ]
  },
  {
   "cell_type": "markdown",
   "metadata": {},
   "source": [
    "Now we move onto the Vigenere encryption using the previously calculated shared secret as the key for encryption. We paste in the code for the Vigenere Cipher as it was made earlier in the assignment, but first have to make adjustments to the key so that it can be used in the Vigenere."
   ]
  },
  {
   "cell_type": "code",
   "execution_count": 96,
   "metadata": {},
   "outputs": [
    {
     "name": "stdout",
     "output_type": "stream",
     "text": [
      "Vigenere Encryption\n",
      "Key has been copied to clipboard for use in decryption\n",
      "Cipher - KLTNV\n",
      "\n",
      "\n",
      "Now for decryption:\n",
      "Cipher - HELLO\n"
     ]
    }
   ],
   "source": [
    "print('Vigenere Encryption')\n",
    "\n",
    "letters1 = ['A','B','C','D','E','F','G','H','I','J','K','L','M','N','O','P','Q','R','S','T','U','V','W','X','Y','Z']\n",
    "letters2 = 'ABCDEFGHIJKLMNOPQRSTUVWXYZ'\n",
    "\n",
    "# Manipulating the 'secret' calculated with the Diffie-Hellman, so that it can be used with the Vigenere Cipher\n",
    "key = ''\n",
    "for i in str(secret):\n",
    "    p = int(i)\n",
    "    key += letters1[p] # I.e. the key is now the letters associated with the string of numbers calculated using the Diffie-Hellman earlier, with respect to the list, 'letters1'\n",
    "\n",
    "pyperclip.copy(key) # Copy the key to the clipboard to help the user with decryption\n",
    "\n",
    "# Paste in the code for the Vigenere cipher such that Alice and Bob's privately calculated secret can be used as the key\n",
    "def vig(txt='', key='', typ=''):\n",
    "\n",
    "    if not txt: \n",
    "        print('Needs text')\n",
    "        return\n",
    "    if not key: \n",
    "        print('Needs key')\n",
    "        return\n",
    "    if typ not in ('d', 'e'):\n",
    "        print('Type must be \"d\" or \"e\"')\n",
    "        return\n",
    "    \n",
    "    key = key.upper() # Using the key we calculated with the Diffie-Hellman from earlier\n",
    "    alist = [] \n",
    "    \n",
    "    keyInd = 0 \n",
    "    for i in txt: \n",
    "        num = letters2.find(i.upper())\n",
    "        if num != -1: \n",
    "            if typ == 'e':\n",
    "                num += letters2.find(key[keyInd]) \n",
    "            elif typ == 'd':\n",
    "                num -= letters2.find(key[keyInd]) \n",
    "            num %= len(letters2) \n",
    "            alist.append(letters2[num])    \n",
    "            keyInd += 1  \n",
    "            if keyInd == len(key):\n",
    "                keyInd = 0 \n",
    "        else:\n",
    "            alist.append(i)\n",
    "    if typ == 'e':\n",
    "        print('Key has been copied to clipboard for use in decryption') # Displays to user that the key has been copied to their computer, only shows if they have used the encryption type\n",
    "    return print('Cipher -', ''.join(alist))\n",
    "\n",
    "\n",
    "vig('hello', key, 'e')\n",
    "print('\\n')\n",
    "print('Now for decryption:')\n",
    "vig('JGPOT', 'CCEDFFGEJIIADIHFFGJHHHGFFHDFIDJHGBBEEEGIEDAGACGBEDFBGAHBIHEEIGADAIFHEGIBIJGJA', 'd')"
   ]
  },
  {
   "cell_type": "markdown",
   "metadata": {},
   "source": [
    "As you can see, we have created a key with Alice and Bob's publicly shared numbers and the randomly generated 256-bit prime, using the Diffie-Hellman protocol. We have then used this key to encrypt the word 'hello' using the Vigenere Cipher, an algorithm that was made earlier on in this project file."
   ]
  },
  {
   "cell_type": "markdown",
   "metadata": {},
   "source": [
    "## Diffie-Hellman Protocol with Three People\n",
    "\n",
    "This section is based on ideas in [29].\n",
    "\n",
    "We now introduce a third person, Cate. Similarly to the two person arrangement, Cate has her own private number, $c$. She then sends $C = g^{c}$ (mod$p$) to Alice and Cate herself receives $B = g^{b}$ (mod $p$). Next, Cate sends Alice $C^\\prime = B^{c}$ (mod $p$) and receives $B^\\prime = A^{b}$ (mod $p$). The shared secret is then calculated as $s =$ ($B^\\prime$)$^{c}$ (mod $p$) $= g^{abc}$ (mod $p$)."
   ]
  },
  {
   "cell_type": "markdown",
   "metadata": {},
   "source": [
    "In the same way as we did for two people, we randomly calculate and output the public numbers, aswell as calculating the now three secret 256-bit numbers.\n",
    "\n",
    "*Note because of the size of these numbers, this section of code can sometimes take longer to run"
   ]
  },
  {
   "cell_type": "code",
   "execution_count": 97,
   "metadata": {},
   "outputs": [
    {
     "name": "stdout",
     "output_type": "stream",
     "text": [
      "Publicly Shared Variables:\n",
      "    Publicly Shared Prime:  103601909586284043319650565098575618437797160612339089063587605302287802843389\n",
      "    Publicly Shared Base:   2\n"
     ]
    }
   ],
   "source": [
    "# Below random is used to generate a random 256-bit number\n",
    "#random_prime is used so that we can generate a random 256-bit prime number\n",
    "#find_prim_root_safe is used to find the 'Base'\n",
    "#is_sg_prime needed to ensure 'Prime' is a Sophie-Germain prime\n",
    "\n",
    "\n",
    "a = random_prime(256)\n",
    "while is_sg_prime(a) == False: # Using a 'while' loop that continues to generate random 256-bit prime numbers until a Sophie-German prime, 'Prime' is found\n",
    "    a = random_prime(256)\n",
    "    if is_sg_prime(a) == True:\n",
    "        Prime = a # p\n",
    "\n",
    "Base = find_prim_root_safe(2*Prime + 1) # g\n",
    "\n",
    "# Generating the Secret keys for Alice, Bob and Cate\n",
    "def Private_keys(n):\n",
    "    keys = []\n",
    "    for i in range (0,n):\n",
    "        bits = False\n",
    "        while bits == False:\n",
    "            x = getrandbits(256)\n",
    "            if x.bit_length() == 256:\n",
    "                keys.append(x)\n",
    "                bits = True\n",
    "    return keys # Returns a list of 'n' elements that can be used as the private keys for Alice, Bob and Cate when n = 3\n",
    "keys = Private_keys(3)\n",
    "aSecret = keys[0]\n",
    "bSecret = keys[1]\n",
    "cSecret = keys[2]\n",
    "\n",
    "# Printing the publicly shared variables for the user to see\n",
    "print( \"Publicly Shared Variables:\")\n",
    "print( \"    Publicly Shared Prime: \" , Prime )\n",
    "print( \"    Publicly Shared Base:  \" , Base )\n",
    " "
   ]
  },
  {
   "cell_type": "markdown",
   "metadata": {},
   "source": [
    "Again compute the Diffie-Hellman algorithm but now with three people so the output will be three keys that are all the same number."
   ]
  },
  {
   "cell_type": "code",
   "execution_count": 98,
   "metadata": {},
   "outputs": [
    {
     "name": "stdout",
     "output_type": "stream",
     "text": [
      "Alice Sends Over Public Channel: 47471324341274024766001337656528211238650337801656289770101617277247193891514\n",
      "Bob Sends Over Public Channel: 74891792752441555238356716541343831301815820741012739051749272338179201264082\n",
      "Cate Sends Over Public Channel: 61800818451905756222045502239098177806712631531467751627288890722661328443088\n",
      "\n",
      "\n",
      "Alice Sends Over Public Channel: 88791241836196750449624908253926664913036684233113123782663243403392555671162\n",
      "Bob Sends Over Public Channel: 38445155956272736086069113706663046875534989225463436446143330947118497254051\n",
      "Cate Sends Over Public Channel: 89082305216967602379155574212343485263530253404764762494031488751763436307016\n",
      "\n",
      "\n",
      "Privately Calculated Shared Secret (Key): 34221941716734408702142236069087675945586484167530949510547489051324487772725\n"
     ]
    }
   ],
   "source": [
    "# Alice Sends Bob A = g^a mod p\n",
    "A = pow(Base, aSecret, Prime)\n",
    "print( \"Alice Sends Over Public Channel:\", A )\n",
    "\n",
    "# Bob Sends Cate B = g^b mod p\n",
    "B = pow(Base, bSecret, Prime)\n",
    "print( \"Bob Sends Over Public Channel:\", B )\n",
    "\n",
    "# Cate Sends Alice C = g^c mod p\n",
    "C = pow(Base, cSecret, Prime)\n",
    "print( \"Cate Sends Over Public Channel:\", C)\n",
    "print('\\n')\n",
    "# Alice Sends Bob Aprime = C^a mod p\n",
    "Aprime = pow(C, aSecret, Prime)\n",
    "print( \"Alice Sends Over Public Channel:\", Aprime)\n",
    "\n",
    "# Bob Sends Cate Bprime = A^b mod p\n",
    "Bprime = pow(A, bSecret, Prime)\n",
    "print( \"Bob Sends Over Public Channel:\", Bprime)\n",
    "\n",
    "# Cate sends Alice Cprime = B^c mod p\n",
    "Cprime = pow(B, cSecret, Prime)\n",
    "print( \"Cate Sends Over Public Channel:\", Cprime)\n",
    "\n",
    "# Alice Computes Shared Secret: s = Cprime^a mod p\n",
    "secret = pow(Cprime,aSecret, Prime)\n",
    "\n",
    "# Bob Computes Shared Secret: s = Aprime^b mod p\n",
    "secret = pow(Aprime,bSecret, Prime)\n",
    "\n",
    "# Cate Computes Shared Secret: s = Bprime^c mod p\n",
    "secret = pow(Bprime, cSecret, Prime)\n",
    "print('\\n')\n",
    "\n",
    "print( \"Privately Calculated Shared Secret (Key):\", secret)"
   ]
  },
  {
   "cell_type": "markdown",
   "metadata": {},
   "source": [
    "Finally we again use the code for the Vigenere Cipher paired with our shared key to encrypt the message."
   ]
  },
  {
   "cell_type": "code",
   "execution_count": 99,
   "metadata": {},
   "outputs": [
    {
     "name": "stdout",
     "output_type": "stream",
     "text": [
      "Vigenere Encryption:\n",
      "\n",
      "Key has been copied to clipboard for use in decryption\n",
      "Cipher - KEFNFRKI\n",
      "\n",
      "\n",
      "Now for decyption:\n",
      "Cipher - HADLEIGH\n"
     ]
    }
   ],
   "source": [
    "print('Vigenere Encryption:')\n",
    "print('')\n",
    "\n",
    "letters1 = ['A','B','C','D','E','F','G','H','I','J','K','L','M','N','O','P','Q','R','S','T','U','V','W','X','Y','Z']\n",
    "letters2 = 'ABCDEFGHIJKLMNOPQRSTUVWXYZ'\n",
    "\n",
    "# Manipulating the 'secret' calculated with the Diffie-Hellman, so that it can be used with the Vigenere Cipher\n",
    "key = ''\n",
    "for i in str(secret):\n",
    "    p = int(i)\n",
    "    key += letters1[p] # I.e. the key is now the letters associated with the string of numbers calculated using the Diffie-Hellman earlier, with respect to the list, 'letters1'\n",
    "\n",
    "pyperclip.copy(key)\n",
    "\n",
    "# Again paste in the code for the Vigenere cipher but this time such that Alice, Bob and Cate's privately calculated secret will be used as the key\n",
    "def vig(txt='', key='', typ=''):\n",
    "\n",
    "    if not txt: \n",
    "        print('Needs text')\n",
    "        return\n",
    "    if not key: \n",
    "        print('Needs key')\n",
    "        return\n",
    "    if typ not in ('d', 'e'):\n",
    "        print('Type must be \"d\" or \"e\"')\n",
    "        return\n",
    "    key = key.upper() # Using the key we calculated with the Diffie-Hellman from earlier\n",
    "    alist = [] \n",
    "    keyInd = 0 \n",
    "    for i in txt: \n",
    "        num = letters2.find(i.upper())\n",
    "        if num != -1: \n",
    "            if typ == 'e':\n",
    "                num += letters2.find(key[keyInd]) \n",
    "            elif typ == 'd':\n",
    "                num -= letters2.find(key[keyInd]) \n",
    "            num %= len(letters2) \n",
    "            alist.append(letters2[num])\n",
    "            keyInd += 1  \n",
    "            if keyInd == len(key):\n",
    "                keyInd = 0 \n",
    "        else:\n",
    "            alist.append(i)\n",
    "    if typ == 'e':\n",
    "        print('Key has been copied to clipboard for use in decryption')\n",
    "    return print('Cipher -', ''.join(alist))\n",
    "\n",
    "\n",
    "vig('HADLEIGH', key , 'e')\n",
    "print('\\n')\n",
    "print('Now for decyption:')\n",
    "vig('KJIMLMHP','DJFBHEBIGDFCGJCBBHIEDJJGHIIAHGIFCGCJGEHDFGJHGDJEJEIEAIIGIHBGBHGFBCEHJHDDJBBD', 'd')"
   ]
  },
  {
   "cell_type": "markdown",
   "metadata": {},
   "source": [
    "# Part Seven - Solving the Discrete Logarithm Problem"
   ]
  },
  {
   "cell_type": "markdown",
   "metadata": {},
   "source": [
    "We have that the security of the Diffie-Hellman protocol depends on the fact that, given $p$, $g$ and $A = g^a (mod p)$, it is not feasible to find $a$—otherwise, if we intercept $B$, we could compute the key $K = B^a$ . Finding this value of $a$ is whats known as the discrete logarithm problem and for large values of $a$ and $p$ this is hugely difficult. \n",
    "Nonetheless it can be done, and we will show how with two differnt methods; a Brute Force Algorithm and a method known as the Baby Step Giant Step Algorithm. We will use varying bit length of our $a$ and $p$ values. We will record the time taken for our two algorithms to 'spit out' our $a$ value to compare how the algorithm's vary in efficiency. \n",
    "\n",
    "## Brute Force Algorithm\n",
    "Firstly, we will implement the Brute Force Algorithm to find our $a$ value. We will do this by firstly generating $M$ such that $M=g^a \\mod p$ and then running the method to see how quickly it can find the $a$ value.\n",
    "\n",
    "The Brute Force Algorithm is simple; it uses the pow function to go through all possible values of $a$ until it finds the correct value, starting at $a=1$ and increasing by $1$ each time until we reach a value of $g^a(mod p)$. such that $M=g^a(mod p)$ for our given $M$."
   ]
  },
  {
   "cell_type": "code",
   "execution_count": 100,
   "metadata": {},
   "outputs": [],
   "source": [
    "def random_int(bit_length):\n",
    "    while True:\n",
    "        p = SystemRandom().getrandbits(bit_length)\n",
    "        if p.bit_length()==bit_length:\n",
    "            return p\n",
    "#Here we have created a function where by we can generate a random integer of a given bit-length.\n",
    "#This will be used to generate different values of 'a' and 'p'.\n",
    "#we have used the if statement to ensure the integer is of specified bit length and not any less."
   ]
  },
  {
   "cell_type": "code",
   "execution_count": 101,
   "metadata": {},
   "outputs": [],
   "source": [
    "def brute_force_algo(M,p,g):\n",
    "    a=1\n",
    "    while True:\n",
    "        if pow(g,a,p) == M:\n",
    "            return print('The Brute Force Algorithm has found that the value of a is ' + str(a) + '.')\n",
    "        a += 1\n",
    "#This is the Brute Force Algorithm, it essentially uses the pow function to go through possible values of a until\n",
    "#it finds the correct value, starting at a=1 such that M=g^a(mod p)."
   ]
  },
  {
   "cell_type": "markdown",
   "metadata": {},
   "source": [
    "Now we have established the method, we are going to see what effect is given by increasing the bit length of the $a$ and $p$ values used. We have started with a bit length of $20$ for both and will increase this and test the time taken for the method to 'spit out' the $a$ value. Although it was recommed to start with $30$ bit length variables, we found that this takes a huge amount of time and so values larger than $30$ bits would be inefficient. "
   ]
  },
  {
   "cell_type": "code",
   "execution_count": 102,
   "metadata": {},
   "outputs": [
    {
     "name": "stdout",
     "output_type": "stream",
     "text": [
      "The Brute Force Algorithm has found that the value of a is 138851.\n",
      "Time total is 1.0438911000001099.\n",
      "The Brute Force Algorithm has found that the value of a is 3407.\n",
      "Time total is 1.3948476000000483.\n",
      "The Brute Force Algorithm has found that the value of a is 34051.\n",
      "Time total is 1.781502699999919.\n",
      "The Brute Force Algorithm has found that the value of a is 25086.\n",
      "Time total is 2.4322452999997495.\n",
      "The Brute Force Algorithm has found that the value of a is 96374.\n",
      "Time total is 3.480700399999705.\n",
      "The time for a 20 bit value of a and p is 0.696140079999941 seconds.\n"
     ]
    }
   ],
   "source": [
    "'''We will time how long it takes for higher bit values of a and p'''\n",
    "#We will establish a timer which ends once the brute force algorithm finishes and returns the value of a.\n",
    "timetotal=0\n",
    "for i in range(1,6):\n",
    "    #We run this 5 times.\n",
    "    start = timer()\n",
    "    bitlen=20 #We will start will 20 bit values of a and p.\n",
    "    #We will increase this value and observe the effectiveness of our two algorithms in finding our a value.\n",
    "    p=random_prime(bitlen)#We generate a random prime of a given bit length for our value of p.\n",
    "    g=randint(2,100) #We also generate a random integer between 2 and 99 for g.\n",
    "    a1=random_int(bitlen)\n",
    "    m1=g**a1\n",
    "    M=m1%p\n",
    "    brute_force_algo(M,p,g)\n",
    "    end = timer()\n",
    "    time=end-start\n",
    "    i=i+1\n",
    "    timetotal=timetotal+time\n",
    "    #We compile all the times together to later work out an average.\n",
    "    print('Time total is ' + str(timetotal) + '.')\n",
    "    \n",
    "b20=timetotal/5\n",
    "timetaken=b20\n",
    "#Since we are running this 10 times, we then take an average of the total time taken.\n",
    "\n",
    "print('The time for a ' + str(bitlen) + ' bit value of a and p is ' + str(timetaken) + ' seconds.')"
   ]
  },
  {
   "cell_type": "code",
   "execution_count": 103,
   "metadata": {
    "scrolled": true
   },
   "outputs": [
    {
     "name": "stdout",
     "output_type": "stream",
     "text": [
      "The Brute Force Algorithm has found that the value of a is 656117.\n",
      "The Brute Force Algorithm has found that the value of a is 688869.\n",
      "The Brute Force Algorithm has found that the value of a is 18186.\n",
      "The Brute Force Algorithm has found that the value of a is 593176.\n",
      "The Brute Force Algorithm has found that the value of a is 1760270.\n",
      "The time for a 21 bit value of a and p is 3.8239644799999497 seconds.\n"
     ]
    }
   ],
   "source": [
    "#We repeat this for bit values of 21,22,23,24 and 25.\n",
    "#With every increase in bit length, the time taken increases so note that \n",
    "#some of these may take a considerable amount of time since we are running\n",
    "#them through 5 times\n",
    "\n",
    "timetotal=0\n",
    "for i in range(1,6): \n",
    "    start = timer()\n",
    "    bitlen=21\n",
    "    p=random_prime(bitlen)\n",
    "    g=randint(2,100)\n",
    "    a1=random_int(bitlen)\n",
    "    m1=g**a1\n",
    "    M=m1%p\n",
    "    brute_force_algo(M,p,g)\n",
    "    end = timer()\n",
    "    time=end-start\n",
    "    i=i+1\n",
    "    timetotal=timetotal+time\n",
    "    \n",
    "b21=timetotal/5\n",
    "timetaken=b21\n",
    "print('The time for a ' + str(bitlen) + ' bit value of a and p is ' + str(timetaken) + ' seconds.')"
   ]
  },
  {
   "cell_type": "code",
   "execution_count": 104,
   "metadata": {},
   "outputs": [
    {
     "name": "stdout",
     "output_type": "stream",
     "text": [
      "The Brute Force Algorithm has found that the value of a is 1587980.\n",
      "The Brute Force Algorithm has found that the value of a is 3251.\n",
      "The Brute Force Algorithm has found that the value of a is 2315975.\n",
      "The Brute Force Algorithm has found that the value of a is 210329.\n",
      "The Brute Force Algorithm has found that the value of a is 1741240.\n",
      "The time for a 22 bit value of a and p is 7.057041019999997 seconds.\n"
     ]
    }
   ],
   "source": [
    "timetotal=0\n",
    "for i in range(1,6): \n",
    "    start = timer()\n",
    "    bitlen=22\n",
    "    p=random_prime(bitlen)\n",
    "    g=randint(2,100)\n",
    "    a1=random_int(bitlen)\n",
    "    m1=g**a1\n",
    "    M=m1%p\n",
    "    brute_force_algo(M,p,g)\n",
    "    end = timer()\n",
    "    time=end-start\n",
    "    i=i+1\n",
    "    timetotal=timetotal+time\n",
    "    \n",
    "b22=timetotal/5\n",
    "timetaken=b22\n",
    "print('The time for a ' + str(bitlen) + ' bit value of a and p is ' + str(timetaken) + ' seconds.')"
   ]
  },
  {
   "cell_type": "code",
   "execution_count": 105,
   "metadata": {},
   "outputs": [
    {
     "name": "stdout",
     "output_type": "stream",
     "text": [
      "The Brute Force Algorithm has found that the value of a is 1975901.\n",
      "The Brute Force Algorithm has found that the value of a is 646296.\n",
      "The Brute Force Algorithm has found that the value of a is 102021.\n",
      "The Brute Force Algorithm has found that the value of a is 5201661.\n",
      "The Brute Force Algorithm has found that the value of a is 2060225.\n",
      "The time for a 23 bit value of a and p is 12.736181080000005 seconds.\n"
     ]
    }
   ],
   "source": [
    "timetotal=0\n",
    "for i in range(1,6): \n",
    "    start = timer()\n",
    "    bitlen=23\n",
    "    p=random_prime(bitlen)\n",
    "    g=randint(2,100)\n",
    "    a1=random_int(bitlen)\n",
    "    m1=g**a1\n",
    "    M=m1%p\n",
    "    brute_force_algo(M,p,g)\n",
    "    end = timer()\n",
    "    time=end-start\n",
    "    i=i+1\n",
    "    timetotal=timetotal+time\n",
    "    \n",
    "b23=timetotal/5\n",
    "timetaken=b23\n",
    "print('The time for a ' + str(bitlen) + ' bit value of a and p is ' + str(timetaken) + ' seconds.')"
   ]
  },
  {
   "cell_type": "code",
   "execution_count": 106,
   "metadata": {},
   "outputs": [
    {
     "name": "stdout",
     "output_type": "stream",
     "text": [
      "The Brute Force Algorithm has found that the value of a is 173942.\n",
      "The Brute Force Algorithm has found that the value of a is 6450600.\n",
      "The Brute Force Algorithm has found that the value of a is 4885213.\n",
      "The Brute Force Algorithm has found that the value of a is 9539667.\n",
      "The Brute Force Algorithm has found that the value of a is 9451759.\n",
      "The time for a 24 bit value of a and p is 42.654481080000004 seconds.\n"
     ]
    }
   ],
   "source": [
    "timetotal=0\n",
    "for i in range(1,6): \n",
    "    start = timer()\n",
    "    bitlen=24\n",
    "    p=random_prime(bitlen)\n",
    "    g=randint(2,100)\n",
    "    a1=random_int(bitlen)\n",
    "    m1=g**a1\n",
    "    M=m1%p\n",
    "    brute_force_algo(M,p,g)\n",
    "    end = timer()\n",
    "    time=end-start\n",
    "    i=i+1\n",
    "    timetotal=timetotal+time\n",
    "    \n",
    "b24=timetotal/5\n",
    "timetaken=b24\n",
    "print('The time for a ' + str(bitlen) + ' bit value of a and p is ' + str(timetaken) + ' seconds.')"
   ]
  },
  {
   "cell_type": "code",
   "execution_count": 107,
   "metadata": {},
   "outputs": [
    {
     "name": "stdout",
     "output_type": "stream",
     "text": [
      "The Brute Force Algorithm has found that the value of a is 1145066.\n",
      "The Brute Force Algorithm has found that the value of a is 412353.\n",
      "The Brute Force Algorithm has found that the value of a is 8436548.\n",
      "The Brute Force Algorithm has found that the value of a is 5565810.\n",
      "The Brute Force Algorithm has found that the value of a is 66334.\n",
      "The time for a 25 bit value of a and p is 84.46505910000005 seconds.\n"
     ]
    }
   ],
   "source": [
    "timetotal=0\n",
    "for i in range(1,6): \n",
    "    start = timer()\n",
    "    bitlen=25\n",
    "    p=random_prime(bitlen)\n",
    "    g=randint(2,100)\n",
    "    a1=random_int(bitlen)\n",
    "    m1=g**a1\n",
    "    M=m1%p\n",
    "    brute_force_algo(M,p,g)\n",
    "    end = timer()\n",
    "    time=end-start\n",
    "    i=i+1\n",
    "    timetotal=timetotal+time\n",
    "    \n",
    "b25=timetotal/5\n",
    "timetaken=b25\n",
    "print('The time for a ' + str(bitlen) + ' bit value of a and p is ' + str(timetaken) + ' seconds.')"
   ]
  },
  {
   "cell_type": "markdown",
   "metadata": {},
   "source": [
    "Below we time how long it takes to generate the $M$ value for $27$ bits of $p$ and $a$ as this seems to take a considerable amount of time for large bit values of $a$ and $p$. If you look at the time values that are outputted by the running of the functions above they do not seem to correspond to the amount of time actually taken. This is because we only begin the timer once we have our $M$, $p$ and $g$ values.\n"
   ]
  },
  {
   "cell_type": "code",
   "execution_count": null,
   "metadata": {},
   "outputs": [],
   "source": [
    "start = timer()\n",
    "bitlen=27\n",
    "p=random_prime(bitlen)\n",
    "g=randint(2,100)\n",
    "a1=random_int(bitlen)\n",
    "m1=g**a1\n",
    "M=m1%p\n",
    "end = timer()\n",
    "time=end-start\n",
    "print('For 27 bits this has taken ' + str(time) + ' seconds.')"
   ]
  },
  {
   "cell_type": "markdown",
   "metadata": {},
   "source": [
    "Any value of $a$ greater than $27$ bits takes far too long for this method to be feasible. However, as we have shown above, it is not necessarily the slowness of the Brute Force Alogrithm, but the time taken to calculate $M$ that makes this process slow.\n",
    "\n",
    "If we look at the time taken for smaller bit values of $a$ and $p$, we can see there is not always a continual increase in time as the bit value increases, depending on which random values of $a$ and $p$ are generated. However, generally speaking, the larger the bit length of $a$ and $p$, the longer the Brute Force Method takes to find a solution.\n",
    "\n",
    "## Baby Step Giant Step Algorithm\n",
    "Now we will look at the Baby Step Giant Step algorithm. The Baby Step Giant Step Algorithm is a more complex process, esentially it works as a 'meet in the middle' algorithm. The Baby Step is as follows; we firstly need to find the square root of $p-1$ and take the ceiling value of this, which is to round up the value. We then generate a table of values, labelled x, of $g^i mod p$ where by $i$ is in the range 0 to $N$ where $N$ is the ceiling of $\\sqrt{p-1}$. Once this table has been generated we then compute our c value which is $g^{N(p-2)} mod p$.\n",
    "We then compute the Giant Step. To do this we generate values of $M^{c^j mod p} mod p$, where $j$ ranges from 0 to $N$, which we label as $y$ and then search for the point in $x$ such that $y=x$. When we find this point we then calculate $a$ which is $j(N)+x[y]$ where $x[y]$ is the location of $y$ in the table $x$ and $j$ is the counter value for when $y$ was in $x$.\n",
    "\n",
    "This section is based off ideas in [30] and [31]."
   ]
  },
  {
   "cell_type": "code",
   "execution_count": null,
   "metadata": {},
   "outputs": [],
   "source": [
    "def babygiant(M,p,g):\n",
    "    N=ceil(sqrt(p-1))\n",
    "    #ceil rounds up a decimal point, eg ceil(0.2)=1.\n",
    "    #We firstly need to find the square root of p-1\n",
    "    #for the baby step part of the method.\n",
    "    x={pow(g,i,p):i for i in range(N)}\n",
    "    #x is a table of all possible values that our actual x could be.\n",
    "    c=pow(g,N*(p-2),p)\n",
    "    #We compute g^-N to give our c value.\n",
    "    for j in range(N):\n",
    "        #We then search through the values of Mc^x (mod p)\n",
    "        #until we find a match in our table x.\n",
    "        #This is the giant step.\n",
    "        y=(M*pow(c,j,p))%p\n",
    "        if y in x:\n",
    "            return print('The Baby Step Giant Step has found that the value of a is ' + str(j*N+x[y]) + '.')\n",
    "    return print('There is no such a value.')\n",
    "babygiant(20,53,5)"
   ]
  },
  {
   "cell_type": "markdown",
   "metadata": {},
   "source": [
    "In order to explain how the Baby Step Giant Step Algorithm works we will use a simple example of $20 = 5^a (mod 53)$\n",
    "\n",
    "We have that $M=20$, $p=53$ and $g=5$ in this case. \n",
    "\n",
    "Our $N$ value is going to be ceiling$(\\sqrt{52})=8$ since $(\\sqrt{52})=7.211102551$ which rounds up to $8$.\n",
    "\n",
    "Then we produce a 'Baby Table' which we label '$x$'which will store $g^i (modp)$ in the form of {$g^i (mod p), i$}.\n",
    "\n",
    "This gives us: \n",
    "\n",
    "{$1: 0, 3: 7, 5: 1, 51: 5, 42: 4, 43: 6, 19: 3, 25:2$} \n",
    "\n",
    "So if $i=0$ we get $5^0 (mod53)$ which give us {$1:0$}.\n",
    "\n",
    "If $i=1$ we get $5^1 (mod 53)=5$ so {$5:1$}.\n",
    "\n",
    "If $i=2$ we get $5^2 (mod 53)=25$ so {$25:2$}.\n",
    "\n",
    "So subsequently we have a list of pairs from $0$ to $\\sqrt{p-1}$.\n",
    "\n",
    "Next we compute $g^{N(p-2)} (mod p)$ so in this case we have $c=5^{8(51)} (mod 53)$.\n",
    "\n",
    "The next step is searching through values of $y=M(c^j (mod p)) mod p$ for $j$ ranging between $0$ and $8$ in this case. \n",
    "\n",
    "So for $j=0$ we have $y=20(c^0 (mod 53)) (mod 53)$  which is $20$ and we run this until we find a value of $y$ such that it is in the table we've made called x. \n",
    "\n",
    "In our case for $j=1$ we have $y=19$ and since $19$ is in our $x$ dictionary at point $3$, we stop the loop and we have that our $x[y]=3$, our $j=1$ and our $N=8$.\n",
    "\n",
    "Finally, we know that our $a$ value is $j(N)+x[y]=1(8)+3$ which in this case we have $a=11$. This final stage is our 'Giant Step'.\n",
    "\n"
   ]
  },
  {
   "cell_type": "code",
   "execution_count": null,
   "metadata": {},
   "outputs": [],
   "source": [
    "#We test this with simple values first.\n",
    "print(babygiant(6,7,5))"
   ]
  },
  {
   "cell_type": "markdown",
   "metadata": {},
   "source": [
    "We now run the two alogirthms with the same values to see which is quicker. Similarly to how we assessed the Brute Force Algorithm above, we will increase the bit length of $a$ and $p$ each time and see how this affects running time."
   ]
  },
  {
   "cell_type": "code",
   "execution_count": null,
   "metadata": {},
   "outputs": [],
   "source": [
    "timetotal1=0\n",
    "timetotal2=0\n",
    "#Here we use two time variables for our two different methods.\n",
    "for i in range(1,6):\n",
    "    #Again we use a for loop to run this test 10 times.\n",
    "    bitlen = 20\n",
    "    p=random_prime(bitlen)\n",
    "    g=randint(2,100)\n",
    "    a1=random_int(bitlen)\n",
    "    m1=g**a1\n",
    "    M=m1%p\n",
    "    #We use the same M,p and g values for both algorithms to make it a comparable test.\n",
    "    start = timer()\n",
    "    brute_force_algo(M,p,g)\n",
    "    end=timer()\n",
    "    time1=end - start\n",
    "    start = timer()\n",
    "    babygiant(M,p,g)\n",
    "    end=timer()\n",
    "    time2=end - start\n",
    "    #We add the new time taken for both variables to their total so we can take an average once we have generated\n",
    "    #10 different times.\n",
    "    timetotal1=timetotal1+time1\n",
    "    timetotal2=timetotal2+time2\n",
    "    i=i+1\n",
    "#Now we have ran the loop 10 times, we can calculate an average for both methods and compare them.    \n",
    "brutetime20=timetotal1/5\n",
    "babytime20=timetotal2/5\n",
    "\n",
    "print('The time taken for the Brute Force Algorithm for ' + str(bitlen) + ' bits is ' + str(brutetime20) + ' seconds.')\n",
    "print('The time taken for the Baby Step Giant Step Algorithm for ' + str(bitlen) + ' bits is ' + str(babytime20) + ' seconds.')"
   ]
  },
  {
   "cell_type": "code",
   "execution_count": null,
   "metadata": {},
   "outputs": [],
   "source": [
    "timetotal1=0\n",
    "timetotal2=0\n",
    "for i in range(1,6):    \n",
    "    bitlen = 21\n",
    "    p=random_prime(bitlen)\n",
    "    g=randint(2,100)\n",
    "    a1=random_int(bitlen)\n",
    "    m1=g**a1\n",
    "    M=m1%p\n",
    "    start = timer()\n",
    "    brute_force_algo(M,p,g)\n",
    "    end=timer()\n",
    "    time1=end - start\n",
    "    start = timer()\n",
    "    babygiant(M,p,g)\n",
    "    end=timer()\n",
    "    time2=end - start\n",
    "    timetotal1=timetotal1+time1\n",
    "    timetotal2=timetotal2+time2\n",
    "    i=i+1\n",
    "brutetime21=timetotal1/5\n",
    "babytime21=timetotal2/5\n",
    "\n",
    "print('The time for the Brute Force Algorithm for ' + str(bitlen) + ' bits is ' + str(brutetime21) + ' seconds.')\n",
    "print('The time for the Baby Step Giant Step Algorithm for ' + str(bitlen) + ' bits is ' + str(babytime21) + ' seconds.')"
   ]
  },
  {
   "cell_type": "code",
   "execution_count": null,
   "metadata": {},
   "outputs": [],
   "source": [
    "timetotal1=0\n",
    "timetotal2=0\n",
    "for i in range(1,6):    \n",
    "    bitlen = 22\n",
    "    p=random_prime(bitlen)\n",
    "    g=randint(2,100)\n",
    "    a1=random_int(bitlen)\n",
    "    m1=g**a1\n",
    "    M=m1%p\n",
    "    start = timer()\n",
    "    brute_force_algo(M,p,g)\n",
    "    end=timer()\n",
    "    time1=end - start\n",
    "    start = timer()\n",
    "    babygiant(M,p,g)\n",
    "    end=timer()\n",
    "    time2=end - start\n",
    "    timetotal1=timetotal1+time1\n",
    "    timetotal2=timetotal2+time2\n",
    "    i=i+1\n",
    "brutetime22=timetotal1/5\n",
    "babytime22=timetotal2/5\n",
    "\n",
    "print('The time for the Brute Force Algorithm for ' + str(bitlen) + ' bits is ' + str(brutetime22) + ' seconds.')\n",
    "print('The time for the Baby Step Giant Step Algorithm for ' + str(bitlen) + ' bits is ' + str(babytime22) + ' seconds.')"
   ]
  },
  {
   "cell_type": "code",
   "execution_count": null,
   "metadata": {},
   "outputs": [],
   "source": [
    "timetotal1=0\n",
    "timetotal2=0\n",
    "for i in range(1,6):    \n",
    "    bitlen = 23\n",
    "    p=random_prime(bitlen)\n",
    "    g=randint(2,100)\n",
    "    a1=random_int(bitlen)\n",
    "    m1=g**a1\n",
    "    M=m1%p\n",
    "    start = timer()\n",
    "    brute_force_algo(M,p,g)\n",
    "    end=timer()\n",
    "    time1=end - start\n",
    "    start = timer()\n",
    "    babygiant(M,p,g)\n",
    "    end=timer()\n",
    "    time2=end - start\n",
    "    timetotal1=timetotal1+time1\n",
    "    timetotal2=timetotal2+time2\n",
    "    i=i+1\n",
    "brutetime23=timetotal1/5\n",
    "babytime23=timetotal2/5\n",
    "\n",
    "print('The time for the Brute Force Algorithm for ' + str(bitlen) + ' bits is ' + str(brutetime23) + ' seconds.')\n",
    "print('The time for the Baby Step Giant Step Algorithm for ' + str(bitlen) + ' bits is ' + str(babytime23) + ' seconds.')"
   ]
  },
  {
   "cell_type": "code",
   "execution_count": null,
   "metadata": {},
   "outputs": [],
   "source": [
    "timetotal1=0\n",
    "timetotal2=0\n",
    "for i in range(1,6):    \n",
    "    bitlen = 24\n",
    "    p=random_prime(bitlen)\n",
    "    g=randint(2,100)\n",
    "    a1=random_int(bitlen)\n",
    "    m1=g**a1\n",
    "    M=m1%p\n",
    "    start = timer()\n",
    "    brute_force_algo(M,p,g)\n",
    "    end=timer()\n",
    "    time1=end - start\n",
    "    start = timer()\n",
    "    babygiant(M,p,g)\n",
    "    end=timer()\n",
    "    time2=end - start\n",
    "    timetotal1=timetotal1+time1\n",
    "    timetotal2=timetotal2+time2\n",
    "    i=i+1\n",
    "brutetime24=timetotal1/5\n",
    "babytime24=timetotal2/5\n",
    "\n",
    "print('The time for the Brute Force Algorithm for ' + str(bitlen) + ' bits is ' + str(brutetime24) + ' seconds.')\n",
    "print('The time for the Baby Step Giant Step Algorithm for ' + str(bitlen) + ' bits is ' + str(babytime24) + ' seconds.')"
   ]
  },
  {
   "cell_type": "code",
   "execution_count": null,
   "metadata": {},
   "outputs": [],
   "source": [
    "timetotal1=0\n",
    "timetotal2=0\n",
    "for i in range(1,6):    \n",
    "    bitlen = 25\n",
    "    p=random_prime(bitlen)\n",
    "    g=randint(2,100)\n",
    "    a1=random_int(bitlen)\n",
    "    m1=g**a1\n",
    "    M=m1%p\n",
    "    start = timer()\n",
    "    brute_force_algo(M,p,g)\n",
    "    end=timer()\n",
    "    time1=end - start\n",
    "    start = timer()\n",
    "    babygiant(M,p,g)\n",
    "    end=timer()\n",
    "    time2=end - start\n",
    "    timetotal1=timetotal1+time1\n",
    "    timetotal2=timetotal2+time2\n",
    "    i=i+1\n",
    "brutetime25=timetotal1/5\n",
    "babytime25=timetotal2/5\n",
    "\n",
    "print('The time for the Brute Force Algorithm for ' + str(bitlen) + ' bits is ' + str(brutetime25) + ' seconds.')\n",
    "print('The time for the Baby Step Giant Step Algorithm for ' + str(bitlen) + ' bits is ' + str(babytime25) + ' seconds.')"
   ]
  },
  {
   "cell_type": "code",
   "execution_count": null,
   "metadata": {},
   "outputs": [],
   "source": [
    "timetotal1=0\n",
    "timetotal2=0\n",
    "for i in range(1,6):    \n",
    "    bitlen = 26\n",
    "    p=random_prime(bitlen)\n",
    "    g=randint(2,100)\n",
    "    a1=random_int(bitlen)\n",
    "    m1=g**a1\n",
    "    M=m1%p\n",
    "    start = timer()\n",
    "    brute_force_algo(M,p,g)\n",
    "    end=timer()\n",
    "    time1=end - start\n",
    "    start = timer()\n",
    "    babygiant(M,p,g)\n",
    "    end=timer()\n",
    "    time2=end - start\n",
    "    timetotal1=timetotal1+time1\n",
    "    timetotal2=timetotal2+time2\n",
    "    i=i+1\n",
    "brutetime26=timetotal1/5\n",
    "babytime26=timetotal2/5\n",
    "\n",
    "print('The time for the Brute Force Algorithm for ' + str(bitlen) + ' bits is ' + str(brutetime26) + ' seconds.')\n",
    "print('The time for the Baby Step Giant Step Algorithm for ' + str(bitlen) + ' bits is ' + str(babytime26) + ' seconds.')"
   ]
  },
  {
   "cell_type": "markdown",
   "metadata": {},
   "source": [
    "We will now display our findings in a table and a graph, so we can directly compare how changing bit lengths of $a$ and $p$ change the processing times of the two algorithms."
   ]
  },
  {
   "cell_type": "code",
   "execution_count": null,
   "metadata": {},
   "outputs": [],
   "source": [
    "#We want to display our new information in a table and so we create three lists of our new times.\n",
    "a=[20,21,22,23,24,25,26]\n",
    "brutevals=[brutetime20,brutetime21,brutetime22,brutetime23,brutetime24,brutetime25, brutetime26]\n",
    "babyvals=[babytime20,babytime21,babytime22,babytime23,babytime24,babytime25,babytime26]\n",
    "\n",
    "#Now we will calculate the ratio of the times to see compartively how much\n",
    "#slower the Brute Force Method is.\n",
    "ratio=[]\n",
    "for i in range(0,len(a)):\n",
    "    diff=babyvals[i]/brutevals[i]\n",
    "    ratio.append(diff)\n",
    "    \n",
    "values = np.transpose(np.array([a,brutevals,babyvals,ratio]))\n",
    "\n",
    "#We use the pandas functions to generate this table.\n",
    "\n",
    "df=pd.DataFrame(values)\n",
    "df.columns = ['Bit Length of a and p', 'Brute Force Time Taken', 'BSGS Time Taken', 'Ratio']\n",
    "df"
   ]
  },
  {
   "cell_type": "markdown",
   "metadata": {},
   "source": [
    "So, we have from the table that the Baby Step Giant Step method is significantly quicker than the Brute Force Method. However the ratio is not a consistent value and as such, with this data set, we cannot say definitively how much quicker the BSGS method is."
   ]
  },
  {
   "cell_type": "code",
   "execution_count": null,
   "metadata": {},
   "outputs": [],
   "source": [
    "plt.plot(a, brutevals, label = 'Brute Force')\n",
    "plt.plot(a, babyvals, label = 'Baby Step Giant Step')\n",
    "plt.title('Graph Comparing Brute Force and Baby Step Giant Step')\n",
    "plt.xlabel('Bit length of a and p')\n",
    "plt.ylabel('Time(secs)')\n",
    "plt.legend()\n",
    "#We plot our time values for both methods and ranges of bit values to compare them.\n",
    "#In this case the Brute Force method is in blue and the Baby Step Giant Step Method is in orange.\n",
    "plt.show()"
   ]
  },
  {
   "cell_type": "markdown",
   "metadata": {},
   "source": [
    "So clearly there is a huge difference between the time taken for the Brute Force Algorithm and the Baby Step Giant Step Algorithm."
   ]
  },
  {
   "cell_type": "code",
   "execution_count": null,
   "metadata": {},
   "outputs": [],
   "source": [
    "plt.plot(a, ratio)\n",
    "plt.title('Graph Showing the Ratio of Times for a Given Bit Length')\n",
    "plt.xlabel('Bit length of a and p')\n",
    "plt.ylabel('Time taken for Brute Force/BSGS')\n",
    "plt.show()"
   ]
  },
  {
   "cell_type": "markdown",
   "metadata": {},
   "source": [
    "As we can see from the graph, the Baby Step Giant Step method is quicker, however there is still an issue when a large bit length is used. We have only been able to compare up to $26$ bits for $a$ and $p$, since the time taken to calculate $M$ takes too long with larger bit lengths.\n",
    "\n",
    "Unfortunately, since we are limited to only running code that works in a reasonable time, we cannot calculate the time taken for larger bits. Nevertheless you can see that for the Brute Force Algorithm, the curve shown is not increasing linearly and so we can safely say that the time taken for the Brute Force would eventually become ridiculously long. \n",
    "\n",
    "Should we have a machine which was able to compute $M$ faster, or should we use values of $M$, $p$ and $g$ which we already knew to work for an unknown $a$, then we could do this process quicker, however when testing on integers of such large bit values, we aren't aware of solutions to $M=g^a (mod p)$ which we can use without having to work them out before hand. \n",
    "\n",
    "We have chosen to repeat each run of the algortithm ten times, to try and avoid the time being skewed by any anomalies, as anomalies were occuring before we introduced re-runs of the test. By this we mean on occasion for larger bit values of $a$ and $p$ we found that $a$ was found really quickly compared to smaller bit values and this did not fit with the overall trend. \n",
    "\n",
    "Nevertheless, we can conclude from our findings that the Brute Force Method is comparatively ineffective at solving our problem and the Baby Step Giant Step method is far superior."
   ]
  },
  {
   "cell_type": "markdown",
   "metadata": {},
   "source": [
    "# Conclusion\n",
    "\n",
    "In this project, we have shown various approaches to encryption and decryption and delved into the security implications involved. We have discussed how these methods have changed over times as well as some of the modern day usages of them. We have considered some basic ciphers such as the Caesar, Vigenere and Affine Ciphers and showed how these can be easily broken. We then considered one of the most widely used encryption methods today: RSA. We showed how such a method can be implemented and also how to break such a method can be incredibly time-consuming. We looked at some different methods for attempting to break such a method including Pollard's Rho Method and Dixon's Factorisation Algorithm, although all were found to be inneffective and virtually useless when considering the size of primes used in RSA encryption. Thus, we came to the conclusion that such an encryption method is incredibly secure. We also examined the Diffie-Hellman Key Exchange and looked at how effective such a method can be with regards to encryption and decryption. Overall, this project has highlighted some strengths in modern day cryptography whilst also showing, using mathematical programming, how one may attempt to decipher messages encrypted in such a fashion using the aid of such tools as Python. "
   ]
  },
  {
   "cell_type": "markdown",
   "metadata": {},
   "source": [
    "# References\n",
    "\n",
    "[1] Sweigart, A. (2016) $\\textit{Invent Your Own Computer Games with Python, 4th Edition}$, No Starch Press, Chapter 14.\n",
    "\n",
    "[2] Sweigart, A. (2017) $\\textit{Cracking Codes With Python: An Inroduction to Building and Breaking Ciphers}$, No Starch Press, Chapter 18.\n",
    "\n",
    "[3] https://en.wikipedia.org/wiki/Vigen%C3%A8re_cipher#/media/File:Vigen%C3%A8re_square_shading.svg\n",
    "\n",
    "[4] Sweigart, A. (2017) $\\textit{Cracking Codes With Python: An Inroduction to Building and Breaking Ciphers}$, No Starch Press, Chapters 6, 19 and 20.\n",
    "\n",
    "[5]  Bruen, Aiden A. & Forcinito, Mario A. (2011). $\\textit{Cryptography, Information Theory, and Error-Correction: A Handbook for the 21st Century}$, John Wiley & Sons\n",
    "\n",
    "[6] https://www.dcode.fr/vigenere-cipher\n",
    "\n",
    "[7] https://crypto.stackexchange.com/questions/3417/relative-security-of-a-vigenère-cipher\n",
    "\n",
    "[8] Sweigart, A. (2017) $\\textit{Cracking Codes With Python: An Inroduction to Building and Breaking Ciphers}$, No Starch Press, Chapters 14 and 15.\n",
    "\n",
    "[9] Calderbank, M. (2007). $\\textit{The RSA Cryptosystem: History, Algorithm, Primes}$, University of Chicago, Department of Mathematics\n",
    "\n",
    "[10] Kleinjung, T. (2010). $\\textit{Factorization of a 768-bit RSA modulus}$, Springer\n",
    "\n",
    "[11] Zobrist, A. L. (1970). $\\textit{A New Hashing Method with Application for Game Playing}$, University of Wisconsin-Madison \n",
    "\n",
    "[12] Naik, A. V.; Regan, K. W.; Sivakumar, D. (1995). On Quasilinear Time Complexity Theory. $\\textit{Theoretical Computer Science}$, 148(2), pp. 325-349\n",
    "\n",
    "[13] Harris, C. (2020). Mathematical Programming - Lecture 18, lecture notes, Mathematical Programming, Bristol University, delivered 21 April 2020 \n",
    "\n",
    "[14] Rivest, R.; Shamir, A.; Adleman, L. (1978). $\\textit{A Method for Obtaining Digital Signatures and Public-Key Cryptosystems}$.\n",
    "\n",
    "[15] Robinson, S. (2003). $\\textit{Still Guarding Secrets after Years of Attacks, RSA Earns Accolades for its Founders}$\n",
    "\n",
    "[16] Weissman, M. H. (2017). $\\textit{Python for number theory, Part 7: The RSA Cryptosystem in Python 3.x}$ available at https://nbviewer.jupyter.org/github/MartyWeissman/Python-for-number-theory/blob/master/P3wNT%20Notebook%207.ipynb\n",
    "\n",
    "[17] Munzer Manzlgi, IOPub data rate exceeded in Jupyter notebook, https://stackoverflow.com/questions/43288550/iopub-data-rate-exceeded-in-jupyter-notebook-when-viewing-image\n",
    "\n",
    "[18] Unknown. (2010). Solo Desktop Factorization of an RSA-512 Key, $\\textit{No Tricks}$, available at http://lukenotricks.blogspot.com/2009/08/solo-desktop-factorization-of-rsa-512.html\n",
    "\n",
    "[19] Goemans, M. (2015). Factoring, lecture notes, Principles of Discrete Applied Mathematics 18.310A, MIT, delivered 22 April 2015\n",
    "\n",
    "[20] Pollard, J. M. (1975). A Monte Carlo Method for Factorization. $\\textit{BIT Numerical Mathematics}$, 15(3), pp. 331–334.\n",
    "\n",
    "[21] Lenstra, A. K. (2000). Integer Factoring. $\\textit{Designs, Codes and Cryptography : An International Journal}$, 19(2-3), pp. 101–128.\n",
    "\n",
    "[22] Galbraith, S. D. (2012). $\\textit{Mathematics of public key cryptography}$, Cambridge: Cambridge University Press, Chapter 14\n",
    "\n",
    "[23] Pollard, J. M. (1974). Theorems on Factorization and Primality Testing. $\\textit{Mathematical Proceedings of the Cambridge Philosophical Society}$ 76(3), pp. 521–528.\n",
    "\n",
    "[24] Pollak, R. (2018). $\\textit{Pollard's p-1 Factorization}$, Pollak, available at: http://robin.pollak.io/wizard_factoring.pdf\n",
    "\n",
    "[25] Dixon, J. D. (1981). Asymptotically fast factorization of integers. $\\textit{Matematics of Computation}$, 36(153), pp. 255–260\n",
    "\n",
    "[26] Nayal C. (2020). $\\textit{Dixon’s Factorization Method with implementation}$, available at https://www.geeksforgeeks.org/dixons-factorization-method-with-implementation/\n",
    "\n",
    "[27] https://www.comparitech.com/blog/information-security/diffie-hellman-key-exchange/\n",
    "\n",
    "[28] Nazrul, S. S. (2019). Diffie-Hellman Key Exchange explained (Python), $\\textit{Medium}$, available at https://medium.com/@sadatnazrul/diffie-hellman-key-exchange-explained-python-8d67c378701c\n",
    "\n",
    "[29] https://crypto.stackexchange.com/questions/1025/can-one-generalize-the-diffie-hellman-key-exchange-to-three-or-more-parties\n",
    "\n",
    "[30] Gasarch, W. (2015) $\\textit{Baby-Step/Giant Step DL Algorithm}$, available at http://www.cs.umd.edu/~gasarch/COURSES/198/Su14/baby.pdf\n",
    "\n",
    "[31] Buchanan, Prof. B. (2018). Baby-Step, Giant-Step: Solving Discrete Logarithms and Why It’s A Hard Problem To Solve, $\\textit{Medium}$, available at https://medium.com/asecuritysite-when-bob-met-alice/baby-step-giant-step-solving-discrete-logarithms-and-why-its-a-hard-problem-to-solve-62b11bbe3088"
   ]
  }
 ],
 "metadata": {
  "kernelspec": {
   "display_name": "Python 3",
   "language": "python",
   "name": "python3"
  },
  "language_info": {
   "codemirror_mode": {
    "name": "ipython",
    "version": 3
   },
   "file_extension": ".py",
   "mimetype": "text/x-python",
   "name": "python",
   "nbconvert_exporter": "python",
   "pygments_lexer": "ipython3",
   "version": "3.7.4"
  }
 },
 "nbformat": 4,
 "nbformat_minor": 2
}
